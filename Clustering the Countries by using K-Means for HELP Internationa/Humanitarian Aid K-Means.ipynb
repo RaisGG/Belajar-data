{
  "nbformat": 4,
  "nbformat_minor": 0,
  "metadata": {
    "colab": {
      "name": "QuizAkhir.ipynb",
      "provenance": [],
      "collapsed_sections": []
    },
    "kernelspec": {
      "name": "python3",
      "display_name": "Python 3"
    },
    "language_info": {
      "name": "python"
    },
    "accelerator": "GPU"
  },
  "cells": [
    {
      "cell_type": "markdown",
      "metadata": {
        "id": "s0yw_zFZQXWJ"
      },
      "source": [
        "## 1. import required libraries"
      ]
    },
    {
      "cell_type": "code",
      "metadata": {
        "id": "UNErPvszpuda"
      },
      "source": [
        "import numpy as np\n",
        "import pandas as pd"
      ],
      "execution_count": 1,
      "outputs": []
    },
    {
      "cell_type": "code",
      "metadata": {
        "id": "pVr41ia7JqZR"
      },
      "source": [
        "import matplotlib.pyplot as plt\n",
        "import seaborn as sns"
      ],
      "execution_count": 2,
      "outputs": []
    },
    {
      "cell_type": "code",
      "metadata": {
        "id": "9nq8uaUAJzVS"
      },
      "source": [
        "import sklearn\n",
        "from sklearn.preprocessing import MinMaxScaler\n",
        "from sklearn.preprocessing import StandardScaler\n",
        "from sklearn.neighbors import NearestNeighbors\n",
        "from sklearn.metrics import silhouette_score\n",
        "from sklearn.cluster import KMeans"
      ],
      "execution_count": 6,
      "outputs": []
    },
    {
      "cell_type": "markdown",
      "metadata": {
        "id": "-nznCLuoQnPo"
      },
      "source": [
        "## 2. Read and Understand the data set"
      ]
    },
    {
      "cell_type": "code",
      "metadata": {
        "colab": {
          "base_uri": "https://localhost:8080/",
          "height": 203
        },
        "id": "NPVkzai_KCFT",
        "outputId": "e4c806b3-bfc7-4d08-fba9-8c6062a9be0b"
      },
      "source": [
        "df = pd.read_csv('Data_Negara_HELP.csv')\n",
        "df.head()"
      ],
      "execution_count": 10,
      "outputs": [
        {
          "output_type": "execute_result",
          "data": {
            "text/html": [
              "<div>\n",
              "<style scoped>\n",
              "    .dataframe tbody tr th:only-of-type {\n",
              "        vertical-align: middle;\n",
              "    }\n",
              "\n",
              "    .dataframe tbody tr th {\n",
              "        vertical-align: top;\n",
              "    }\n",
              "\n",
              "    .dataframe thead th {\n",
              "        text-align: right;\n",
              "    }\n",
              "</style>\n",
              "<table border=\"1\" class=\"dataframe\">\n",
              "  <thead>\n",
              "    <tr style=\"text-align: right;\">\n",
              "      <th></th>\n",
              "      <th>Negara</th>\n",
              "      <th>Kematian_anak</th>\n",
              "      <th>Ekspor</th>\n",
              "      <th>Kesehatan</th>\n",
              "      <th>Impor</th>\n",
              "      <th>Pendapatan</th>\n",
              "      <th>Inflasi</th>\n",
              "      <th>Harapan_hidup</th>\n",
              "      <th>Jumlah_fertiliti</th>\n",
              "      <th>GDPperkapita</th>\n",
              "    </tr>\n",
              "  </thead>\n",
              "  <tbody>\n",
              "    <tr>\n",
              "      <th>0</th>\n",
              "      <td>Afghanistan</td>\n",
              "      <td>90.2</td>\n",
              "      <td>10.0</td>\n",
              "      <td>7.58</td>\n",
              "      <td>44.9</td>\n",
              "      <td>1610</td>\n",
              "      <td>9.44</td>\n",
              "      <td>56.2</td>\n",
              "      <td>5.82</td>\n",
              "      <td>553</td>\n",
              "    </tr>\n",
              "    <tr>\n",
              "      <th>1</th>\n",
              "      <td>Albania</td>\n",
              "      <td>16.6</td>\n",
              "      <td>28.0</td>\n",
              "      <td>6.55</td>\n",
              "      <td>48.6</td>\n",
              "      <td>9930</td>\n",
              "      <td>4.49</td>\n",
              "      <td>76.3</td>\n",
              "      <td>1.65</td>\n",
              "      <td>4090</td>\n",
              "    </tr>\n",
              "    <tr>\n",
              "      <th>2</th>\n",
              "      <td>Algeria</td>\n",
              "      <td>27.3</td>\n",
              "      <td>38.4</td>\n",
              "      <td>4.17</td>\n",
              "      <td>31.4</td>\n",
              "      <td>12900</td>\n",
              "      <td>16.10</td>\n",
              "      <td>76.5</td>\n",
              "      <td>2.89</td>\n",
              "      <td>4460</td>\n",
              "    </tr>\n",
              "    <tr>\n",
              "      <th>3</th>\n",
              "      <td>Angola</td>\n",
              "      <td>119.0</td>\n",
              "      <td>62.3</td>\n",
              "      <td>2.85</td>\n",
              "      <td>42.9</td>\n",
              "      <td>5900</td>\n",
              "      <td>22.40</td>\n",
              "      <td>60.1</td>\n",
              "      <td>6.16</td>\n",
              "      <td>3530</td>\n",
              "    </tr>\n",
              "    <tr>\n",
              "      <th>4</th>\n",
              "      <td>Antigua and Barbuda</td>\n",
              "      <td>10.3</td>\n",
              "      <td>45.5</td>\n",
              "      <td>6.03</td>\n",
              "      <td>58.9</td>\n",
              "      <td>19100</td>\n",
              "      <td>1.44</td>\n",
              "      <td>76.8</td>\n",
              "      <td>2.13</td>\n",
              "      <td>12200</td>\n",
              "    </tr>\n",
              "  </tbody>\n",
              "</table>\n",
              "</div>"
            ],
            "text/plain": [
              "                Negara  Kematian_anak  ...  Jumlah_fertiliti  GDPperkapita\n",
              "0          Afghanistan           90.2  ...              5.82           553\n",
              "1              Albania           16.6  ...              1.65          4090\n",
              "2              Algeria           27.3  ...              2.89          4460\n",
              "3               Angola          119.0  ...              6.16          3530\n",
              "4  Antigua and Barbuda           10.3  ...              2.13         12200\n",
              "\n",
              "[5 rows x 10 columns]"
            ]
          },
          "metadata": {},
          "execution_count": 10
        }
      ]
    },
    {
      "cell_type": "code",
      "metadata": {
        "colab": {
          "base_uri": "https://localhost:8080/"
        },
        "id": "IssUsg5EJ3Ug",
        "outputId": "d4c65233-c76c-4de6-e2ee-5ead8141709e"
      },
      "source": [
        "# Memeriksa jumlah kolom dan baris dataframe menggunakan shape function\n",
        "df.shape"
      ],
      "execution_count": 11,
      "outputs": [
        {
          "output_type": "execute_result",
          "data": {
            "text/plain": [
              "(167, 10)"
            ]
          },
          "metadata": {},
          "execution_count": 11
        }
      ]
    },
    {
      "cell_type": "code",
      "metadata": {
        "colab": {
          "base_uri": "https://localhost:8080/"
        },
        "id": "AXzzVXbFLatC",
        "outputId": "40e41fb1-635c-4493-b154-7dfd48084cb3"
      },
      "source": [
        "# MEngecek informasi dataset\n",
        "df.info()"
      ],
      "execution_count": 12,
      "outputs": [
        {
          "output_type": "stream",
          "name": "stdout",
          "text": [
            "<class 'pandas.core.frame.DataFrame'>\n",
            "RangeIndex: 167 entries, 0 to 166\n",
            "Data columns (total 10 columns):\n",
            " #   Column            Non-Null Count  Dtype  \n",
            "---  ------            --------------  -----  \n",
            " 0   Negara            167 non-null    object \n",
            " 1   Kematian_anak     167 non-null    float64\n",
            " 2   Ekspor            167 non-null    float64\n",
            " 3   Kesehatan         167 non-null    float64\n",
            " 4   Impor             167 non-null    float64\n",
            " 5   Pendapatan        167 non-null    int64  \n",
            " 6   Inflasi           167 non-null    float64\n",
            " 7   Harapan_hidup     167 non-null    float64\n",
            " 8   Jumlah_fertiliti  167 non-null    float64\n",
            " 9   GDPperkapita      167 non-null    int64  \n",
            "dtypes: float64(7), int64(2), object(1)\n",
            "memory usage: 13.2+ KB\n"
          ]
        }
      ]
    },
    {
      "cell_type": "code",
      "metadata": {
        "colab": {
          "base_uri": "https://localhost:8080/",
          "height": 295
        },
        "id": "-tmzrKt6La1j",
        "outputId": "1423f31c-59b1-4651-eed7-835b5d049fe7"
      },
      "source": [
        "# mengecek statistik deskriptif\n",
        "df.describe()"
      ],
      "execution_count": 13,
      "outputs": [
        {
          "output_type": "execute_result",
          "data": {
            "text/html": [
              "<div>\n",
              "<style scoped>\n",
              "    .dataframe tbody tr th:only-of-type {\n",
              "        vertical-align: middle;\n",
              "    }\n",
              "\n",
              "    .dataframe tbody tr th {\n",
              "        vertical-align: top;\n",
              "    }\n",
              "\n",
              "    .dataframe thead th {\n",
              "        text-align: right;\n",
              "    }\n",
              "</style>\n",
              "<table border=\"1\" class=\"dataframe\">\n",
              "  <thead>\n",
              "    <tr style=\"text-align: right;\">\n",
              "      <th></th>\n",
              "      <th>Kematian_anak</th>\n",
              "      <th>Ekspor</th>\n",
              "      <th>Kesehatan</th>\n",
              "      <th>Impor</th>\n",
              "      <th>Pendapatan</th>\n",
              "      <th>Inflasi</th>\n",
              "      <th>Harapan_hidup</th>\n",
              "      <th>Jumlah_fertiliti</th>\n",
              "      <th>GDPperkapita</th>\n",
              "    </tr>\n",
              "  </thead>\n",
              "  <tbody>\n",
              "    <tr>\n",
              "      <th>count</th>\n",
              "      <td>167.000000</td>\n",
              "      <td>167.000000</td>\n",
              "      <td>167.000000</td>\n",
              "      <td>167.000000</td>\n",
              "      <td>167.000000</td>\n",
              "      <td>167.000000</td>\n",
              "      <td>167.000000</td>\n",
              "      <td>167.000000</td>\n",
              "      <td>167.000000</td>\n",
              "    </tr>\n",
              "    <tr>\n",
              "      <th>mean</th>\n",
              "      <td>38.270060</td>\n",
              "      <td>41.108976</td>\n",
              "      <td>6.815689</td>\n",
              "      <td>46.890215</td>\n",
              "      <td>17144.688623</td>\n",
              "      <td>7.781832</td>\n",
              "      <td>70.555689</td>\n",
              "      <td>2.947964</td>\n",
              "      <td>12964.155689</td>\n",
              "    </tr>\n",
              "    <tr>\n",
              "      <th>std</th>\n",
              "      <td>40.328931</td>\n",
              "      <td>27.412010</td>\n",
              "      <td>2.746837</td>\n",
              "      <td>24.209589</td>\n",
              "      <td>19278.067698</td>\n",
              "      <td>10.570704</td>\n",
              "      <td>8.893172</td>\n",
              "      <td>1.513848</td>\n",
              "      <td>18328.704809</td>\n",
              "    </tr>\n",
              "    <tr>\n",
              "      <th>min</th>\n",
              "      <td>2.600000</td>\n",
              "      <td>0.109000</td>\n",
              "      <td>1.810000</td>\n",
              "      <td>0.065900</td>\n",
              "      <td>609.000000</td>\n",
              "      <td>-4.210000</td>\n",
              "      <td>32.100000</td>\n",
              "      <td>1.150000</td>\n",
              "      <td>231.000000</td>\n",
              "    </tr>\n",
              "    <tr>\n",
              "      <th>25%</th>\n",
              "      <td>8.250000</td>\n",
              "      <td>23.800000</td>\n",
              "      <td>4.920000</td>\n",
              "      <td>30.200000</td>\n",
              "      <td>3355.000000</td>\n",
              "      <td>1.810000</td>\n",
              "      <td>65.300000</td>\n",
              "      <td>1.795000</td>\n",
              "      <td>1330.000000</td>\n",
              "    </tr>\n",
              "    <tr>\n",
              "      <th>50%</th>\n",
              "      <td>19.300000</td>\n",
              "      <td>35.000000</td>\n",
              "      <td>6.320000</td>\n",
              "      <td>43.300000</td>\n",
              "      <td>9960.000000</td>\n",
              "      <td>5.390000</td>\n",
              "      <td>73.100000</td>\n",
              "      <td>2.410000</td>\n",
              "      <td>4660.000000</td>\n",
              "    </tr>\n",
              "    <tr>\n",
              "      <th>75%</th>\n",
              "      <td>62.100000</td>\n",
              "      <td>51.350000</td>\n",
              "      <td>8.600000</td>\n",
              "      <td>58.750000</td>\n",
              "      <td>22800.000000</td>\n",
              "      <td>10.750000</td>\n",
              "      <td>76.800000</td>\n",
              "      <td>3.880000</td>\n",
              "      <td>14050.000000</td>\n",
              "    </tr>\n",
              "    <tr>\n",
              "      <th>max</th>\n",
              "      <td>208.000000</td>\n",
              "      <td>200.000000</td>\n",
              "      <td>17.900000</td>\n",
              "      <td>174.000000</td>\n",
              "      <td>125000.000000</td>\n",
              "      <td>104.000000</td>\n",
              "      <td>82.800000</td>\n",
              "      <td>7.490000</td>\n",
              "      <td>105000.000000</td>\n",
              "    </tr>\n",
              "  </tbody>\n",
              "</table>\n",
              "</div>"
            ],
            "text/plain": [
              "       Kematian_anak      Ekspor  ...  Jumlah_fertiliti   GDPperkapita\n",
              "count     167.000000  167.000000  ...        167.000000     167.000000\n",
              "mean       38.270060   41.108976  ...          2.947964   12964.155689\n",
              "std        40.328931   27.412010  ...          1.513848   18328.704809\n",
              "min         2.600000    0.109000  ...          1.150000     231.000000\n",
              "25%         8.250000   23.800000  ...          1.795000    1330.000000\n",
              "50%        19.300000   35.000000  ...          2.410000    4660.000000\n",
              "75%        62.100000   51.350000  ...          3.880000   14050.000000\n",
              "max       208.000000  200.000000  ...          7.490000  105000.000000\n",
              "\n",
              "[8 rows x 9 columns]"
            ]
          },
          "metadata": {},
          "execution_count": 13
        }
      ]
    },
    {
      "cell_type": "code",
      "metadata": {
        "colab": {
          "base_uri": "https://localhost:8080/"
        },
        "id": "dcorsRzHOEt6",
        "outputId": "e352a073-50e3-4f06-8aa4-9f1e1528aa04"
      },
      "source": [
        "# mengecek nama kolom\n",
        "df.columns"
      ],
      "execution_count": 14,
      "outputs": [
        {
          "output_type": "execute_result",
          "data": {
            "text/plain": [
              "Index(['Negara', 'Kematian_anak', 'Ekspor', 'Kesehatan', 'Impor', 'Pendapatan',\n",
              "       'Inflasi', 'Harapan_hidup', 'Jumlah_fertiliti', 'GDPperkapita'],\n",
              "      dtype='object')"
            ]
          },
          "metadata": {},
          "execution_count": 14
        }
      ]
    },
    {
      "cell_type": "markdown",
      "metadata": {
        "id": "_6QAfUEkOQ6e"
      },
      "source": [
        "Insights:\n",
        "\n",
        "- Data set terdiri dari 167 Negara dimana masing-masing memiliki 10 fitur.\n",
        "- Tidak ada missing value ataupun duplikat dari dataset\n",
        "- Referring to data dictionary, exports, health and imports are given as %age of GDP per capita. So lets convert it to actual value"
      ]
    },
    {
      "cell_type": "code",
      "metadata": {
        "colab": {
          "base_uri": "https://localhost:8080/"
        },
        "id": "W8Sb13LEOIeC",
        "outputId": "f371a077-7b7d-4cbc-bfd2-37ed5b583e82"
      },
      "source": [
        "# Memastikan jumlah missing value\n",
        "df.isnull().sum()"
      ],
      "execution_count": 15,
      "outputs": [
        {
          "output_type": "execute_result",
          "data": {
            "text/plain": [
              "Negara              0\n",
              "Kematian_anak       0\n",
              "Ekspor              0\n",
              "Kesehatan           0\n",
              "Impor               0\n",
              "Pendapatan          0\n",
              "Inflasi             0\n",
              "Harapan_hidup       0\n",
              "Jumlah_fertiliti    0\n",
              "GDPperkapita        0\n",
              "dtype: int64"
            ]
          },
          "metadata": {},
          "execution_count": 15
        }
      ]
    },
    {
      "cell_type": "markdown",
      "metadata": {
        "id": "NiT-qTVgO6zU"
      },
      "source": [
        "Kita akan mengubah nilai impor, ekspor dan kesehatan dari nilai persentase ke nilai aktual PDB per kapita, karena nilai persentase tidak memberikan gambaran yang jelas tentang negara itu.\n",
        "\n",
        "Seperti: - Austria dan Belarus memiliki % ekspor yang hampir sama tetapi gdpp mereka memiliki kesenjangan besar dan tidak memberikan gambaran yang akurat tentang negara mana yang lebih maju daripada yang lain. Kemudian kita akan menghapus kolom Negara dan menyimpannya sebagai nama baris dalam dataframe akhir."
      ]
    },
    {
      "cell_type": "code",
      "metadata": {
        "colab": {
          "base_uri": "https://localhost:8080/",
          "height": 203
        },
        "id": "UwMuQFQgOo7_",
        "outputId": "f1c7a353-b32d-4eb5-abe7-ac66f38f23c2"
      },
      "source": [
        "# mengubah import, export dan kesehatan dari persentasi menjadi nilai absolut dengan menggunakan kolom GDB/Kapita.\n",
        "\n",
        "df['Impor'] = df['Impor'] * df['GDPperkapita']/100\n",
        "df['Ekspor'] = df['Ekspor'] * df['GDPperkapita']/100\n",
        "df['Kesehatan'] = df['Kesehatan'] * df['GDPperkapita']/100\n",
        "\n",
        "df.head()"
      ],
      "execution_count": 19,
      "outputs": [
        {
          "output_type": "execute_result",
          "data": {
            "text/html": [
              "<div>\n",
              "<style scoped>\n",
              "    .dataframe tbody tr th:only-of-type {\n",
              "        vertical-align: middle;\n",
              "    }\n",
              "\n",
              "    .dataframe tbody tr th {\n",
              "        vertical-align: top;\n",
              "    }\n",
              "\n",
              "    .dataframe thead th {\n",
              "        text-align: right;\n",
              "    }\n",
              "</style>\n",
              "<table border=\"1\" class=\"dataframe\">\n",
              "  <thead>\n",
              "    <tr style=\"text-align: right;\">\n",
              "      <th></th>\n",
              "      <th>Negara</th>\n",
              "      <th>Kematian_anak</th>\n",
              "      <th>Ekspor</th>\n",
              "      <th>Kesehatan</th>\n",
              "      <th>Impor</th>\n",
              "      <th>Pendapatan</th>\n",
              "      <th>Inflasi</th>\n",
              "      <th>Harapan_hidup</th>\n",
              "      <th>Jumlah_fertiliti</th>\n",
              "      <th>GDPperkapita</th>\n",
              "    </tr>\n",
              "  </thead>\n",
              "  <tbody>\n",
              "    <tr>\n",
              "      <th>0</th>\n",
              "      <td>Afghanistan</td>\n",
              "      <td>90.2</td>\n",
              "      <td>55.30</td>\n",
              "      <td>41.9174</td>\n",
              "      <td>248.297</td>\n",
              "      <td>1610</td>\n",
              "      <td>9.44</td>\n",
              "      <td>56.2</td>\n",
              "      <td>5.82</td>\n",
              "      <td>553</td>\n",
              "    </tr>\n",
              "    <tr>\n",
              "      <th>1</th>\n",
              "      <td>Albania</td>\n",
              "      <td>16.6</td>\n",
              "      <td>1145.20</td>\n",
              "      <td>267.8950</td>\n",
              "      <td>1987.740</td>\n",
              "      <td>9930</td>\n",
              "      <td>4.49</td>\n",
              "      <td>76.3</td>\n",
              "      <td>1.65</td>\n",
              "      <td>4090</td>\n",
              "    </tr>\n",
              "    <tr>\n",
              "      <th>2</th>\n",
              "      <td>Algeria</td>\n",
              "      <td>27.3</td>\n",
              "      <td>1712.64</td>\n",
              "      <td>185.9820</td>\n",
              "      <td>1400.440</td>\n",
              "      <td>12900</td>\n",
              "      <td>16.10</td>\n",
              "      <td>76.5</td>\n",
              "      <td>2.89</td>\n",
              "      <td>4460</td>\n",
              "    </tr>\n",
              "    <tr>\n",
              "      <th>3</th>\n",
              "      <td>Angola</td>\n",
              "      <td>119.0</td>\n",
              "      <td>2199.19</td>\n",
              "      <td>100.6050</td>\n",
              "      <td>1514.370</td>\n",
              "      <td>5900</td>\n",
              "      <td>22.40</td>\n",
              "      <td>60.1</td>\n",
              "      <td>6.16</td>\n",
              "      <td>3530</td>\n",
              "    </tr>\n",
              "    <tr>\n",
              "      <th>4</th>\n",
              "      <td>Antigua and Barbuda</td>\n",
              "      <td>10.3</td>\n",
              "      <td>5551.00</td>\n",
              "      <td>735.6600</td>\n",
              "      <td>7185.800</td>\n",
              "      <td>19100</td>\n",
              "      <td>1.44</td>\n",
              "      <td>76.8</td>\n",
              "      <td>2.13</td>\n",
              "      <td>12200</td>\n",
              "    </tr>\n",
              "  </tbody>\n",
              "</table>\n",
              "</div>"
            ],
            "text/plain": [
              "                Negara  Kematian_anak  ...  Jumlah_fertiliti  GDPperkapita\n",
              "0          Afghanistan           90.2  ...              5.82           553\n",
              "1              Albania           16.6  ...              1.65          4090\n",
              "2              Algeria           27.3  ...              2.89          4460\n",
              "3               Angola          119.0  ...              6.16          3530\n",
              "4  Antigua and Barbuda           10.3  ...              2.13         12200\n",
              "\n",
              "[5 rows x 10 columns]"
            ]
          },
          "metadata": {},
          "execution_count": 19
        }
      ]
    },
    {
      "cell_type": "code",
      "metadata": {
        "colab": {
          "base_uri": "https://localhost:8080/"
        },
        "id": "kTigrIAoPwYF",
        "outputId": "2f59b17c-cd49-4e0e-f119-0820a5d6e8f2"
      },
      "source": [
        "# Mengecek shape dari dataframe baru\n",
        "df.shape"
      ],
      "execution_count": 20,
      "outputs": [
        {
          "output_type": "execute_result",
          "data": {
            "text/plain": [
              "(167, 10)"
            ]
          },
          "metadata": {},
          "execution_count": 20
        }
      ]
    },
    {
      "cell_type": "code",
      "metadata": {
        "colab": {
          "base_uri": "https://localhost:8080/",
          "height": 357
        },
        "id": "_RSrEhAgP0fA",
        "outputId": "4c0b1a6d-28f8-4b81-cdd3-e239be837568"
      },
      "source": [
        "# memilih numerical columns dan drop negara dan melihat persentil masing-masing data\n",
        "cols = ['Ekspor', 'Kesehatan', 'Impor', 'Jumlah_fertiliti','GDPperkapita']\n",
        "df[cols].describe(percentiles= [0.01,0.25,0.5,0.75,0.99])"
      ],
      "execution_count": 21,
      "outputs": [
        {
          "output_type": "execute_result",
          "data": {
            "text/html": [
              "<div>\n",
              "<style scoped>\n",
              "    .dataframe tbody tr th:only-of-type {\n",
              "        vertical-align: middle;\n",
              "    }\n",
              "\n",
              "    .dataframe tbody tr th {\n",
              "        vertical-align: top;\n",
              "    }\n",
              "\n",
              "    .dataframe thead th {\n",
              "        text-align: right;\n",
              "    }\n",
              "</style>\n",
              "<table border=\"1\" class=\"dataframe\">\n",
              "  <thead>\n",
              "    <tr style=\"text-align: right;\">\n",
              "      <th></th>\n",
              "      <th>Ekspor</th>\n",
              "      <th>Kesehatan</th>\n",
              "      <th>Impor</th>\n",
              "      <th>Jumlah_fertiliti</th>\n",
              "      <th>GDPperkapita</th>\n",
              "    </tr>\n",
              "  </thead>\n",
              "  <tbody>\n",
              "    <tr>\n",
              "      <th>count</th>\n",
              "      <td>167.000000</td>\n",
              "      <td>167.000000</td>\n",
              "      <td>167.000000</td>\n",
              "      <td>167.000000</td>\n",
              "      <td>167.000000</td>\n",
              "    </tr>\n",
              "    <tr>\n",
              "      <th>mean</th>\n",
              "      <td>7420.618847</td>\n",
              "      <td>1056.733204</td>\n",
              "      <td>6588.352108</td>\n",
              "      <td>2.947964</td>\n",
              "      <td>12964.155689</td>\n",
              "    </tr>\n",
              "    <tr>\n",
              "      <th>std</th>\n",
              "      <td>17973.885795</td>\n",
              "      <td>1801.408906</td>\n",
              "      <td>14710.810418</td>\n",
              "      <td>1.513848</td>\n",
              "      <td>18328.704809</td>\n",
              "    </tr>\n",
              "    <tr>\n",
              "      <th>min</th>\n",
              "      <td>1.076920</td>\n",
              "      <td>12.821200</td>\n",
              "      <td>0.651092</td>\n",
              "      <td>1.150000</td>\n",
              "      <td>231.000000</td>\n",
              "    </tr>\n",
              "    <tr>\n",
              "      <th>1%</th>\n",
              "      <td>22.243716</td>\n",
              "      <td>17.009362</td>\n",
              "      <td>104.909640</td>\n",
              "      <td>1.243200</td>\n",
              "      <td>331.620000</td>\n",
              "    </tr>\n",
              "    <tr>\n",
              "      <th>25%</th>\n",
              "      <td>447.140000</td>\n",
              "      <td>78.535500</td>\n",
              "      <td>640.215000</td>\n",
              "      <td>1.795000</td>\n",
              "      <td>1330.000000</td>\n",
              "    </tr>\n",
              "    <tr>\n",
              "      <th>50%</th>\n",
              "      <td>1777.440000</td>\n",
              "      <td>321.886000</td>\n",
              "      <td>2045.580000</td>\n",
              "      <td>2.410000</td>\n",
              "      <td>4660.000000</td>\n",
              "    </tr>\n",
              "    <tr>\n",
              "      <th>75%</th>\n",
              "      <td>7278.000000</td>\n",
              "      <td>976.940000</td>\n",
              "      <td>7719.600000</td>\n",
              "      <td>3.880000</td>\n",
              "      <td>14050.000000</td>\n",
              "    </tr>\n",
              "    <tr>\n",
              "      <th>99%</th>\n",
              "      <td>64794.260000</td>\n",
              "      <td>8410.330400</td>\n",
              "      <td>55371.390000</td>\n",
              "      <td>6.563600</td>\n",
              "      <td>79088.000000</td>\n",
              "    </tr>\n",
              "    <tr>\n",
              "      <th>max</th>\n",
              "      <td>183750.000000</td>\n",
              "      <td>8663.600000</td>\n",
              "      <td>149100.000000</td>\n",
              "      <td>7.490000</td>\n",
              "      <td>105000.000000</td>\n",
              "    </tr>\n",
              "  </tbody>\n",
              "</table>\n",
              "</div>"
            ],
            "text/plain": [
              "              Ekspor    Kesehatan  ...  Jumlah_fertiliti   GDPperkapita\n",
              "count     167.000000   167.000000  ...        167.000000     167.000000\n",
              "mean     7420.618847  1056.733204  ...          2.947964   12964.155689\n",
              "std     17973.885795  1801.408906  ...          1.513848   18328.704809\n",
              "min         1.076920    12.821200  ...          1.150000     231.000000\n",
              "1%         22.243716    17.009362  ...          1.243200     331.620000\n",
              "25%       447.140000    78.535500  ...          1.795000    1330.000000\n",
              "50%      1777.440000   321.886000  ...          2.410000    4660.000000\n",
              "75%      7278.000000   976.940000  ...          3.880000   14050.000000\n",
              "99%     64794.260000  8410.330400  ...          6.563600   79088.000000\n",
              "max    183750.000000  8663.600000  ...          7.490000  105000.000000\n",
              "\n",
              "[10 rows x 5 columns]"
            ]
          },
          "metadata": {},
          "execution_count": 21
        }
      ]
    },
    {
      "cell_type": "markdown",
      "metadata": {
        "id": "uqxw3B4VQqKU"
      },
      "source": [
        "## 3. Exploratory Data Analytics (EDA)"
      ]
    },
    {
      "cell_type": "markdown",
      "metadata": {
        "id": "9uSXiV01Q05I"
      },
      "source": [
        "Exploratory Data Analysis (EDA) adalah bagian dari proses data science. EDA menjadi sangat penting sebelum melakukan feature engineering dan modeling karena dalam tahap ini kita harus memahami datanya terlebih dahulu."
      ]
    },
    {
      "cell_type": "code",
      "metadata": {
        "colab": {
          "base_uri": "https://localhost:8080/",
          "height": 388
        },
        "id": "OM2DhOdpQOPS",
        "outputId": "0f0fdf8b-4ea2-4666-aa62-ec2d57198380"
      },
      "source": [
        "# melihat outliers pada persentil 25%,50%,75%,90%,95% dan 99%\n",
        "df.describe(percentiles=[.25,.5,.75,.90,.95,.99])"
      ],
      "execution_count": 22,
      "outputs": [
        {
          "output_type": "execute_result",
          "data": {
            "text/html": [
              "<div>\n",
              "<style scoped>\n",
              "    .dataframe tbody tr th:only-of-type {\n",
              "        vertical-align: middle;\n",
              "    }\n",
              "\n",
              "    .dataframe tbody tr th {\n",
              "        vertical-align: top;\n",
              "    }\n",
              "\n",
              "    .dataframe thead th {\n",
              "        text-align: right;\n",
              "    }\n",
              "</style>\n",
              "<table border=\"1\" class=\"dataframe\">\n",
              "  <thead>\n",
              "    <tr style=\"text-align: right;\">\n",
              "      <th></th>\n",
              "      <th>Kematian_anak</th>\n",
              "      <th>Ekspor</th>\n",
              "      <th>Kesehatan</th>\n",
              "      <th>Impor</th>\n",
              "      <th>Pendapatan</th>\n",
              "      <th>Inflasi</th>\n",
              "      <th>Harapan_hidup</th>\n",
              "      <th>Jumlah_fertiliti</th>\n",
              "      <th>GDPperkapita</th>\n",
              "    </tr>\n",
              "  </thead>\n",
              "  <tbody>\n",
              "    <tr>\n",
              "      <th>count</th>\n",
              "      <td>167.000000</td>\n",
              "      <td>167.000000</td>\n",
              "      <td>167.000000</td>\n",
              "      <td>167.000000</td>\n",
              "      <td>167.000000</td>\n",
              "      <td>167.000000</td>\n",
              "      <td>167.000000</td>\n",
              "      <td>167.000000</td>\n",
              "      <td>167.000000</td>\n",
              "    </tr>\n",
              "    <tr>\n",
              "      <th>mean</th>\n",
              "      <td>38.270060</td>\n",
              "      <td>7420.618847</td>\n",
              "      <td>1056.733204</td>\n",
              "      <td>6588.352108</td>\n",
              "      <td>17144.688623</td>\n",
              "      <td>7.781832</td>\n",
              "      <td>70.555689</td>\n",
              "      <td>2.947964</td>\n",
              "      <td>12964.155689</td>\n",
              "    </tr>\n",
              "    <tr>\n",
              "      <th>std</th>\n",
              "      <td>40.328931</td>\n",
              "      <td>17973.885795</td>\n",
              "      <td>1801.408906</td>\n",
              "      <td>14710.810418</td>\n",
              "      <td>19278.067698</td>\n",
              "      <td>10.570704</td>\n",
              "      <td>8.893172</td>\n",
              "      <td>1.513848</td>\n",
              "      <td>18328.704809</td>\n",
              "    </tr>\n",
              "    <tr>\n",
              "      <th>min</th>\n",
              "      <td>2.600000</td>\n",
              "      <td>1.076920</td>\n",
              "      <td>12.821200</td>\n",
              "      <td>0.651092</td>\n",
              "      <td>609.000000</td>\n",
              "      <td>-4.210000</td>\n",
              "      <td>32.100000</td>\n",
              "      <td>1.150000</td>\n",
              "      <td>231.000000</td>\n",
              "    </tr>\n",
              "    <tr>\n",
              "      <th>25%</th>\n",
              "      <td>8.250000</td>\n",
              "      <td>447.140000</td>\n",
              "      <td>78.535500</td>\n",
              "      <td>640.215000</td>\n",
              "      <td>3355.000000</td>\n",
              "      <td>1.810000</td>\n",
              "      <td>65.300000</td>\n",
              "      <td>1.795000</td>\n",
              "      <td>1330.000000</td>\n",
              "    </tr>\n",
              "    <tr>\n",
              "      <th>50%</th>\n",
              "      <td>19.300000</td>\n",
              "      <td>1777.440000</td>\n",
              "      <td>321.886000</td>\n",
              "      <td>2045.580000</td>\n",
              "      <td>9960.000000</td>\n",
              "      <td>5.390000</td>\n",
              "      <td>73.100000</td>\n",
              "      <td>2.410000</td>\n",
              "      <td>4660.000000</td>\n",
              "    </tr>\n",
              "    <tr>\n",
              "      <th>75%</th>\n",
              "      <td>62.100000</td>\n",
              "      <td>7278.000000</td>\n",
              "      <td>976.940000</td>\n",
              "      <td>7719.600000</td>\n",
              "      <td>22800.000000</td>\n",
              "      <td>10.750000</td>\n",
              "      <td>76.800000</td>\n",
              "      <td>3.880000</td>\n",
              "      <td>14050.000000</td>\n",
              "    </tr>\n",
              "    <tr>\n",
              "      <th>90%</th>\n",
              "      <td>100.220000</td>\n",
              "      <td>17760.600000</td>\n",
              "      <td>3825.416000</td>\n",
              "      <td>15034.280000</td>\n",
              "      <td>41220.000000</td>\n",
              "      <td>16.640000</td>\n",
              "      <td>80.400000</td>\n",
              "      <td>5.322000</td>\n",
              "      <td>41840.000000</td>\n",
              "    </tr>\n",
              "    <tr>\n",
              "      <th>95%</th>\n",
              "      <td>116.000000</td>\n",
              "      <td>31385.100000</td>\n",
              "      <td>4966.701000</td>\n",
              "      <td>24241.560000</td>\n",
              "      <td>48290.000000</td>\n",
              "      <td>20.870000</td>\n",
              "      <td>81.400000</td>\n",
              "      <td>5.861000</td>\n",
              "      <td>48610.000000</td>\n",
              "    </tr>\n",
              "    <tr>\n",
              "      <th>99%</th>\n",
              "      <td>153.400000</td>\n",
              "      <td>64794.260000</td>\n",
              "      <td>8410.330400</td>\n",
              "      <td>55371.390000</td>\n",
              "      <td>84374.000000</td>\n",
              "      <td>41.478000</td>\n",
              "      <td>82.370000</td>\n",
              "      <td>6.563600</td>\n",
              "      <td>79088.000000</td>\n",
              "    </tr>\n",
              "    <tr>\n",
              "      <th>max</th>\n",
              "      <td>208.000000</td>\n",
              "      <td>183750.000000</td>\n",
              "      <td>8663.600000</td>\n",
              "      <td>149100.000000</td>\n",
              "      <td>125000.000000</td>\n",
              "      <td>104.000000</td>\n",
              "      <td>82.800000</td>\n",
              "      <td>7.490000</td>\n",
              "      <td>105000.000000</td>\n",
              "    </tr>\n",
              "  </tbody>\n",
              "</table>\n",
              "</div>"
            ],
            "text/plain": [
              "       Kematian_anak         Ekspor  ...  Jumlah_fertiliti   GDPperkapita\n",
              "count     167.000000     167.000000  ...        167.000000     167.000000\n",
              "mean       38.270060    7420.618847  ...          2.947964   12964.155689\n",
              "std        40.328931   17973.885795  ...          1.513848   18328.704809\n",
              "min         2.600000       1.076920  ...          1.150000     231.000000\n",
              "25%         8.250000     447.140000  ...          1.795000    1330.000000\n",
              "50%        19.300000    1777.440000  ...          2.410000    4660.000000\n",
              "75%        62.100000    7278.000000  ...          3.880000   14050.000000\n",
              "90%       100.220000   17760.600000  ...          5.322000   41840.000000\n",
              "95%       116.000000   31385.100000  ...          5.861000   48610.000000\n",
              "99%       153.400000   64794.260000  ...          6.563600   79088.000000\n",
              "max       208.000000  183750.000000  ...          7.490000  105000.000000\n",
              "\n",
              "[11 rows x 9 columns]"
            ]
          },
          "metadata": {},
          "execution_count": 22
        }
      ]
    },
    {
      "cell_type": "code",
      "metadata": {
        "colab": {
          "base_uri": "https://localhost:8080/",
          "height": 498
        },
        "id": "uScbdGcmQ45E",
        "outputId": "9b71d2f4-6a08-4ca0-f930-516e53041cc2"
      },
      "source": [
        "# mengecek outliers dengan boxplot\n",
        "fig, axs = plt.subplots(3,3, figsize = (16,8))\n",
        "\n",
        "plt1 = sns.boxplot(df['Kematian_anak'], ax = axs[0,0], color = 'orange')\n",
        "plt2 = sns.boxplot(df['Ekspor'], ax = axs[0,1])\n",
        "plt3 = sns.boxplot(df['Kesehatan'], ax = axs[0,2], color = 'orange')\n",
        "plt4 = sns.boxplot(df['Impor'], ax = axs[1,0])\n",
        "plt5 = sns.boxplot(df['Pendapatan'], ax = axs[1,1], color = 'orange')\n",
        "plt6 = sns.boxplot(df['Inflasi'], ax = axs[1,2])\n",
        "plt7 = sns.boxplot(df['Harapan_hidup'], ax = axs[2,0], color = 'orange')\n",
        "plt8 = sns.boxplot(df['Jumlah_fertiliti'], ax = axs[2,1])\n",
        "plt9 = sns.boxplot(df['GDPperkapita'], ax = axs[2,2], color = 'orange')\n",
        "\n",
        "plt.show()"
      ],
      "execution_count": 66,
      "outputs": [
        {
          "output_type": "display_data",
          "data": {
            "image/png": "[encoded data removed]",
            "text/plain": [
              "<Figure size 1152x576 with 9 Axes>"
            ]
          },
          "metadata": {
            "needs_background": "light"
          }
        }
      ]
    },
    {
      "cell_type": "markdown",
      "metadata": {
        "id": "Mvlx4gBNR4Ik"
      },
      "source": [
        "Insight:\n",
        "\n",
        "Dari data diatas, kita mendapatkan beberapa Outliers, nanti akan kita lakukan Handling Outliers\n",
        "\n",
        "----"
      ]
    },
    {
      "cell_type": "markdown",
      "metadata": {
        "id": "96JrFmOPSWMx"
      },
      "source": [
        "Pada tahap ini, kita akan coba untuk mengecek daftar 10 negara termiskin dari tiap-tiap fitur yang tersedia dengan menggunakan barplot"
      ]
    },
    {
      "cell_type": "code",
      "metadata": {
        "colab": {
          "base_uri": "https://localhost:8080/"
        },
        "id": "g7tkuvWrSm6A",
        "outputId": "81cf0979-9adf-4aaf-d3ae-b05d411b45e8"
      },
      "source": [
        "df.columns"
      ],
      "execution_count": 27,
      "outputs": [
        {
          "output_type": "execute_result",
          "data": {
            "text/plain": [
              "Index(['Negara', 'Kematian_anak', 'Ekspor', 'Kesehatan', 'Impor', 'Pendapatan',\n",
              "       'Inflasi', 'Harapan_hidup', 'Jumlah_fertiliti', 'GDPperkapita'],\n",
              "      dtype='object')"
            ]
          },
          "metadata": {},
          "execution_count": 27
        }
      ]
    },
    {
      "cell_type": "code",
      "metadata": {
        "colab": {
          "base_uri": "https://localhost:8080/",
          "height": 873
        },
        "id": "cqNJQyqgTBUC",
        "outputId": "830a9da7-4735-45a4-c84a-32dfab62a270"
      },
      "source": [
        "fig, axs = plt.subplots(3,3,figsize = (12,12))\n",
        "\n",
        "# poor top 10 countries represented as `pt10`\n",
        "\n",
        "# Child Mortality Rate \n",
        "pt10_Kematian_anak = df[['Negara','Kematian_anak']].sort_values('Kematian_anak', ascending = False).head(10)\n",
        "plt1 = sns.barplot(x='Negara', y='Kematian_anak', data= pt10_Kematian_anak, ax = axs[0,0])\n",
        "plt1.set(xlabel = '', ylabel= 'Rate Kematian_anak')\n",
        "\n",
        "# Exports\n",
        "pt10_Ekspor = df[['Negara','Ekspor']].sort_values('Ekspor', ascending = True).head(10)\n",
        "plt2 = sns.barplot(x='Negara', y='Ekspor', data= pt10_Ekspor, ax = axs[2,1])\n",
        "plt2.set(xlabel = '', ylabel= 'Ekspor')\n",
        "\n",
        "# Health \n",
        "pt10_Kesehatan = df[['Negara','Kesehatan']].sort_values('Kesehatan', ascending = True).head(10)\n",
        "plt3 = sns.barplot(x='Negara', y='Kesehatan', data= pt10_Kesehatan, ax = axs[1,0])\n",
        "plt3.set(xlabel = '', ylabel= 'Kesehatan')\n",
        "\n",
        "# Imports\n",
        "pt10_Impor = df[['Negara','Impor']].sort_values('Impor', ascending = True).head(10)\n",
        "plt4 = sns.barplot(x='Negara', y='Impor', data= pt10_Impor, ax = axs[2,2])\n",
        "plt4.set(xlabel = '', ylabel= 'Impor')\n",
        "\n",
        "# Per capita Income \n",
        "pt10_Pendapatan = df[['Negara','Pendapatan']].sort_values('Pendapatan', ascending = True).head(10)\n",
        "plt5 = sns.barplot(x='Negara', y='Pendapatan', data= pt10_Pendapatan, ax = axs[1,2])\n",
        "plt5.set(xlabel = '', ylabel= 'Pendapatan')\n",
        "\n",
        "# Inflation\n",
        "pt10_Inflasi = df[['Negara','Inflasi']].sort_values('Inflasi', ascending = False).head(10)\n",
        "plt6 = sns.barplot(x='Negara', y='Inflasi', data= pt10_Inflasi, ax = axs[2,0])\n",
        "plt6.set(xlabel = '', ylabel= 'Inflasi')\n",
        "\n",
        "# Fertility Rate\n",
        "pt10_Jumlah_fertiliti = df[['Negara','Jumlah_fertiliti']].sort_values('Jumlah_fertiliti', ascending = False).head(10)\n",
        "plt7 = sns.barplot(x='Negara', y='Jumlah_fertiliti', data= pt10_Jumlah_fertiliti, ax = axs[0,1])\n",
        "plt7.set(xlabel = '', ylabel= 'Jumlah_fertiliti')\n",
        "\n",
        "# Life Expectancy\n",
        "pt10_Harapan_hidup = df[['Negara','Harapan_hidup']].sort_values('Harapan_hidup', ascending = True).head(10)\n",
        "plt8 = sns.barplot(x='Negara', y='Harapan_hidup', data= pt10_Harapan_hidup, ax = axs[0,2])\n",
        "plt8.set(xlabel = '', ylabel= 'Harapan_hidup')\n",
        "\n",
        "# The GDP per capita \n",
        "pt10_GDPperkapita = df[['Negara','GDPperkapita']].sort_values('GDPperkapita', ascending = True).head(10)\n",
        "plt9 = sns.barplot(x='Negara', y='GDPperkapita', data= pt10_GDPperkapita, ax = axs[1,1])\n",
        "plt9.set(xlabel = '', ylabel= 'GDP per capita')\n",
        "\n",
        "\n",
        "for ax in fig.axes:\n",
        "    plt.sca(ax)\n",
        "    plt.xticks(rotation = 90)\n",
        "    \n",
        "plt.tight_layout()\n",
        "plt.show()"
      ],
      "execution_count": 30,
      "outputs": [
        {
          "output_type": "display_data",
          "data": {
            "image/png": "[encoded data removed]",
            "text/plain": [
              "<Figure size 864x864 with 9 Axes>"
            ]
          },
          "metadata": {
            "needs_background": "light"
          }
        }
      ]
    },
    {
      "cell_type": "markdown",
      "metadata": {
        "id": "SkCmM1icU_-j"
      },
      "source": [
        "Insight:\n",
        "\n",
        "- Dari data diatas, kita dapat melihat negara-negara yang paling banyak termasuk dalam negara termiskin berdasarkan GDP perkapita, Keatian anak, dan pendapatan adalah: Congo, Dem. Rep., Niger, Sierra Leone,Central African Republic"
      ]
    },
    {
      "cell_type": "code",
      "metadata": {
        "colab": {
          "base_uri": "https://localhost:8080/",
          "height": 890
        },
        "id": "ggxHoNzLVB2e",
        "outputId": "0ac019d1-d4cb-440e-cd2e-d60ac360a734"
      },
      "source": [
        "# Plot Ditribusi\n",
        "plt.figure(figsize=(15, 15))\n",
        "features = ['Kematian_anak', 'Ekspor', 'Kesehatan', 'Impor', 'Pendapatan',\n",
        "       'Inflasi', 'Harapan_hidup', 'Jumlah_fertiliti', 'GDPperkapita']\n",
        "for i in enumerate(features):\n",
        "    ax = plt.subplot(3, 3, i[0]+1)\n",
        "    sns.distplot(df[i[1]])\n",
        "    plt.xticks(rotation=20)"
      ],
      "execution_count": 31,
      "outputs": [
        {
          "output_type": "display_data",
          "data": {
            "image/png": "[encoded data removed]",
            "text/plain": [
              "<Figure size 1080x1080 with 9 Axes>"
            ]
          },
          "metadata": {
            "needs_background": "light"
          }
        }
      ]
    },
    {
      "cell_type": "markdown",
      "metadata": {
        "id": "GRBvS3HEVVZd"
      },
      "source": [
        "Insights:\n",
        "\n",
        "- selain harapan hidup, semua kolom terdistribusi miring kekiri"
      ]
    },
    {
      "cell_type": "code",
      "metadata": {
        "colab": {
          "base_uri": "https://localhost:8080/",
          "height": 570
        },
        "id": "oAxC8wZnVZ3r",
        "outputId": "115049b3-103f-41e8-db36-03f5570beb89"
      },
      "source": [
        "# Melihat korelasi dataset\n",
        "plt.figure(figsize= (12,8))\n",
        "sns.heatmap(df.corr(), annot = True, cmap = \"GnBu\")"
      ],
      "execution_count": 59,
      "outputs": [
        {
          "output_type": "execute_result",
          "data": {
            "text/plain": [
              "<matplotlib.axes._subplots.AxesSubplot at 0x7f1acf2c7a90>"
            ]
          },
          "metadata": {},
          "execution_count": 59
        },
        {
          "output_type": "display_data",
          "data": {
            "image/png": "[encoded data removed]",
            "text/plain": [
              "<Figure size 864x576 with 2 Axes>"
            ]
          },
          "metadata": {
            "needs_background": "light"
          }
        }
      ]
    },
    {
      "cell_type": "markdown",
      "metadata": {
        "id": "02TSDwhzVrnk"
      },
      "source": [
        "Dari plotting diatas, kita dapat mengambil beberapa kesimpulan bahwa terdapat beberapa fitur yang memilihi korelasi tinggi\n",
        "\n",
        "- GDP per Kapita dan pendapatan memiliki korelasi yang tinggi yaitu 0.9\n",
        "- Kematian anak dan harapan hidup memiliki korelasi negatif yang tinggi, yaitu sebesar -0.89\n",
        "- Kematian anak dan jumlah fertilisasi memiliki korelasi yang sangat tinggi, yaitu sebesar 0.85\n",
        "- Import dan eksport memiliki korelasi yang cukup tinggi, yaitu of 0.74\n",
        "- Harapan hidup dan jumlah fertilisasi emiliki korelasi negatif yang cukup tinngi, yaitu -0.76\n",
        "----"
      ]
    },
    {
      "cell_type": "markdown",
      "metadata": {
        "id": "WgEGM5W4V21G"
      },
      "source": [
        "**Handling Outliers**\n",
        "- kematian anak, ekspor dan harapan hidup memiliki outliers dengan level tinggi, jika data diatas persentil 99% kita akan melakukan drop dataset"
      ]
    },
    {
      "cell_type": "code",
      "metadata": {
        "id": "zqzP2OqkViMW"
      },
      "source": [
        "# Kita drop kolom negara\n",
        "df1 = df.drop('Negara', axis =1)"
      ],
      "execution_count": 35,
      "outputs": []
    },
    {
      "cell_type": "code",
      "metadata": {
        "colab": {
          "base_uri": "https://localhost:8080/",
          "height": 357
        },
        "id": "xa0H38INWAiJ",
        "outputId": "815826b5-6e49-4bc9-eb4c-7e850c918cd5"
      },
      "source": [
        "# daftar kolom yang memiliki outliers persentil 99%\n",
        "cols = [ 'Ekspor', 'Kesehatan', 'Impor', \n",
        "        'Jumlah_fertiliti', 'GDPperkapita']\n",
        "df1[cols].describe(percentiles= [0.01,0.25,0.5,0.75,0.99])"
      ],
      "execution_count": 36,
      "outputs": [
        {
          "output_type": "execute_result",
          "data": {
            "text/html": [
              "<div>\n",
              "<style scoped>\n",
              "    .dataframe tbody tr th:only-of-type {\n",
              "        vertical-align: middle;\n",
              "    }\n",
              "\n",
              "    .dataframe tbody tr th {\n",
              "        vertical-align: top;\n",
              "    }\n",
              "\n",
              "    .dataframe thead th {\n",
              "        text-align: right;\n",
              "    }\n",
              "</style>\n",
              "<table border=\"1\" class=\"dataframe\">\n",
              "  <thead>\n",
              "    <tr style=\"text-align: right;\">\n",
              "      <th></th>\n",
              "      <th>Ekspor</th>\n",
              "      <th>Kesehatan</th>\n",
              "      <th>Impor</th>\n",
              "      <th>Jumlah_fertiliti</th>\n",
              "      <th>GDPperkapita</th>\n",
              "    </tr>\n",
              "  </thead>\n",
              "  <tbody>\n",
              "    <tr>\n",
              "      <th>count</th>\n",
              "      <td>167.000000</td>\n",
              "      <td>167.000000</td>\n",
              "      <td>167.000000</td>\n",
              "      <td>167.000000</td>\n",
              "      <td>167.000000</td>\n",
              "    </tr>\n",
              "    <tr>\n",
              "      <th>mean</th>\n",
              "      <td>7420.618847</td>\n",
              "      <td>1056.733204</td>\n",
              "      <td>6588.352108</td>\n",
              "      <td>2.947964</td>\n",
              "      <td>12964.155689</td>\n",
              "    </tr>\n",
              "    <tr>\n",
              "      <th>std</th>\n",
              "      <td>17973.885795</td>\n",
              "      <td>1801.408906</td>\n",
              "      <td>14710.810418</td>\n",
              "      <td>1.513848</td>\n",
              "      <td>18328.704809</td>\n",
              "    </tr>\n",
              "    <tr>\n",
              "      <th>min</th>\n",
              "      <td>1.076920</td>\n",
              "      <td>12.821200</td>\n",
              "      <td>0.651092</td>\n",
              "      <td>1.150000</td>\n",
              "      <td>231.000000</td>\n",
              "    </tr>\n",
              "    <tr>\n",
              "      <th>1%</th>\n",
              "      <td>22.243716</td>\n",
              "      <td>17.009362</td>\n",
              "      <td>104.909640</td>\n",
              "      <td>1.243200</td>\n",
              "      <td>331.620000</td>\n",
              "    </tr>\n",
              "    <tr>\n",
              "      <th>25%</th>\n",
              "      <td>447.140000</td>\n",
              "      <td>78.535500</td>\n",
              "      <td>640.215000</td>\n",
              "      <td>1.795000</td>\n",
              "      <td>1330.000000</td>\n",
              "    </tr>\n",
              "    <tr>\n",
              "      <th>50%</th>\n",
              "      <td>1777.440000</td>\n",
              "      <td>321.886000</td>\n",
              "      <td>2045.580000</td>\n",
              "      <td>2.410000</td>\n",
              "      <td>4660.000000</td>\n",
              "    </tr>\n",
              "    <tr>\n",
              "      <th>75%</th>\n",
              "      <td>7278.000000</td>\n",
              "      <td>976.940000</td>\n",
              "      <td>7719.600000</td>\n",
              "      <td>3.880000</td>\n",
              "      <td>14050.000000</td>\n",
              "    </tr>\n",
              "    <tr>\n",
              "      <th>99%</th>\n",
              "      <td>64794.260000</td>\n",
              "      <td>8410.330400</td>\n",
              "      <td>55371.390000</td>\n",
              "      <td>6.563600</td>\n",
              "      <td>79088.000000</td>\n",
              "    </tr>\n",
              "    <tr>\n",
              "      <th>max</th>\n",
              "      <td>183750.000000</td>\n",
              "      <td>8663.600000</td>\n",
              "      <td>149100.000000</td>\n",
              "      <td>7.490000</td>\n",
              "      <td>105000.000000</td>\n",
              "    </tr>\n",
              "  </tbody>\n",
              "</table>\n",
              "</div>"
            ],
            "text/plain": [
              "              Ekspor    Kesehatan  ...  Jumlah_fertiliti   GDPperkapita\n",
              "count     167.000000   167.000000  ...        167.000000     167.000000\n",
              "mean     7420.618847  1056.733204  ...          2.947964   12964.155689\n",
              "std     17973.885795  1801.408906  ...          1.513848   18328.704809\n",
              "min         1.076920    12.821200  ...          1.150000     231.000000\n",
              "1%         22.243716    17.009362  ...          1.243200     331.620000\n",
              "25%       447.140000    78.535500  ...          1.795000    1330.000000\n",
              "50%      1777.440000   321.886000  ...          2.410000    4660.000000\n",
              "75%      7278.000000   976.940000  ...          3.880000   14050.000000\n",
              "99%     64794.260000  8410.330400  ...          6.563600   79088.000000\n",
              "max    183750.000000  8663.600000  ...          7.490000  105000.000000\n",
              "\n",
              "[10 rows x 5 columns]"
            ]
          },
          "metadata": {},
          "execution_count": 36
        }
      ]
    },
    {
      "cell_type": "code",
      "metadata": {
        "id": "7Qx7ex3XWZvd"
      },
      "source": [
        "# kita akan menghandling outliers persentil 99%\n",
        "cap = 0.99\n",
        "for col in cols:\n",
        "    HL = round(df1[col].quantile(cap),2)\n",
        "    df1[col] = df1[col].apply(lambda x: HL if x>HL else x)"
      ],
      "execution_count": 37,
      "outputs": []
    },
    {
      "cell_type": "code",
      "metadata": {
        "colab": {
          "base_uri": "https://localhost:8080/",
          "height": 357
        },
        "id": "bd-U6m46Wd07",
        "outputId": "2fc59162-02d0-4bf0-f014-0fa6f899afd3"
      },
      "source": [
        "df1[cols].describe(percentiles= [0.01,0.25,0.5,0.75,0.99])"
      ],
      "execution_count": 38,
      "outputs": [
        {
          "output_type": "execute_result",
          "data": {
            "text/html": [
              "<div>\n",
              "<style scoped>\n",
              "    .dataframe tbody tr th:only-of-type {\n",
              "        vertical-align: middle;\n",
              "    }\n",
              "\n",
              "    .dataframe tbody tr th {\n",
              "        vertical-align: top;\n",
              "    }\n",
              "\n",
              "    .dataframe thead th {\n",
              "        text-align: right;\n",
              "    }\n",
              "</style>\n",
              "<table border=\"1\" class=\"dataframe\">\n",
              "  <thead>\n",
              "    <tr style=\"text-align: right;\">\n",
              "      <th></th>\n",
              "      <th>Ekspor</th>\n",
              "      <th>Kesehatan</th>\n",
              "      <th>Impor</th>\n",
              "      <th>Jumlah_fertiliti</th>\n",
              "      <th>GDPperkapita</th>\n",
              "    </tr>\n",
              "  </thead>\n",
              "  <tbody>\n",
              "    <tr>\n",
              "      <th>count</th>\n",
              "      <td>167.000000</td>\n",
              "      <td>167.000000</td>\n",
              "      <td>167.000000</td>\n",
              "      <td>167.000000</td>\n",
              "      <td>167.000000</td>\n",
              "    </tr>\n",
              "    <tr>\n",
              "      <th>mean</th>\n",
              "      <td>6538.214776</td>\n",
              "      <td>1054.206617</td>\n",
              "      <td>5873.135222</td>\n",
              "      <td>2.942216</td>\n",
              "      <td>12756.826347</td>\n",
              "    </tr>\n",
              "    <tr>\n",
              "      <th>std</th>\n",
              "      <td>11415.308590</td>\n",
              "      <td>1790.845323</td>\n",
              "      <td>9422.700869</td>\n",
              "      <td>1.498235</td>\n",
              "      <td>17430.208938</td>\n",
              "    </tr>\n",
              "    <tr>\n",
              "      <th>min</th>\n",
              "      <td>1.076920</td>\n",
              "      <td>12.821200</td>\n",
              "      <td>0.651092</td>\n",
              "      <td>1.150000</td>\n",
              "      <td>231.000000</td>\n",
              "    </tr>\n",
              "    <tr>\n",
              "      <th>1%</th>\n",
              "      <td>22.243716</td>\n",
              "      <td>17.009362</td>\n",
              "      <td>104.909640</td>\n",
              "      <td>1.243200</td>\n",
              "      <td>331.620000</td>\n",
              "    </tr>\n",
              "    <tr>\n",
              "      <th>25%</th>\n",
              "      <td>447.140000</td>\n",
              "      <td>78.535500</td>\n",
              "      <td>640.215000</td>\n",
              "      <td>1.795000</td>\n",
              "      <td>1330.000000</td>\n",
              "    </tr>\n",
              "    <tr>\n",
              "      <th>50%</th>\n",
              "      <td>1777.440000</td>\n",
              "      <td>321.886000</td>\n",
              "      <td>2045.580000</td>\n",
              "      <td>2.410000</td>\n",
              "      <td>4660.000000</td>\n",
              "    </tr>\n",
              "    <tr>\n",
              "      <th>75%</th>\n",
              "      <td>7278.000000</td>\n",
              "      <td>976.940000</td>\n",
              "      <td>7719.600000</td>\n",
              "      <td>3.880000</td>\n",
              "      <td>14050.000000</td>\n",
              "    </tr>\n",
              "    <tr>\n",
              "      <th>99%</th>\n",
              "      <td>55136.308400</td>\n",
              "      <td>8352.982600</td>\n",
              "      <td>46629.102600</td>\n",
              "      <td>6.553400</td>\n",
              "      <td>76125.920000</td>\n",
              "    </tr>\n",
              "    <tr>\n",
              "      <th>max</th>\n",
              "      <td>64794.260000</td>\n",
              "      <td>8410.330000</td>\n",
              "      <td>55371.390000</td>\n",
              "      <td>6.560000</td>\n",
              "      <td>79088.000000</td>\n",
              "    </tr>\n",
              "  </tbody>\n",
              "</table>\n",
              "</div>"
            ],
            "text/plain": [
              "             Ekspor    Kesehatan         Impor  Jumlah_fertiliti  GDPperkapita\n",
              "count    167.000000   167.000000    167.000000        167.000000    167.000000\n",
              "mean    6538.214776  1054.206617   5873.135222          2.942216  12756.826347\n",
              "std    11415.308590  1790.845323   9422.700869          1.498235  17430.208938\n",
              "min        1.076920    12.821200      0.651092          1.150000    231.000000\n",
              "1%        22.243716    17.009362    104.909640          1.243200    331.620000\n",
              "25%      447.140000    78.535500    640.215000          1.795000   1330.000000\n",
              "50%     1777.440000   321.886000   2045.580000          2.410000   4660.000000\n",
              "75%     7278.000000   976.940000   7719.600000          3.880000  14050.000000\n",
              "99%    55136.308400  8352.982600  46629.102600          6.553400  76125.920000\n",
              "max    64794.260000  8410.330000  55371.390000          6.560000  79088.000000"
            ]
          },
          "metadata": {},
          "execution_count": 38
        }
      ]
    },
    {
      "cell_type": "code",
      "metadata": {
        "colab": {
          "base_uri": "https://localhost:8080/",
          "height": 361
        },
        "id": "hnjQ-NtIWltt",
        "outputId": "ce316eac-131f-493b-f036-f8a04b2d6fbb"
      },
      "source": [
        "# Cek outliers setelah handling outliers dengan menggunakan boxplot\n",
        "df1[cols].plot.box(subplots = True, figsize = (18,6), fontsize = 12)\n",
        "plt.tight_layout(pad=3)\n",
        "plt.show()"
      ],
      "execution_count": 39,
      "outputs": [
        {
          "output_type": "display_data",
          "data": {
            "image/png": "[encoded data removed]",
            "text/plain": [
              "<Figure size 1296x432 with 5 Axes>"
            ]
          },
          "metadata": {
            "needs_background": "light"
          }
        }
      ]
    },
    {
      "cell_type": "markdown",
      "metadata": {
        "id": "k2JgYpo7WoNM"
      },
      "source": [
        "dari data diatas, memang masih ada outliers namun kita masih dapat melanjutkan proses kita\n",
        "\n",
        "---"
      ]
    },
    {
      "cell_type": "markdown",
      "metadata": {
        "id": "QXjyCoA3WxW4"
      },
      "source": [
        "## 4. Feature Scaling"
      ]
    },
    {
      "cell_type": "code",
      "metadata": {
        "colab": {
          "base_uri": "https://localhost:8080/"
        },
        "id": "0jyRz8HEWtyI",
        "outputId": "96cea51c-ec43-4120-d5b0-aa33c7f4f22f"
      },
      "source": [
        "# mengecek nama kolom dataset\n",
        "df1.columns"
      ],
      "execution_count": 40,
      "outputs": [
        {
          "output_type": "execute_result",
          "data": {
            "text/plain": [
              "Index(['Kematian_anak', 'Ekspor', 'Kesehatan', 'Impor', 'Pendapatan',\n",
              "       'Inflasi', 'Harapan_hidup', 'Jumlah_fertiliti', 'GDPperkapita'],\n",
              "      dtype='object')"
            ]
          },
          "metadata": {},
          "execution_count": 40
        }
      ]
    },
    {
      "cell_type": "code",
      "metadata": {
        "colab": {
          "base_uri": "https://localhost:8080/"
        },
        "id": "JOZIJQ1hW1OW",
        "outputId": "a3654392-eab4-4ed2-be50-8b9eef89098a"
      },
      "source": [
        "# kita akan melakukan sclaling dengan MinMaxScaller\n",
        "scaler = MinMaxScaler()\n",
        "\n",
        "df_scaled = scaler.fit_transform(df1)\n",
        "df_scaled.shape"
      ],
      "execution_count": 42,
      "outputs": [
        {
          "output_type": "execute_result",
          "data": {
            "text/plain": [
              "(167, 9)"
            ]
          },
          "metadata": {},
          "execution_count": 42
        }
      ]
    },
    {
      "cell_type": "code",
      "metadata": {
        "colab": {
          "base_uri": "https://localhost:8080/"
        },
        "id": "-Ca_5ogpW3hs",
        "outputId": "c865bfa7-3c4a-484c-d594-0b8f7e409d10"
      },
      "source": [
        "df_scaled"
      ],
      "execution_count": 43,
      "outputs": [
        {
          "output_type": "execute_result",
          "data": {
            "text/plain": [
              "array([[4.26484907e-01, 8.36863963e-04, 3.46486091e-03, ...,\n",
              "        4.75345168e-01, 8.63216266e-01, 4.08334073e-03],\n",
              "       [6.81596884e-02, 1.76580780e-02, 3.03749369e-02, ...,\n",
              "        8.71794872e-01, 9.24214418e-02, 4.89366829e-02],\n",
              "       [1.20253165e-01, 2.64157894e-02, 2.06204964e-02, ...,\n",
              "        8.75739645e-01, 3.21626617e-01, 5.36287203e-02],\n",
              "       ...,\n",
              "       [1.00778968e-01, 1.45404661e-02, 9.14352123e-03, ...,\n",
              "        8.08678501e-01, 1.47874307e-01, 1.36829958e-02],\n",
              "       [2.61441091e-01, 6.04883201e-03, 6.55394371e-03, ...,\n",
              "        6.98224852e-01, 6.50646950e-01, 1.36829958e-02],\n",
              "       [3.91918208e-01, 8.32067595e-03, 8.71363183e-03, ...,\n",
              "        3.92504931e-01, 7.85582255e-01, 1.55851732e-02]])"
            ]
          },
          "metadata": {},
          "execution_count": 43
        }
      ]
    },
    {
      "cell_type": "markdown",
      "metadata": {
        "id": "Bbrk5hOUXFM8"
      },
      "source": [
        "## 5. Clustering"
      ]
    },
    {
      "cell_type": "markdown",
      "metadata": {
        "id": "PsCQc1bToNx5"
      },
      "source": [
        "Pada proses clustering, kita akan menggunakan algoritma K-Means clustering. K-Means adalah suatu metode penganalisaan data atau metode Data Mining yang melakukan proses pemodelan tanpa supervisi (unsupervised) dan merupakan salah satu metode yang melakukan pengelompokan data dengan sistem partisi. Metode k-means berusaha mengelompokkan data yang ada ke dalam beberapa kelompok, dimana data dalam satu kelompok mempunyai karakteristik yang sama satu sama lainnya dan mempunyai karakteristik yang berbeda dengan data yang ada di dalam kelompok yang lain. Dengan kata lain, metode ini berusaha untuk meminimalkan variasi antar data yang ada di dalam suatu cluster dan memaksimalkan variasi dengan data yang ada di cluster lainnya."
      ]
    },
    {
      "cell_type": "code",
      "metadata": {
        "id": "KT3NK8ZKXYs_"
      },
      "source": [
        "# Membuat dataframe scaled\n",
        "df_scaled = pd.DataFrame(df_scaled, columns = df1.columns)"
      ],
      "execution_count": 45,
      "outputs": []
    },
    {
      "cell_type": "code",
      "metadata": {
        "colab": {
          "base_uri": "https://localhost:8080/",
          "height": 203
        },
        "id": "U0Z9rT_cW-V5",
        "outputId": "e725485d-9185-404d-d39c-61a4edc5657b"
      },
      "source": [
        "# mengecek dataframe\n",
        "df_scaled.head()"
      ],
      "execution_count": 46,
      "outputs": [
        {
          "output_type": "execute_result",
          "data": {
            "text/html": [
              "<div>\n",
              "<style scoped>\n",
              "    .dataframe tbody tr th:only-of-type {\n",
              "        vertical-align: middle;\n",
              "    }\n",
              "\n",
              "    .dataframe tbody tr th {\n",
              "        vertical-align: top;\n",
              "    }\n",
              "\n",
              "    .dataframe thead th {\n",
              "        text-align: right;\n",
              "    }\n",
              "</style>\n",
              "<table border=\"1\" class=\"dataframe\">\n",
              "  <thead>\n",
              "    <tr style=\"text-align: right;\">\n",
              "      <th></th>\n",
              "      <th>Kematian_anak</th>\n",
              "      <th>Ekspor</th>\n",
              "      <th>Kesehatan</th>\n",
              "      <th>Impor</th>\n",
              "      <th>Pendapatan</th>\n",
              "      <th>Inflasi</th>\n",
              "      <th>Harapan_hidup</th>\n",
              "      <th>Jumlah_fertiliti</th>\n",
              "      <th>GDPperkapita</th>\n",
              "    </tr>\n",
              "  </thead>\n",
              "  <tbody>\n",
              "    <tr>\n",
              "      <th>0</th>\n",
              "      <td>0.426485</td>\n",
              "      <td>0.000837</td>\n",
              "      <td>0.003465</td>\n",
              "      <td>0.004473</td>\n",
              "      <td>0.008047</td>\n",
              "      <td>0.126144</td>\n",
              "      <td>0.475345</td>\n",
              "      <td>0.863216</td>\n",
              "      <td>0.004083</td>\n",
              "    </tr>\n",
              "    <tr>\n",
              "      <th>1</th>\n",
              "      <td>0.068160</td>\n",
              "      <td>0.017658</td>\n",
              "      <td>0.030375</td>\n",
              "      <td>0.035887</td>\n",
              "      <td>0.074933</td>\n",
              "      <td>0.080399</td>\n",
              "      <td>0.871795</td>\n",
              "      <td>0.092421</td>\n",
              "      <td>0.048937</td>\n",
              "    </tr>\n",
              "    <tr>\n",
              "      <th>2</th>\n",
              "      <td>0.120253</td>\n",
              "      <td>0.026416</td>\n",
              "      <td>0.020620</td>\n",
              "      <td>0.025280</td>\n",
              "      <td>0.098809</td>\n",
              "      <td>0.187691</td>\n",
              "      <td>0.875740</td>\n",
              "      <td>0.321627</td>\n",
              "      <td>0.053629</td>\n",
              "    </tr>\n",
              "    <tr>\n",
              "      <th>3</th>\n",
              "      <td>0.566699</td>\n",
              "      <td>0.033925</td>\n",
              "      <td>0.010454</td>\n",
              "      <td>0.027338</td>\n",
              "      <td>0.042535</td>\n",
              "      <td>0.245911</td>\n",
              "      <td>0.552268</td>\n",
              "      <td>0.926063</td>\n",
              "      <td>0.041835</td>\n",
              "    </tr>\n",
              "    <tr>\n",
              "      <th>4</th>\n",
              "      <td>0.037488</td>\n",
              "      <td>0.085656</td>\n",
              "      <td>0.086078</td>\n",
              "      <td>0.129764</td>\n",
              "      <td>0.148652</td>\n",
              "      <td>0.052213</td>\n",
              "      <td>0.881657</td>\n",
              "      <td>0.181146</td>\n",
              "      <td>0.151781</td>\n",
              "    </tr>\n",
              "  </tbody>\n",
              "</table>\n",
              "</div>"
            ],
            "text/plain": [
              "   Kematian_anak    Ekspor  ...  Jumlah_fertiliti  GDPperkapita\n",
              "0       0.426485  0.000837  ...          0.863216      0.004083\n",
              "1       0.068160  0.017658  ...          0.092421      0.048937\n",
              "2       0.120253  0.026416  ...          0.321627      0.053629\n",
              "3       0.566699  0.033925  ...          0.926063      0.041835\n",
              "4       0.037488  0.085656  ...          0.181146      0.151781\n",
              "\n",
              "[5 rows x 9 columns]"
            ]
          },
          "metadata": {},
          "execution_count": 46
        }
      ]
    },
    {
      "cell_type": "code",
      "metadata": {
        "colab": {
          "base_uri": "https://localhost:8080/"
        },
        "id": "pT7oahlDXNQI",
        "outputId": "1017b3da-e01d-42b3-d924-628eccd43584"
      },
      "source": [
        "df_scaled.shape"
      ],
      "execution_count": 47,
      "outputs": [
        {
          "output_type": "execute_result",
          "data": {
            "text/plain": [
              "(167, 9)"
            ]
          },
          "metadata": {},
          "execution_count": 47
        }
      ]
    },
    {
      "cell_type": "markdown",
      "metadata": {
        "id": "tGVsOG74oxB2"
      },
      "source": [
        "Untuk menentukan nilai k dalam klustering, kita akan menggunakan Elbow method. Elbow method adalah metoda yang sering dipakai untuk menentukan jumlah cluster yang akan digunakan pada k-means clustering. Tujuannya adalah menghitung WCSS se-minimum dengan jumlah cluster yang kecil agar bisa dilakukan interpretasi data."
      ]
    },
    {
      "cell_type": "code",
      "metadata": {
        "id": "tV7nHD9UXh0w"
      },
      "source": [
        "num_clusers = list(range(1,11))\n",
        "ssd = []\n",
        "for clustuer in num_clusers:\n",
        "    kmeans = KMeans(n_clusters=clustuer, max_iter= 50)\n",
        "    kmeans.fit(df_scaled)\n",
        "    ssd.append(kmeans.inertia_)"
      ],
      "execution_count": 48,
      "outputs": []
    },
    {
      "cell_type": "code",
      "metadata": {
        "colab": {
          "base_uri": "https://localhost:8080/",
          "height": 409
        },
        "id": "ujg58vnKXkUN",
        "outputId": "25cbec5a-e7fa-47b9-a90e-25bcc94c6b18"
      },
      "source": [
        "# Plotting metode elbow\n",
        "plt.figure(figsize=(10,6))\n",
        "plt.plot(num_clusers,ssd, marker = 'o')\n",
        "plt.title('Elbow Method', fontsize = 16)\n",
        "plt.xlabel('Number of clusters',fontsize=12)\n",
        "plt.ylabel('Sum of Squared distance',fontsize=12)\n",
        "plt.vlines(x=3, ymax=ssd[-1], ymin=ssd[0], colors=\"r\", linestyles=\"-\")\n",
        "plt.hlines(y=ssd[2], xmax=9, xmin=1, colors=\"r\", linestyles=\"--\")\n",
        "\n",
        "plt.show()"
      ],
      "execution_count": 49,
      "outputs": [
        {
          "output_type": "display_data",
          "data": {
            "image/png": "[encoded data removed]",
            "text/plain": [
              "<Figure size 720x432 with 1 Axes>"
            ]
          },
          "metadata": {
            "needs_background": "light"
          }
        }
      ]
    },
    {
      "cell_type": "markdown",
      "metadata": {
        "id": "rNWxW4dfpLeC"
      },
      "source": [
        "Berdasarkan elbow method, kita dapat menggunakan nilai k=3"
      ]
    },
    {
      "cell_type": "code",
      "metadata": {
        "colab": {
          "base_uri": "https://localhost:8080/"
        },
        "id": "k2o-WmxvXmrB",
        "outputId": "9938577a-4153-4129-dd25-9f698957c794"
      },
      "source": [
        "# K-Mean dengan nilai k =3\n",
        "kmeans = KMeans(n_clusters = 3, max_iter = 50, random_state= 50)\n",
        "kmeans.fit(df_scaled)"
      ],
      "execution_count": 50,
      "outputs": [
        {
          "output_type": "execute_result",
          "data": {
            "text/plain": [
              "KMeans(algorithm='auto', copy_x=True, init='k-means++', max_iter=50,\n",
              "       n_clusters=3, n_init=10, n_jobs=None, precompute_distances='auto',\n",
              "       random_state=50, tol=0.0001, verbose=0)"
            ]
          },
          "metadata": {},
          "execution_count": 50
        }
      ]
    },
    {
      "cell_type": "code",
      "metadata": {
        "colab": {
          "base_uri": "https://localhost:8080/",
          "height": 220
        },
        "id": "6YcUjKUzXz6W",
        "outputId": "828a8493-f549-4adb-c9a0-fd8c11a94c88"
      },
      "source": [
        "# menambahkan kolom dengan nilai hasil klustering\n",
        "df_country = df.copy()\n",
        "df_country['KMean_clusterid']= pd.Series(kmeans.labels_)\n",
        "df_country.head()"
      ],
      "execution_count": 51,
      "outputs": [
        {
          "output_type": "execute_result",
          "data": {
            "text/html": [
              "<div>\n",
              "<style scoped>\n",
              "    .dataframe tbody tr th:only-of-type {\n",
              "        vertical-align: middle;\n",
              "    }\n",
              "\n",
              "    .dataframe tbody tr th {\n",
              "        vertical-align: top;\n",
              "    }\n",
              "\n",
              "    .dataframe thead th {\n",
              "        text-align: right;\n",
              "    }\n",
              "</style>\n",
              "<table border=\"1\" class=\"dataframe\">\n",
              "  <thead>\n",
              "    <tr style=\"text-align: right;\">\n",
              "      <th></th>\n",
              "      <th>Negara</th>\n",
              "      <th>Kematian_anak</th>\n",
              "      <th>Ekspor</th>\n",
              "      <th>Kesehatan</th>\n",
              "      <th>Impor</th>\n",
              "      <th>Pendapatan</th>\n",
              "      <th>Inflasi</th>\n",
              "      <th>Harapan_hidup</th>\n",
              "      <th>Jumlah_fertiliti</th>\n",
              "      <th>GDPperkapita</th>\n",
              "      <th>KMean_clusterid</th>\n",
              "    </tr>\n",
              "  </thead>\n",
              "  <tbody>\n",
              "    <tr>\n",
              "      <th>0</th>\n",
              "      <td>Afghanistan</td>\n",
              "      <td>90.2</td>\n",
              "      <td>55.30</td>\n",
              "      <td>41.9174</td>\n",
              "      <td>248.297</td>\n",
              "      <td>1610</td>\n",
              "      <td>9.44</td>\n",
              "      <td>56.2</td>\n",
              "      <td>5.82</td>\n",
              "      <td>553</td>\n",
              "      <td>2</td>\n",
              "    </tr>\n",
              "    <tr>\n",
              "      <th>1</th>\n",
              "      <td>Albania</td>\n",
              "      <td>16.6</td>\n",
              "      <td>1145.20</td>\n",
              "      <td>267.8950</td>\n",
              "      <td>1987.740</td>\n",
              "      <td>9930</td>\n",
              "      <td>4.49</td>\n",
              "      <td>76.3</td>\n",
              "      <td>1.65</td>\n",
              "      <td>4090</td>\n",
              "      <td>0</td>\n",
              "    </tr>\n",
              "    <tr>\n",
              "      <th>2</th>\n",
              "      <td>Algeria</td>\n",
              "      <td>27.3</td>\n",
              "      <td>1712.64</td>\n",
              "      <td>185.9820</td>\n",
              "      <td>1400.440</td>\n",
              "      <td>12900</td>\n",
              "      <td>16.10</td>\n",
              "      <td>76.5</td>\n",
              "      <td>2.89</td>\n",
              "      <td>4460</td>\n",
              "      <td>0</td>\n",
              "    </tr>\n",
              "    <tr>\n",
              "      <th>3</th>\n",
              "      <td>Angola</td>\n",
              "      <td>119.0</td>\n",
              "      <td>2199.19</td>\n",
              "      <td>100.6050</td>\n",
              "      <td>1514.370</td>\n",
              "      <td>5900</td>\n",
              "      <td>22.40</td>\n",
              "      <td>60.1</td>\n",
              "      <td>6.16</td>\n",
              "      <td>3530</td>\n",
              "      <td>2</td>\n",
              "    </tr>\n",
              "    <tr>\n",
              "      <th>4</th>\n",
              "      <td>Antigua and Barbuda</td>\n",
              "      <td>10.3</td>\n",
              "      <td>5551.00</td>\n",
              "      <td>735.6600</td>\n",
              "      <td>7185.800</td>\n",
              "      <td>19100</td>\n",
              "      <td>1.44</td>\n",
              "      <td>76.8</td>\n",
              "      <td>2.13</td>\n",
              "      <td>12200</td>\n",
              "      <td>0</td>\n",
              "    </tr>\n",
              "  </tbody>\n",
              "</table>\n",
              "</div>"
            ],
            "text/plain": [
              "                Negara  Kematian_anak  ...  GDPperkapita  KMean_clusterid\n",
              "0          Afghanistan           90.2  ...           553                2\n",
              "1              Albania           16.6  ...          4090                0\n",
              "2              Algeria           27.3  ...          4460                0\n",
              "3               Angola          119.0  ...          3530                2\n",
              "4  Antigua and Barbuda           10.3  ...         12200                0\n",
              "\n",
              "[5 rows x 11 columns]"
            ]
          },
          "metadata": {},
          "execution_count": 51
        }
      ]
    },
    {
      "cell_type": "code",
      "metadata": {
        "colab": {
          "base_uri": "https://localhost:8080/"
        },
        "id": "f8I1E3xWX4Yk",
        "outputId": "59d65a1f-4579-4ce4-8213-4b252999b77f"
      },
      "source": [
        "# kita akan melihat nilai masing-masing value\n",
        "df_country.KMean_clusterid.value_counts()"
      ],
      "execution_count": 52,
      "outputs": [
        {
          "output_type": "execute_result",
          "data": {
            "text/plain": [
              "0    93\n",
              "2    46\n",
              "1    28\n",
              "Name: KMean_clusterid, dtype: int64"
            ]
          },
          "metadata": {},
          "execution_count": 52
        }
      ]
    },
    {
      "cell_type": "code",
      "metadata": {
        "colab": {
          "base_uri": "https://localhost:8080/",
          "height": 334
        },
        "id": "v3z87eSwX675",
        "outputId": "6ec2bb58-dc28-4d90-aa3e-5cc4dcc4da66"
      },
      "source": [
        "# Kita akan melakukan beberapa visualisasi dengan scatter plot menggunakan kolom dari dataset dengan korelasi yang tinggi\n",
        "\n",
        "plt.figure(figsize=(18, 5))\n",
        "plt.subplot(1, 3, 1)\n",
        "sns.scatterplot(x='GDPperkapita', y='Kematian_anak', hue='KMean_clusterid', data=df_country, palette=\"bright\", alpha=.4)\n",
        "\n",
        "plt.subplot(1, 3, 2)\n",
        "sns.scatterplot(x='Pendapatan', y='Kematian_anak', hue='KMean_clusterid',data=df_country, palette=\"bright\", alpha=.4)\n",
        "\n",
        "plt.subplot(1, 3, 3)\n",
        "sns.scatterplot(x='GDPperkapita', y='Pendapatan', hue='KMean_clusterid', data=df_country, palette=\"bright\", alpha=.4)\n",
        "\n",
        "plt.show()"
      ],
      "execution_count": 53,
      "outputs": [
        {
          "output_type": "display_data",
          "data": {
            "image/png": "[encoded data removed]",
            "text/plain": [
              "<Figure size 1296x360 with 3 Axes>"
            ]
          },
          "metadata": {
            "needs_background": "light"
          }
        }
      ]
    },
    {
      "cell_type": "code",
      "metadata": {
        "colab": {
          "base_uri": "https://localhost:8080/",
          "height": 172
        },
        "id": "HH-7P4fQYfB8",
        "outputId": "c7c03803-2c6f-487e-94d4-5e5b8c77ab88"
      },
      "source": [
        "# kita cek rata-rata mean\n",
        "df_country_analysis = df_country.groupby(['KMean_clusterid']).mean().sort_values(['Kematian_anak','Pendapatan','GDPperkapita'],ascending = [False,True,True])\n",
        "df_country_analysis"
      ],
      "execution_count": 56,
      "outputs": [
        {
          "output_type": "execute_result",
          "data": {
            "text/html": [
              "<div>\n",
              "<style scoped>\n",
              "    .dataframe tbody tr th:only-of-type {\n",
              "        vertical-align: middle;\n",
              "    }\n",
              "\n",
              "    .dataframe tbody tr th {\n",
              "        vertical-align: top;\n",
              "    }\n",
              "\n",
              "    .dataframe thead th {\n",
              "        text-align: right;\n",
              "    }\n",
              "</style>\n",
              "<table border=\"1\" class=\"dataframe\">\n",
              "  <thead>\n",
              "    <tr style=\"text-align: right;\">\n",
              "      <th></th>\n",
              "      <th>Kematian_anak</th>\n",
              "      <th>Ekspor</th>\n",
              "      <th>Kesehatan</th>\n",
              "      <th>Impor</th>\n",
              "      <th>Pendapatan</th>\n",
              "      <th>Inflasi</th>\n",
              "      <th>Harapan_hidup</th>\n",
              "      <th>Jumlah_fertiliti</th>\n",
              "      <th>GDPperkapita</th>\n",
              "    </tr>\n",
              "    <tr>\n",
              "      <th>KMean_clusterid</th>\n",
              "      <th></th>\n",
              "      <th></th>\n",
              "      <th></th>\n",
              "      <th></th>\n",
              "      <th></th>\n",
              "      <th></th>\n",
              "      <th></th>\n",
              "      <th></th>\n",
              "      <th></th>\n",
              "    </tr>\n",
              "  </thead>\n",
              "  <tbody>\n",
              "    <tr>\n",
              "      <th>2</th>\n",
              "      <td>93.284783</td>\n",
              "      <td>811.834109</td>\n",
              "      <td>94.207885</td>\n",
              "      <td>748.806761</td>\n",
              "      <td>3516.804348</td>\n",
              "      <td>12.097065</td>\n",
              "      <td>59.393478</td>\n",
              "      <td>5.090217</td>\n",
              "      <td>1695.913043</td>\n",
              "    </tr>\n",
              "    <tr>\n",
              "      <th>0</th>\n",
              "      <td>21.061290</td>\n",
              "      <td>3578.798694</td>\n",
              "      <td>548.175402</td>\n",
              "      <td>3687.127861</td>\n",
              "      <td>13939.677419</td>\n",
              "      <td>7.082688</td>\n",
              "      <td>73.078495</td>\n",
              "      <td>2.245806</td>\n",
              "      <td>7954.860215</td>\n",
              "    </tr>\n",
              "    <tr>\n",
              "      <th>1</th>\n",
              "      <td>5.046429</td>\n",
              "      <td>31038.239286</td>\n",
              "      <td>4327.163214</td>\n",
              "      <td>25818.100000</td>\n",
              "      <td>50178.571429</td>\n",
              "      <td>3.014679</td>\n",
              "      <td>80.514286</td>\n",
              "      <td>1.760714</td>\n",
              "      <td>48114.285714</td>\n",
              "    </tr>\n",
              "  </tbody>\n",
              "</table>\n",
              "</div>"
            ],
            "text/plain": [
              "                 Kematian_anak        Ekspor  ...  Jumlah_fertiliti  GDPperkapita\n",
              "KMean_clusterid                               ...                                \n",
              "2                    93.284783    811.834109  ...          5.090217   1695.913043\n",
              "0                    21.061290   3578.798694  ...          2.245806   7954.860215\n",
              "1                     5.046429  31038.239286  ...          1.760714  48114.285714\n",
              "\n",
              "[3 rows x 9 columns]"
            ]
          },
          "metadata": {},
          "execution_count": 56
        }
      ]
    },
    {
      "cell_type": "markdown",
      "metadata": {
        "id": "4XgskdQlaPJe"
      },
      "source": [
        "berdasarkan nilai mean yang kita peroleh, didapatkan hasil klustering\n",
        "\n",
        "- cluster 0 : Negara Berkembang\n",
        "- Cluster 1: Negara Maju\n",
        "- Cluste 2: Negara Tertinggal\n",
        "---"
      ]
    },
    {
      "cell_type": "markdown",
      "metadata": {
        "id": "JVI4B8MeqHcx"
      },
      "source": [
        "Berdasarkan hasil klustering kita bisa mendapatkan daftar 46 negara yang termasuk dalam katagori teringgal"
      ]
    },
    {
      "cell_type": "code",
      "metadata": {
        "colab": {
          "base_uri": "https://localhost:8080/",
          "height": 1000
        },
        "id": "Op71Xu-MqZNC",
        "outputId": "8051e321-5928-41e8-ff94-52ef3478f170"
      },
      "source": [
        "Negara_tertinggal = df_country[df_country['KMean_clusterid']== 2]\n",
        "Negara_tertinggal"
      ],
      "execution_count": 61,
      "outputs": [
        {
          "output_type": "execute_result",
          "data": {
            "text/html": [
              "<div>\n",
              "<style scoped>\n",
              "    .dataframe tbody tr th:only-of-type {\n",
              "        vertical-align: middle;\n",
              "    }\n",
              "\n",
              "    .dataframe tbody tr th {\n",
              "        vertical-align: top;\n",
              "    }\n",
              "\n",
              "    .dataframe thead th {\n",
              "        text-align: right;\n",
              "    }\n",
              "</style>\n",
              "<table border=\"1\" class=\"dataframe\">\n",
              "  <thead>\n",
              "    <tr style=\"text-align: right;\">\n",
              "      <th></th>\n",
              "      <th>Negara</th>\n",
              "      <th>Kematian_anak</th>\n",
              "      <th>Ekspor</th>\n",
              "      <th>Kesehatan</th>\n",
              "      <th>Impor</th>\n",
              "      <th>Pendapatan</th>\n",
              "      <th>Inflasi</th>\n",
              "      <th>Harapan_hidup</th>\n",
              "      <th>Jumlah_fertiliti</th>\n",
              "      <th>GDPperkapita</th>\n",
              "      <th>KMean_clusterid</th>\n",
              "    </tr>\n",
              "  </thead>\n",
              "  <tbody>\n",
              "    <tr>\n",
              "      <th>0</th>\n",
              "      <td>Afghanistan</td>\n",
              "      <td>90.2</td>\n",
              "      <td>55.3000</td>\n",
              "      <td>41.9174</td>\n",
              "      <td>248.297</td>\n",
              "      <td>1610</td>\n",
              "      <td>9.440</td>\n",
              "      <td>56.2</td>\n",
              "      <td>5.82</td>\n",
              "      <td>553</td>\n",
              "      <td>2</td>\n",
              "    </tr>\n",
              "    <tr>\n",
              "      <th>3</th>\n",
              "      <td>Angola</td>\n",
              "      <td>119.0</td>\n",
              "      <td>2199.1900</td>\n",
              "      <td>100.6050</td>\n",
              "      <td>1514.370</td>\n",
              "      <td>5900</td>\n",
              "      <td>22.400</td>\n",
              "      <td>60.1</td>\n",
              "      <td>6.16</td>\n",
              "      <td>3530</td>\n",
              "      <td>2</td>\n",
              "    </tr>\n",
              "    <tr>\n",
              "      <th>17</th>\n",
              "      <td>Benin</td>\n",
              "      <td>111.0</td>\n",
              "      <td>180.4040</td>\n",
              "      <td>31.0780</td>\n",
              "      <td>281.976</td>\n",
              "      <td>1820</td>\n",
              "      <td>0.885</td>\n",
              "      <td>61.8</td>\n",
              "      <td>5.36</td>\n",
              "      <td>758</td>\n",
              "      <td>2</td>\n",
              "    </tr>\n",
              "    <tr>\n",
              "      <th>25</th>\n",
              "      <td>Burkina Faso</td>\n",
              "      <td>116.0</td>\n",
              "      <td>110.4000</td>\n",
              "      <td>38.7550</td>\n",
              "      <td>170.200</td>\n",
              "      <td>1430</td>\n",
              "      <td>6.810</td>\n",
              "      <td>57.9</td>\n",
              "      <td>5.87</td>\n",
              "      <td>575</td>\n",
              "      <td>2</td>\n",
              "    </tr>\n",
              "    <tr>\n",
              "      <th>26</th>\n",
              "      <td>Burundi</td>\n",
              "      <td>93.6</td>\n",
              "      <td>20.6052</td>\n",
              "      <td>26.7960</td>\n",
              "      <td>90.552</td>\n",
              "      <td>764</td>\n",
              "      <td>12.300</td>\n",
              "      <td>57.7</td>\n",
              "      <td>6.26</td>\n",
              "      <td>231</td>\n",
              "      <td>2</td>\n",
              "    </tr>\n",
              "    <tr>\n",
              "      <th>28</th>\n",
              "      <td>Cameroon</td>\n",
              "      <td>108.0</td>\n",
              "      <td>290.8200</td>\n",
              "      <td>67.2030</td>\n",
              "      <td>353.700</td>\n",
              "      <td>2660</td>\n",
              "      <td>1.910</td>\n",
              "      <td>57.3</td>\n",
              "      <td>5.11</td>\n",
              "      <td>1310</td>\n",
              "      <td>2</td>\n",
              "    </tr>\n",
              "    <tr>\n",
              "      <th>31</th>\n",
              "      <td>Central African Republic</td>\n",
              "      <td>149.0</td>\n",
              "      <td>52.6280</td>\n",
              "      <td>17.7508</td>\n",
              "      <td>118.190</td>\n",
              "      <td>888</td>\n",
              "      <td>2.010</td>\n",
              "      <td>47.5</td>\n",
              "      <td>5.21</td>\n",
              "      <td>446</td>\n",
              "      <td>2</td>\n",
              "    </tr>\n",
              "    <tr>\n",
              "      <th>32</th>\n",
              "      <td>Chad</td>\n",
              "      <td>150.0</td>\n",
              "      <td>330.0960</td>\n",
              "      <td>40.6341</td>\n",
              "      <td>390.195</td>\n",
              "      <td>1930</td>\n",
              "      <td>6.390</td>\n",
              "      <td>56.5</td>\n",
              "      <td>6.59</td>\n",
              "      <td>897</td>\n",
              "      <td>2</td>\n",
              "    </tr>\n",
              "    <tr>\n",
              "      <th>36</th>\n",
              "      <td>Comoros</td>\n",
              "      <td>88.2</td>\n",
              "      <td>126.8850</td>\n",
              "      <td>34.6819</td>\n",
              "      <td>397.573</td>\n",
              "      <td>1410</td>\n",
              "      <td>3.870</td>\n",
              "      <td>65.9</td>\n",
              "      <td>4.75</td>\n",
              "      <td>769</td>\n",
              "      <td>2</td>\n",
              "    </tr>\n",
              "    <tr>\n",
              "      <th>37</th>\n",
              "      <td>Congo, Dem. Rep.</td>\n",
              "      <td>116.0</td>\n",
              "      <td>137.2740</td>\n",
              "      <td>26.4194</td>\n",
              "      <td>165.664</td>\n",
              "      <td>609</td>\n",
              "      <td>20.800</td>\n",
              "      <td>57.5</td>\n",
              "      <td>6.54</td>\n",
              "      <td>334</td>\n",
              "      <td>2</td>\n",
              "    </tr>\n",
              "    <tr>\n",
              "      <th>38</th>\n",
              "      <td>Congo, Rep.</td>\n",
              "      <td>63.9</td>\n",
              "      <td>2331.7400</td>\n",
              "      <td>67.4040</td>\n",
              "      <td>1498.780</td>\n",
              "      <td>5190</td>\n",
              "      <td>20.700</td>\n",
              "      <td>60.4</td>\n",
              "      <td>4.95</td>\n",
              "      <td>2740</td>\n",
              "      <td>2</td>\n",
              "    </tr>\n",
              "    <tr>\n",
              "      <th>40</th>\n",
              "      <td>Cote d'Ivoire</td>\n",
              "      <td>111.0</td>\n",
              "      <td>617.3200</td>\n",
              "      <td>64.6600</td>\n",
              "      <td>528.260</td>\n",
              "      <td>2690</td>\n",
              "      <td>5.390</td>\n",
              "      <td>56.3</td>\n",
              "      <td>5.27</td>\n",
              "      <td>1220</td>\n",
              "      <td>2</td>\n",
              "    </tr>\n",
              "    <tr>\n",
              "      <th>49</th>\n",
              "      <td>Equatorial Guinea</td>\n",
              "      <td>111.0</td>\n",
              "      <td>14671.8000</td>\n",
              "      <td>766.0800</td>\n",
              "      <td>10071.900</td>\n",
              "      <td>33700</td>\n",
              "      <td>24.900</td>\n",
              "      <td>60.9</td>\n",
              "      <td>5.21</td>\n",
              "      <td>17100</td>\n",
              "      <td>2</td>\n",
              "    </tr>\n",
              "    <tr>\n",
              "      <th>50</th>\n",
              "      <td>Eritrea</td>\n",
              "      <td>55.2</td>\n",
              "      <td>23.0878</td>\n",
              "      <td>12.8212</td>\n",
              "      <td>112.306</td>\n",
              "      <td>1420</td>\n",
              "      <td>11.600</td>\n",
              "      <td>61.7</td>\n",
              "      <td>4.61</td>\n",
              "      <td>482</td>\n",
              "      <td>2</td>\n",
              "    </tr>\n",
              "    <tr>\n",
              "      <th>55</th>\n",
              "      <td>Gabon</td>\n",
              "      <td>63.7</td>\n",
              "      <td>5048.7500</td>\n",
              "      <td>306.2500</td>\n",
              "      <td>1653.750</td>\n",
              "      <td>15400</td>\n",
              "      <td>16.600</td>\n",
              "      <td>62.9</td>\n",
              "      <td>4.08</td>\n",
              "      <td>8750</td>\n",
              "      <td>2</td>\n",
              "    </tr>\n",
              "    <tr>\n",
              "      <th>56</th>\n",
              "      <td>Gambia</td>\n",
              "      <td>80.3</td>\n",
              "      <td>133.7560</td>\n",
              "      <td>31.9778</td>\n",
              "      <td>239.974</td>\n",
              "      <td>1660</td>\n",
              "      <td>4.300</td>\n",
              "      <td>65.5</td>\n",
              "      <td>5.71</td>\n",
              "      <td>562</td>\n",
              "      <td>2</td>\n",
              "    </tr>\n",
              "    <tr>\n",
              "      <th>59</th>\n",
              "      <td>Ghana</td>\n",
              "      <td>74.7</td>\n",
              "      <td>386.4500</td>\n",
              "      <td>68.3820</td>\n",
              "      <td>601.290</td>\n",
              "      <td>3060</td>\n",
              "      <td>16.600</td>\n",
              "      <td>62.2</td>\n",
              "      <td>4.27</td>\n",
              "      <td>1310</td>\n",
              "      <td>2</td>\n",
              "    </tr>\n",
              "    <tr>\n",
              "      <th>63</th>\n",
              "      <td>Guinea</td>\n",
              "      <td>109.0</td>\n",
              "      <td>196.3440</td>\n",
              "      <td>31.9464</td>\n",
              "      <td>279.936</td>\n",
              "      <td>1190</td>\n",
              "      <td>16.100</td>\n",
              "      <td>58.0</td>\n",
              "      <td>5.34</td>\n",
              "      <td>648</td>\n",
              "      <td>2</td>\n",
              "    </tr>\n",
              "    <tr>\n",
              "      <th>64</th>\n",
              "      <td>Guinea-Bissau</td>\n",
              "      <td>114.0</td>\n",
              "      <td>81.5030</td>\n",
              "      <td>46.4950</td>\n",
              "      <td>192.544</td>\n",
              "      <td>1390</td>\n",
              "      <td>2.970</td>\n",
              "      <td>55.6</td>\n",
              "      <td>5.05</td>\n",
              "      <td>547</td>\n",
              "      <td>2</td>\n",
              "    </tr>\n",
              "    <tr>\n",
              "      <th>66</th>\n",
              "      <td>Haiti</td>\n",
              "      <td>208.0</td>\n",
              "      <td>101.2860</td>\n",
              "      <td>45.7442</td>\n",
              "      <td>428.314</td>\n",
              "      <td>1500</td>\n",
              "      <td>5.450</td>\n",
              "      <td>32.1</td>\n",
              "      <td>3.33</td>\n",
              "      <td>662</td>\n",
              "      <td>2</td>\n",
              "    </tr>\n",
              "    <tr>\n",
              "      <th>72</th>\n",
              "      <td>Iraq</td>\n",
              "      <td>36.9</td>\n",
              "      <td>1773.0000</td>\n",
              "      <td>378.4500</td>\n",
              "      <td>1534.500</td>\n",
              "      <td>12700</td>\n",
              "      <td>16.600</td>\n",
              "      <td>67.2</td>\n",
              "      <td>4.56</td>\n",
              "      <td>4500</td>\n",
              "      <td>2</td>\n",
              "    </tr>\n",
              "    <tr>\n",
              "      <th>80</th>\n",
              "      <td>Kenya</td>\n",
              "      <td>62.2</td>\n",
              "      <td>200.1690</td>\n",
              "      <td>45.9325</td>\n",
              "      <td>324.912</td>\n",
              "      <td>2480</td>\n",
              "      <td>2.090</td>\n",
              "      <td>62.8</td>\n",
              "      <td>4.37</td>\n",
              "      <td>967</td>\n",
              "      <td>2</td>\n",
              "    </tr>\n",
              "    <tr>\n",
              "      <th>81</th>\n",
              "      <td>Kiribati</td>\n",
              "      <td>62.7</td>\n",
              "      <td>198.1700</td>\n",
              "      <td>168.3700</td>\n",
              "      <td>1190.510</td>\n",
              "      <td>1730</td>\n",
              "      <td>1.520</td>\n",
              "      <td>60.7</td>\n",
              "      <td>3.84</td>\n",
              "      <td>1490</td>\n",
              "      <td>2</td>\n",
              "    </tr>\n",
              "    <tr>\n",
              "      <th>84</th>\n",
              "      <td>Lao</td>\n",
              "      <td>78.9</td>\n",
              "      <td>403.5600</td>\n",
              "      <td>50.9580</td>\n",
              "      <td>562.020</td>\n",
              "      <td>3980</td>\n",
              "      <td>9.200</td>\n",
              "      <td>63.8</td>\n",
              "      <td>3.15</td>\n",
              "      <td>1140</td>\n",
              "      <td>2</td>\n",
              "    </tr>\n",
              "    <tr>\n",
              "      <th>87</th>\n",
              "      <td>Lesotho</td>\n",
              "      <td>99.7</td>\n",
              "      <td>460.9800</td>\n",
              "      <td>129.8700</td>\n",
              "      <td>1181.700</td>\n",
              "      <td>2380</td>\n",
              "      <td>4.150</td>\n",
              "      <td>46.5</td>\n",
              "      <td>3.30</td>\n",
              "      <td>1170</td>\n",
              "      <td>2</td>\n",
              "    </tr>\n",
              "    <tr>\n",
              "      <th>88</th>\n",
              "      <td>Liberia</td>\n",
              "      <td>89.3</td>\n",
              "      <td>62.4570</td>\n",
              "      <td>38.5860</td>\n",
              "      <td>302.802</td>\n",
              "      <td>700</td>\n",
              "      <td>5.470</td>\n",
              "      <td>60.8</td>\n",
              "      <td>5.02</td>\n",
              "      <td>327</td>\n",
              "      <td>2</td>\n",
              "    </tr>\n",
              "    <tr>\n",
              "      <th>93</th>\n",
              "      <td>Madagascar</td>\n",
              "      <td>62.2</td>\n",
              "      <td>103.2500</td>\n",
              "      <td>15.5701</td>\n",
              "      <td>177.590</td>\n",
              "      <td>1390</td>\n",
              "      <td>8.790</td>\n",
              "      <td>60.8</td>\n",
              "      <td>4.60</td>\n",
              "      <td>413</td>\n",
              "      <td>2</td>\n",
              "    </tr>\n",
              "    <tr>\n",
              "      <th>94</th>\n",
              "      <td>Malawi</td>\n",
              "      <td>90.5</td>\n",
              "      <td>104.6520</td>\n",
              "      <td>30.2481</td>\n",
              "      <td>160.191</td>\n",
              "      <td>1030</td>\n",
              "      <td>12.100</td>\n",
              "      <td>53.1</td>\n",
              "      <td>5.31</td>\n",
              "      <td>459</td>\n",
              "      <td>2</td>\n",
              "    </tr>\n",
              "    <tr>\n",
              "      <th>97</th>\n",
              "      <td>Mali</td>\n",
              "      <td>137.0</td>\n",
              "      <td>161.4240</td>\n",
              "      <td>35.2584</td>\n",
              "      <td>248.508</td>\n",
              "      <td>1870</td>\n",
              "      <td>4.370</td>\n",
              "      <td>59.5</td>\n",
              "      <td>6.55</td>\n",
              "      <td>708</td>\n",
              "      <td>2</td>\n",
              "    </tr>\n",
              "    <tr>\n",
              "      <th>99</th>\n",
              "      <td>Mauritania</td>\n",
              "      <td>97.4</td>\n",
              "      <td>608.4000</td>\n",
              "      <td>52.9200</td>\n",
              "      <td>734.400</td>\n",
              "      <td>3320</td>\n",
              "      <td>18.900</td>\n",
              "      <td>68.2</td>\n",
              "      <td>4.98</td>\n",
              "      <td>1200</td>\n",
              "      <td>2</td>\n",
              "    </tr>\n",
              "    <tr>\n",
              "      <th>106</th>\n",
              "      <td>Mozambique</td>\n",
              "      <td>101.0</td>\n",
              "      <td>131.9850</td>\n",
              "      <td>21.8299</td>\n",
              "      <td>193.578</td>\n",
              "      <td>918</td>\n",
              "      <td>7.640</td>\n",
              "      <td>54.5</td>\n",
              "      <td>5.56</td>\n",
              "      <td>419</td>\n",
              "      <td>2</td>\n",
              "    </tr>\n",
              "    <tr>\n",
              "      <th>108</th>\n",
              "      <td>Namibia</td>\n",
              "      <td>56.0</td>\n",
              "      <td>2480.8200</td>\n",
              "      <td>351.8820</td>\n",
              "      <td>3150.330</td>\n",
              "      <td>8460</td>\n",
              "      <td>3.560</td>\n",
              "      <td>58.6</td>\n",
              "      <td>3.60</td>\n",
              "      <td>5190</td>\n",
              "      <td>2</td>\n",
              "    </tr>\n",
              "    <tr>\n",
              "      <th>112</th>\n",
              "      <td>Niger</td>\n",
              "      <td>123.0</td>\n",
              "      <td>77.2560</td>\n",
              "      <td>17.9568</td>\n",
              "      <td>170.868</td>\n",
              "      <td>814</td>\n",
              "      <td>2.550</td>\n",
              "      <td>58.8</td>\n",
              "      <td>7.49</td>\n",
              "      <td>348</td>\n",
              "      <td>2</td>\n",
              "    </tr>\n",
              "    <tr>\n",
              "      <th>113</th>\n",
              "      <td>Nigeria</td>\n",
              "      <td>130.0</td>\n",
              "      <td>589.4900</td>\n",
              "      <td>118.1310</td>\n",
              "      <td>405.420</td>\n",
              "      <td>5150</td>\n",
              "      <td>104.000</td>\n",
              "      <td>60.5</td>\n",
              "      <td>5.84</td>\n",
              "      <td>2330</td>\n",
              "      <td>2</td>\n",
              "    </tr>\n",
              "    <tr>\n",
              "      <th>116</th>\n",
              "      <td>Pakistan</td>\n",
              "      <td>92.1</td>\n",
              "      <td>140.4000</td>\n",
              "      <td>22.8800</td>\n",
              "      <td>201.760</td>\n",
              "      <td>4280</td>\n",
              "      <td>10.900</td>\n",
              "      <td>65.3</td>\n",
              "      <td>3.85</td>\n",
              "      <td>1040</td>\n",
              "      <td>2</td>\n",
              "    </tr>\n",
              "    <tr>\n",
              "      <th>126</th>\n",
              "      <td>Rwanda</td>\n",
              "      <td>63.6</td>\n",
              "      <td>67.5600</td>\n",
              "      <td>59.1150</td>\n",
              "      <td>168.900</td>\n",
              "      <td>1350</td>\n",
              "      <td>2.610</td>\n",
              "      <td>64.6</td>\n",
              "      <td>4.51</td>\n",
              "      <td>563</td>\n",
              "      <td>2</td>\n",
              "    </tr>\n",
              "    <tr>\n",
              "      <th>129</th>\n",
              "      <td>Senegal</td>\n",
              "      <td>66.8</td>\n",
              "      <td>249.0000</td>\n",
              "      <td>56.6000</td>\n",
              "      <td>403.000</td>\n",
              "      <td>2180</td>\n",
              "      <td>1.850</td>\n",
              "      <td>64.0</td>\n",
              "      <td>5.06</td>\n",
              "      <td>1000</td>\n",
              "      <td>2</td>\n",
              "    </tr>\n",
              "    <tr>\n",
              "      <th>132</th>\n",
              "      <td>Sierra Leone</td>\n",
              "      <td>160.0</td>\n",
              "      <td>67.0320</td>\n",
              "      <td>52.2690</td>\n",
              "      <td>137.655</td>\n",
              "      <td>1220</td>\n",
              "      <td>17.200</td>\n",
              "      <td>55.0</td>\n",
              "      <td>5.20</td>\n",
              "      <td>399</td>\n",
              "      <td>2</td>\n",
              "    </tr>\n",
              "    <tr>\n",
              "      <th>136</th>\n",
              "      <td>Solomon Islands</td>\n",
              "      <td>28.1</td>\n",
              "      <td>635.9700</td>\n",
              "      <td>110.2950</td>\n",
              "      <td>1047.480</td>\n",
              "      <td>1780</td>\n",
              "      <td>6.810</td>\n",
              "      <td>61.7</td>\n",
              "      <td>4.24</td>\n",
              "      <td>1290</td>\n",
              "      <td>2</td>\n",
              "    </tr>\n",
              "    <tr>\n",
              "      <th>142</th>\n",
              "      <td>Sudan</td>\n",
              "      <td>76.7</td>\n",
              "      <td>291.5600</td>\n",
              "      <td>93.5360</td>\n",
              "      <td>254.560</td>\n",
              "      <td>3370</td>\n",
              "      <td>19.600</td>\n",
              "      <td>66.3</td>\n",
              "      <td>4.88</td>\n",
              "      <td>1480</td>\n",
              "      <td>2</td>\n",
              "    </tr>\n",
              "    <tr>\n",
              "      <th>147</th>\n",
              "      <td>Tanzania</td>\n",
              "      <td>71.9</td>\n",
              "      <td>131.2740</td>\n",
              "      <td>42.1902</td>\n",
              "      <td>204.282</td>\n",
              "      <td>2090</td>\n",
              "      <td>9.250</td>\n",
              "      <td>59.3</td>\n",
              "      <td>5.43</td>\n",
              "      <td>702</td>\n",
              "      <td>2</td>\n",
              "    </tr>\n",
              "    <tr>\n",
              "      <th>149</th>\n",
              "      <td>Timor-Leste</td>\n",
              "      <td>62.6</td>\n",
              "      <td>79.2000</td>\n",
              "      <td>328.3200</td>\n",
              "      <td>1000.800</td>\n",
              "      <td>1850</td>\n",
              "      <td>26.500</td>\n",
              "      <td>71.1</td>\n",
              "      <td>6.23</td>\n",
              "      <td>3600</td>\n",
              "      <td>2</td>\n",
              "    </tr>\n",
              "    <tr>\n",
              "      <th>150</th>\n",
              "      <td>Togo</td>\n",
              "      <td>90.3</td>\n",
              "      <td>196.1760</td>\n",
              "      <td>37.3320</td>\n",
              "      <td>279.624</td>\n",
              "      <td>1210</td>\n",
              "      <td>1.180</td>\n",
              "      <td>58.7</td>\n",
              "      <td>4.87</td>\n",
              "      <td>488</td>\n",
              "      <td>2</td>\n",
              "    </tr>\n",
              "    <tr>\n",
              "      <th>155</th>\n",
              "      <td>Uganda</td>\n",
              "      <td>81.0</td>\n",
              "      <td>101.7450</td>\n",
              "      <td>53.6095</td>\n",
              "      <td>170.170</td>\n",
              "      <td>1540</td>\n",
              "      <td>10.600</td>\n",
              "      <td>56.8</td>\n",
              "      <td>6.15</td>\n",
              "      <td>595</td>\n",
              "      <td>2</td>\n",
              "    </tr>\n",
              "    <tr>\n",
              "      <th>165</th>\n",
              "      <td>Yemen</td>\n",
              "      <td>56.3</td>\n",
              "      <td>393.0000</td>\n",
              "      <td>67.8580</td>\n",
              "      <td>450.640</td>\n",
              "      <td>4480</td>\n",
              "      <td>23.600</td>\n",
              "      <td>67.5</td>\n",
              "      <td>4.67</td>\n",
              "      <td>1310</td>\n",
              "      <td>2</td>\n",
              "    </tr>\n",
              "    <tr>\n",
              "      <th>166</th>\n",
              "      <td>Zambia</td>\n",
              "      <td>83.1</td>\n",
              "      <td>540.2000</td>\n",
              "      <td>85.9940</td>\n",
              "      <td>451.140</td>\n",
              "      <td>3280</td>\n",
              "      <td>14.000</td>\n",
              "      <td>52.0</td>\n",
              "      <td>5.40</td>\n",
              "      <td>1460</td>\n",
              "      <td>2</td>\n",
              "    </tr>\n",
              "  </tbody>\n",
              "</table>\n",
              "</div>"
            ],
            "text/plain": [
              "                       Negara  Kematian_anak  ...  GDPperkapita  KMean_clusterid\n",
              "0                 Afghanistan           90.2  ...           553                2\n",
              "3                      Angola          119.0  ...          3530                2\n",
              "17                      Benin          111.0  ...           758                2\n",
              "25               Burkina Faso          116.0  ...           575                2\n",
              "26                    Burundi           93.6  ...           231                2\n",
              "28                   Cameroon          108.0  ...          1310                2\n",
              "31   Central African Republic          149.0  ...           446                2\n",
              "32                       Chad          150.0  ...           897                2\n",
              "36                    Comoros           88.2  ...           769                2\n",
              "37           Congo, Dem. Rep.          116.0  ...           334                2\n",
              "38                Congo, Rep.           63.9  ...          2740                2\n",
              "40              Cote d'Ivoire          111.0  ...          1220                2\n",
              "49          Equatorial Guinea          111.0  ...         17100                2\n",
              "50                    Eritrea           55.2  ...           482                2\n",
              "55                      Gabon           63.7  ...          8750                2\n",
              "56                     Gambia           80.3  ...           562                2\n",
              "59                      Ghana           74.7  ...          1310                2\n",
              "63                     Guinea          109.0  ...           648                2\n",
              "64              Guinea-Bissau          114.0  ...           547                2\n",
              "66                      Haiti          208.0  ...           662                2\n",
              "72                       Iraq           36.9  ...          4500                2\n",
              "80                      Kenya           62.2  ...           967                2\n",
              "81                   Kiribati           62.7  ...          1490                2\n",
              "84                        Lao           78.9  ...          1140                2\n",
              "87                    Lesotho           99.7  ...          1170                2\n",
              "88                    Liberia           89.3  ...           327                2\n",
              "93                 Madagascar           62.2  ...           413                2\n",
              "94                     Malawi           90.5  ...           459                2\n",
              "97                       Mali          137.0  ...           708                2\n",
              "99                 Mauritania           97.4  ...          1200                2\n",
              "106                Mozambique          101.0  ...           419                2\n",
              "108                   Namibia           56.0  ...          5190                2\n",
              "112                     Niger          123.0  ...           348                2\n",
              "113                   Nigeria          130.0  ...          2330                2\n",
              "116                  Pakistan           92.1  ...          1040                2\n",
              "126                    Rwanda           63.6  ...           563                2\n",
              "129                   Senegal           66.8  ...          1000                2\n",
              "132              Sierra Leone          160.0  ...           399                2\n",
              "136           Solomon Islands           28.1  ...          1290                2\n",
              "142                     Sudan           76.7  ...          1480                2\n",
              "147                  Tanzania           71.9  ...           702                2\n",
              "149               Timor-Leste           62.6  ...          3600                2\n",
              "150                      Togo           90.3  ...           488                2\n",
              "155                    Uganda           81.0  ...           595                2\n",
              "165                     Yemen           56.3  ...          1310                2\n",
              "166                    Zambia           83.1  ...          1460                2\n",
              "\n",
              "[46 rows x 11 columns]"
            ]
          },
          "metadata": {},
          "execution_count": 61
        }
      ]
    },
    {
      "cell_type": "markdown",
      "metadata": {
        "id": "ZU8Lcd8wrNR2"
      },
      "source": [
        "Selanjutnya, kita akan memilih 5 negara paling tertinggal berdasarkan GDPperkapita, pendapatan, dan tingkat kematian anak"
      ]
    },
    {
      "cell_type": "code",
      "metadata": {
        "colab": {
          "base_uri": "https://localhost:8080/"
        },
        "id": "C1YvAmnJZiLG",
        "outputId": "b7cc1400-2402-4a6a-83c2-552f1acb9dec"
      },
      "source": [
        "# Memilih 5 negara paling tertinggal berdasarkan GDPperkapita, pendapatan, dan tingkat kematian anak\n",
        "K_cluster_Undeveloped = df_country[df_country['KMean_clusterid']== 2]\n",
        "K_top5 = K_cluster_Undeveloped.sort_values(by = ['GDPperkapita','Pendapatan','Kematian_anak'],\n",
        "                                                     ascending=[True, True, False]).head(5)\n",
        "\n",
        "print( '5 Negara paling membutuhkan bantuan:' , K_top5['Negara'].values )"
      ],
      "execution_count": 57,
      "outputs": [
        {
          "output_type": "stream",
          "name": "stdout",
          "text": [
            "Top 5 countries dire need of aid  based on K cluster are: ['Burundi' 'Liberia' 'Congo, Dem. Rep.' 'Niger' 'Sierra Leone']\n"
          ]
        }
      ]
    },
    {
      "cell_type": "code",
      "metadata": {
        "colab": {
          "base_uri": "https://localhost:8080/",
          "height": 220
        },
        "id": "-0vm0YHcrbeI",
        "outputId": "7443362c-ac03-4268-9500-6ea691830605"
      },
      "source": [
        "#Rincian 5 negara paling membutuhkan bantuan\n",
        "K_top5"
      ],
      "execution_count": 62,
      "outputs": [
        {
          "output_type": "execute_result",
          "data": {
            "text/html": [
              "<div>\n",
              "<style scoped>\n",
              "    .dataframe tbody tr th:only-of-type {\n",
              "        vertical-align: middle;\n",
              "    }\n",
              "\n",
              "    .dataframe tbody tr th {\n",
              "        vertical-align: top;\n",
              "    }\n",
              "\n",
              "    .dataframe thead th {\n",
              "        text-align: right;\n",
              "    }\n",
              "</style>\n",
              "<table border=\"1\" class=\"dataframe\">\n",
              "  <thead>\n",
              "    <tr style=\"text-align: right;\">\n",
              "      <th></th>\n",
              "      <th>Negara</th>\n",
              "      <th>Kematian_anak</th>\n",
              "      <th>Ekspor</th>\n",
              "      <th>Kesehatan</th>\n",
              "      <th>Impor</th>\n",
              "      <th>Pendapatan</th>\n",
              "      <th>Inflasi</th>\n",
              "      <th>Harapan_hidup</th>\n",
              "      <th>Jumlah_fertiliti</th>\n",
              "      <th>GDPperkapita</th>\n",
              "      <th>KMean_clusterid</th>\n",
              "    </tr>\n",
              "  </thead>\n",
              "  <tbody>\n",
              "    <tr>\n",
              "      <th>26</th>\n",
              "      <td>Burundi</td>\n",
              "      <td>93.6</td>\n",
              "      <td>20.6052</td>\n",
              "      <td>26.7960</td>\n",
              "      <td>90.552</td>\n",
              "      <td>764</td>\n",
              "      <td>12.30</td>\n",
              "      <td>57.7</td>\n",
              "      <td>6.26</td>\n",
              "      <td>231</td>\n",
              "      <td>2</td>\n",
              "    </tr>\n",
              "    <tr>\n",
              "      <th>88</th>\n",
              "      <td>Liberia</td>\n",
              "      <td>89.3</td>\n",
              "      <td>62.4570</td>\n",
              "      <td>38.5860</td>\n",
              "      <td>302.802</td>\n",
              "      <td>700</td>\n",
              "      <td>5.47</td>\n",
              "      <td>60.8</td>\n",
              "      <td>5.02</td>\n",
              "      <td>327</td>\n",
              "      <td>2</td>\n",
              "    </tr>\n",
              "    <tr>\n",
              "      <th>37</th>\n",
              "      <td>Congo, Dem. Rep.</td>\n",
              "      <td>116.0</td>\n",
              "      <td>137.2740</td>\n",
              "      <td>26.4194</td>\n",
              "      <td>165.664</td>\n",
              "      <td>609</td>\n",
              "      <td>20.80</td>\n",
              "      <td>57.5</td>\n",
              "      <td>6.54</td>\n",
              "      <td>334</td>\n",
              "      <td>2</td>\n",
              "    </tr>\n",
              "    <tr>\n",
              "      <th>112</th>\n",
              "      <td>Niger</td>\n",
              "      <td>123.0</td>\n",
              "      <td>77.2560</td>\n",
              "      <td>17.9568</td>\n",
              "      <td>170.868</td>\n",
              "      <td>814</td>\n",
              "      <td>2.55</td>\n",
              "      <td>58.8</td>\n",
              "      <td>7.49</td>\n",
              "      <td>348</td>\n",
              "      <td>2</td>\n",
              "    </tr>\n",
              "    <tr>\n",
              "      <th>132</th>\n",
              "      <td>Sierra Leone</td>\n",
              "      <td>160.0</td>\n",
              "      <td>67.0320</td>\n",
              "      <td>52.2690</td>\n",
              "      <td>137.655</td>\n",
              "      <td>1220</td>\n",
              "      <td>17.20</td>\n",
              "      <td>55.0</td>\n",
              "      <td>5.20</td>\n",
              "      <td>399</td>\n",
              "      <td>2</td>\n",
              "    </tr>\n",
              "  </tbody>\n",
              "</table>\n",
              "</div>"
            ],
            "text/plain": [
              "               Negara  Kematian_anak  ...  GDPperkapita  KMean_clusterid\n",
              "26            Burundi           93.6  ...           231                2\n",
              "88            Liberia           89.3  ...           327                2\n",
              "37   Congo, Dem. Rep.          116.0  ...           334                2\n",
              "112             Niger          123.0  ...           348                2\n",
              "132      Sierra Leone          160.0  ...           399                2\n",
              "\n",
              "[5 rows x 11 columns]"
            ]
          },
          "metadata": {},
          "execution_count": 62
        }
      ]
    }
  ]
}
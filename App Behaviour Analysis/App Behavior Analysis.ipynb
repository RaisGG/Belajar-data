{
 "cells": [
  {
   "cell_type": "markdown",
   "id": "32d16e7a",
   "metadata": {},
   "source": [
    "## Project Overview\n",
    "Saat ini, banyak perusahaan yang hadir dalam bentuk aplikasi mobile. Pada umumnya, perusahaan-perusahaan ini menyediakan produk atau layanan gratis di dalam aplikasi mobile mereka dengan harapan dapat mengubah pelanggan menjadi anggota berbayar. Beberapa contoh produk berbayar tersebut, yang berasal dari versi gratisnya, antara lain YouTube Red, Pandora Premium, Audible Subscription, dan You Need a Budget. Mengingat upaya pemasaran tidaklah gratis, maka perusahaan-perusahaan ini perlu mengetahui dengan pasti kepada siapa mereka harus mengarahkan penawaran dan promosi mereka.\n",
    "\n",
    "Dalam konteks ini, pasar yang menjadi target adalah para pelanggan yang menggunakan produk gratis dari perusahaan tersebut melalui aplikasi mobile. Produk yang ditawarkan dalam bentuk keanggotaan berbayar umumnya memberikan fitur-fitur tambahan dan penyempurnaan dari produk gratis yang sudah ada, serta menambahkan fitur-fitur baru yang menarik. Sebagai contoh, YouTube Red memungkinkan pengguna untuk tetap mendengarkan video meskipun mereka keluar dari aplikasi.\n",
    "\n",
    "Tujuan dari model ini adalah untuk memprediksi pengguna mana yang kemungkinan besar tidak akan berlangganan keanggotaan berbayar, sehingga perusahaan dapat mengarahkan upaya pemasaran yang lebih besar kepada mereka dalam upaya \"mengonversi\" mereka menjadi pengguna berbayar. Dengan demikian, perusahaan dapat mengoptimalkan sumber daya dan strategi pemasaran mereka dengan lebih efektif."
   ]
  },
  {
   "cell_type": "markdown",
   "id": "73c9dd5e",
   "metadata": {},
   "source": [
    "### Import Library dan Dataset:\n",
    "\n",
    "- Mengimpor library yang diperlukan seperti numpy, pandas, matplotlib, dan seaborn.\n",
    "- Mengimpor dataset dari file 'data_fintech.csv' menggunakan fungsi pd.read_csv()."
   ]
  },
  {
   "cell_type": "code",
   "execution_count": 1,
   "id": "883babd7",
   "metadata": {},
   "outputs": [],
   "source": [
    "# Mengimpor library yang diperlukan\n",
    "import numpy as np\n",
    "import pandas as pd\n",
    "import matplotlib.pyplot as plt\n",
    "import seaborn as sns"
   ]
  },
  {
   "cell_type": "code",
   "execution_count": 2,
   "id": "9650eeda",
   "metadata": {},
   "outputs": [],
   "source": [
    "dataku = pd.read_csv('data_aplikasi.csv')"
   ]
  },
  {
   "cell_type": "code",
   "execution_count": 7,
   "id": "e7e6f1f0",
   "metadata": {},
   "outputs": [],
   "source": [
    "top_screens = pd.read_csv('top_screens.csv')"
   ]
  },
  {
   "cell_type": "markdown",
   "id": "649894d0",
   "metadata": {},
   "source": [
    "### Pengolahan Data:\n",
    "\n",
    "- Melakukan ringkasan data menggunakan fungsi describe() dan dtypes untuk memahami statistik deskriptif dan tipe data dari setiap kolom.\n",
    "- Melakukan preprocessing data:\n",
    "- Mengubah tipe data kolom 'screen_list' menjadi string dan menambahkan tanda koma (',') pada setiap nilai.\n",
    "- Menghitung jumlah koma (',') dalam kolom 'screen_list' dan menyimpannya dalam kolom 'num_screens'.\n",
    "- Menghilangkan kolom 'numscreens'.\n",
    "- Memperbaiki format kolom 'hour' dengan memotong karakter pertama dan kedua menggunakan fungsi str.slice() dan mengubahnya menjadi tipe data integer."
   ]
  },
  {
   "cell_type": "code",
   "execution_count": 3,
   "id": "73b2e9d0",
   "metadata": {},
   "outputs": [
    {
     "data": {
      "text/html": [
       "<div>\n",
       "<style scoped>\n",
       "    .dataframe tbody tr th:only-of-type {\n",
       "        vertical-align: middle;\n",
       "    }\n",
       "\n",
       "    .dataframe tbody tr th {\n",
       "        vertical-align: top;\n",
       "    }\n",
       "\n",
       "    .dataframe thead th {\n",
       "        text-align: right;\n",
       "    }\n",
       "</style>\n",
       "<table border=\"1\" class=\"dataframe\">\n",
       "  <thead>\n",
       "    <tr style=\"text-align: right;\">\n",
       "      <th></th>\n",
       "      <th>user</th>\n",
       "      <th>first_open</th>\n",
       "      <th>dayofweek</th>\n",
       "      <th>hour</th>\n",
       "      <th>age</th>\n",
       "      <th>screen_list</th>\n",
       "      <th>numscreens</th>\n",
       "      <th>minigame</th>\n",
       "      <th>used_premium_feature</th>\n",
       "      <th>enrolled</th>\n",
       "      <th>enrolled_date</th>\n",
       "      <th>liked</th>\n",
       "    </tr>\n",
       "  </thead>\n",
       "  <tbody>\n",
       "    <tr>\n",
       "      <th>0</th>\n",
       "      <td>235136</td>\n",
       "      <td>2012-12-27 02:14:51.273</td>\n",
       "      <td>3</td>\n",
       "      <td>02:00:00</td>\n",
       "      <td>23</td>\n",
       "      <td>idscreen,joinscreen,Cycle,product_review,ScanP...</td>\n",
       "      <td>15</td>\n",
       "      <td>0</td>\n",
       "      <td>0</td>\n",
       "      <td>0</td>\n",
       "      <td>NaN</td>\n",
       "      <td>0</td>\n",
       "    </tr>\n",
       "    <tr>\n",
       "      <th>1</th>\n",
       "      <td>333588</td>\n",
       "      <td>2012-12-02 01:16:00.905</td>\n",
       "      <td>6</td>\n",
       "      <td>01:00:00</td>\n",
       "      <td>24</td>\n",
       "      <td>joinscreen,product_review,product_review2,Scan...</td>\n",
       "      <td>13</td>\n",
       "      <td>0</td>\n",
       "      <td>0</td>\n",
       "      <td>0</td>\n",
       "      <td>NaN</td>\n",
       "      <td>0</td>\n",
       "    </tr>\n",
       "    <tr>\n",
       "      <th>2</th>\n",
       "      <td>254414</td>\n",
       "      <td>2013-03-19 19:19:09.157</td>\n",
       "      <td>1</td>\n",
       "      <td>19:00:00</td>\n",
       "      <td>23</td>\n",
       "      <td>Splash,Cycle,Loan</td>\n",
       "      <td>3</td>\n",
       "      <td>0</td>\n",
       "      <td>1</td>\n",
       "      <td>0</td>\n",
       "      <td>NaN</td>\n",
       "      <td>1</td>\n",
       "    </tr>\n",
       "    <tr>\n",
       "      <th>3</th>\n",
       "      <td>234192</td>\n",
       "      <td>2013-07-05 16:08:46.354</td>\n",
       "      <td>4</td>\n",
       "      <td>16:00:00</td>\n",
       "      <td>28</td>\n",
       "      <td>product_review,Home,product_review,Loan3,Finan...</td>\n",
       "      <td>40</td>\n",
       "      <td>0</td>\n",
       "      <td>0</td>\n",
       "      <td>1</td>\n",
       "      <td>2013-07-05 16:11:49.513</td>\n",
       "      <td>0</td>\n",
       "    </tr>\n",
       "    <tr>\n",
       "      <th>4</th>\n",
       "      <td>51549</td>\n",
       "      <td>2013-02-26 18:50:48.661</td>\n",
       "      <td>1</td>\n",
       "      <td>18:00:00</td>\n",
       "      <td>31</td>\n",
       "      <td>idscreen,joinscreen,Cycle,Credit3Container,Sca...</td>\n",
       "      <td>32</td>\n",
       "      <td>0</td>\n",
       "      <td>0</td>\n",
       "      <td>1</td>\n",
       "      <td>2013-02-26 18:56:37.841</td>\n",
       "      <td>1</td>\n",
       "    </tr>\n",
       "  </tbody>\n",
       "</table>\n",
       "</div>"
      ],
      "text/plain": [
       "     user               first_open  dayofweek       hour  age  \\\n",
       "0  235136  2012-12-27 02:14:51.273          3   02:00:00   23   \n",
       "1  333588  2012-12-02 01:16:00.905          6   01:00:00   24   \n",
       "2  254414  2013-03-19 19:19:09.157          1   19:00:00   23   \n",
       "3  234192  2013-07-05 16:08:46.354          4   16:00:00   28   \n",
       "4   51549  2013-02-26 18:50:48.661          1   18:00:00   31   \n",
       "\n",
       "                                         screen_list  numscreens  minigame  \\\n",
       "0  idscreen,joinscreen,Cycle,product_review,ScanP...          15         0   \n",
       "1  joinscreen,product_review,product_review2,Scan...          13         0   \n",
       "2                                  Splash,Cycle,Loan           3         0   \n",
       "3  product_review,Home,product_review,Loan3,Finan...          40         0   \n",
       "4  idscreen,joinscreen,Cycle,Credit3Container,Sca...          32         0   \n",
       "\n",
       "   used_premium_feature  enrolled            enrolled_date  liked  \n",
       "0                     0         0                      NaN      0  \n",
       "1                     0         0                      NaN      0  \n",
       "2                     1         0                      NaN      1  \n",
       "3                     0         1  2013-07-05 16:11:49.513      0  \n",
       "4                     0         1  2013-02-26 18:56:37.841      1  "
      ]
     },
     "execution_count": 3,
     "metadata": {},
     "output_type": "execute_result"
    }
   ],
   "source": [
    "dataku.head()"
   ]
  },
  {
   "cell_type": "code",
   "execution_count": 4,
   "id": "138df10f",
   "metadata": {},
   "outputs": [],
   "source": [
    "# Ringkasan data\n",
    "ringkasan = dataku.describe()\n",
    "tipe_data = dataku.dtypes"
   ]
  },
  {
   "cell_type": "code",
   "execution_count": 5,
   "id": "c7db76ea",
   "metadata": {},
   "outputs": [
    {
     "data": {
      "text/html": [
       "<div>\n",
       "<style scoped>\n",
       "    .dataframe tbody tr th:only-of-type {\n",
       "        vertical-align: middle;\n",
       "    }\n",
       "\n",
       "    .dataframe tbody tr th {\n",
       "        vertical-align: top;\n",
       "    }\n",
       "\n",
       "    .dataframe thead th {\n",
       "        text-align: right;\n",
       "    }\n",
       "</style>\n",
       "<table border=\"1\" class=\"dataframe\">\n",
       "  <thead>\n",
       "    <tr style=\"text-align: right;\">\n",
       "      <th></th>\n",
       "      <th>user</th>\n",
       "      <th>dayofweek</th>\n",
       "      <th>age</th>\n",
       "      <th>numscreens</th>\n",
       "      <th>minigame</th>\n",
       "      <th>used_premium_feature</th>\n",
       "      <th>enrolled</th>\n",
       "      <th>liked</th>\n",
       "    </tr>\n",
       "  </thead>\n",
       "  <tbody>\n",
       "    <tr>\n",
       "      <th>count</th>\n",
       "      <td>50000.000000</td>\n",
       "      <td>50000.000000</td>\n",
       "      <td>50000.00000</td>\n",
       "      <td>50000.000000</td>\n",
       "      <td>50000.000000</td>\n",
       "      <td>50000.000000</td>\n",
       "      <td>50000.000000</td>\n",
       "      <td>50000.000000</td>\n",
       "    </tr>\n",
       "    <tr>\n",
       "      <th>mean</th>\n",
       "      <td>186889.729900</td>\n",
       "      <td>3.029860</td>\n",
       "      <td>31.72436</td>\n",
       "      <td>21.095900</td>\n",
       "      <td>0.107820</td>\n",
       "      <td>0.172020</td>\n",
       "      <td>0.621480</td>\n",
       "      <td>0.165000</td>\n",
       "    </tr>\n",
       "    <tr>\n",
       "      <th>std</th>\n",
       "      <td>107768.520361</td>\n",
       "      <td>2.031997</td>\n",
       "      <td>10.80331</td>\n",
       "      <td>15.728812</td>\n",
       "      <td>0.310156</td>\n",
       "      <td>0.377402</td>\n",
       "      <td>0.485023</td>\n",
       "      <td>0.371184</td>\n",
       "    </tr>\n",
       "    <tr>\n",
       "      <th>min</th>\n",
       "      <td>13.000000</td>\n",
       "      <td>0.000000</td>\n",
       "      <td>16.00000</td>\n",
       "      <td>1.000000</td>\n",
       "      <td>0.000000</td>\n",
       "      <td>0.000000</td>\n",
       "      <td>0.000000</td>\n",
       "      <td>0.000000</td>\n",
       "    </tr>\n",
       "    <tr>\n",
       "      <th>25%</th>\n",
       "      <td>93526.750000</td>\n",
       "      <td>1.000000</td>\n",
       "      <td>24.00000</td>\n",
       "      <td>10.000000</td>\n",
       "      <td>0.000000</td>\n",
       "      <td>0.000000</td>\n",
       "      <td>0.000000</td>\n",
       "      <td>0.000000</td>\n",
       "    </tr>\n",
       "    <tr>\n",
       "      <th>50%</th>\n",
       "      <td>187193.500000</td>\n",
       "      <td>3.000000</td>\n",
       "      <td>29.00000</td>\n",
       "      <td>18.000000</td>\n",
       "      <td>0.000000</td>\n",
       "      <td>0.000000</td>\n",
       "      <td>1.000000</td>\n",
       "      <td>0.000000</td>\n",
       "    </tr>\n",
       "    <tr>\n",
       "      <th>75%</th>\n",
       "      <td>279984.250000</td>\n",
       "      <td>5.000000</td>\n",
       "      <td>37.00000</td>\n",
       "      <td>28.000000</td>\n",
       "      <td>0.000000</td>\n",
       "      <td>0.000000</td>\n",
       "      <td>1.000000</td>\n",
       "      <td>0.000000</td>\n",
       "    </tr>\n",
       "    <tr>\n",
       "      <th>max</th>\n",
       "      <td>373662.000000</td>\n",
       "      <td>6.000000</td>\n",
       "      <td>101.00000</td>\n",
       "      <td>325.000000</td>\n",
       "      <td>1.000000</td>\n",
       "      <td>1.000000</td>\n",
       "      <td>1.000000</td>\n",
       "      <td>1.000000</td>\n",
       "    </tr>\n",
       "  </tbody>\n",
       "</table>\n",
       "</div>"
      ],
      "text/plain": [
       "                user     dayofweek          age    numscreens      minigame  \\\n",
       "count   50000.000000  50000.000000  50000.00000  50000.000000  50000.000000   \n",
       "mean   186889.729900      3.029860     31.72436     21.095900      0.107820   \n",
       "std    107768.520361      2.031997     10.80331     15.728812      0.310156   \n",
       "min        13.000000      0.000000     16.00000      1.000000      0.000000   \n",
       "25%     93526.750000      1.000000     24.00000     10.000000      0.000000   \n",
       "50%    187193.500000      3.000000     29.00000     18.000000      0.000000   \n",
       "75%    279984.250000      5.000000     37.00000     28.000000      0.000000   \n",
       "max    373662.000000      6.000000    101.00000    325.000000      1.000000   \n",
       "\n",
       "       used_premium_feature      enrolled         liked  \n",
       "count          50000.000000  50000.000000  50000.000000  \n",
       "mean               0.172020      0.621480      0.165000  \n",
       "std                0.377402      0.485023      0.371184  \n",
       "min                0.000000      0.000000      0.000000  \n",
       "25%                0.000000      0.000000      0.000000  \n",
       "50%                0.000000      1.000000      0.000000  \n",
       "75%                0.000000      1.000000      0.000000  \n",
       "max                1.000000      1.000000      1.000000  "
      ]
     },
     "execution_count": 5,
     "metadata": {},
     "output_type": "execute_result"
    }
   ],
   "source": [
    "ringkasan"
   ]
  },
  {
   "cell_type": "code",
   "execution_count": 6,
   "id": "b9405469",
   "metadata": {},
   "outputs": [
    {
     "data": {
      "text/plain": [
       "user                     int64\n",
       "first_open              object\n",
       "dayofweek                int64\n",
       "hour                    object\n",
       "age                      int64\n",
       "screen_list             object\n",
       "numscreens               int64\n",
       "minigame                 int64\n",
       "used_premium_feature     int64\n",
       "enrolled                 int64\n",
       "enrolled_date           object\n",
       "liked                    int64\n",
       "dtype: object"
      ]
     },
     "execution_count": 6,
     "metadata": {},
     "output_type": "execute_result"
    }
   ],
   "source": [
    "tipe_data"
   ]
  },
  {
   "cell_type": "code",
   "execution_count": 8,
   "id": "8d8074fa",
   "metadata": {},
   "outputs": [],
   "source": [
    "# Ringkasan data\n",
    "ringkasan1 = top_screens.describe()\n",
    "tipe_data1 = top_screens.dtypes"
   ]
  },
  {
   "cell_type": "code",
   "execution_count": 9,
   "id": "585ab406",
   "metadata": {},
   "outputs": [
    {
     "data": {
      "text/plain": [
       "Unnamed: 0      int64\n",
       "top_screens    object\n",
       "dtype: object"
      ]
     },
     "execution_count": 9,
     "metadata": {},
     "output_type": "execute_result"
    }
   ],
   "source": [
    "tipe_data1"
   ]
  },
  {
   "cell_type": "code",
   "execution_count": 10,
   "id": "637de4c7",
   "metadata": {},
   "outputs": [
    {
     "data": {
      "text/html": [
       "<div>\n",
       "<style scoped>\n",
       "    .dataframe tbody tr th:only-of-type {\n",
       "        vertical-align: middle;\n",
       "    }\n",
       "\n",
       "    .dataframe tbody tr th {\n",
       "        vertical-align: top;\n",
       "    }\n",
       "\n",
       "    .dataframe thead th {\n",
       "        text-align: right;\n",
       "    }\n",
       "</style>\n",
       "<table border=\"1\" class=\"dataframe\">\n",
       "  <thead>\n",
       "    <tr style=\"text-align: right;\">\n",
       "      <th></th>\n",
       "      <th>Unnamed: 0</th>\n",
       "      <th>top_screens</th>\n",
       "    </tr>\n",
       "  </thead>\n",
       "  <tbody>\n",
       "    <tr>\n",
       "      <th>0</th>\n",
       "      <td>0</td>\n",
       "      <td>Loan2</td>\n",
       "    </tr>\n",
       "    <tr>\n",
       "      <th>1</th>\n",
       "      <td>1</td>\n",
       "      <td>location</td>\n",
       "    </tr>\n",
       "    <tr>\n",
       "      <th>2</th>\n",
       "      <td>2</td>\n",
       "      <td>Institutions</td>\n",
       "    </tr>\n",
       "    <tr>\n",
       "      <th>3</th>\n",
       "      <td>3</td>\n",
       "      <td>Credit3Container</td>\n",
       "    </tr>\n",
       "    <tr>\n",
       "      <th>4</th>\n",
       "      <td>4</td>\n",
       "      <td>VerifyPhone</td>\n",
       "    </tr>\n",
       "  </tbody>\n",
       "</table>\n",
       "</div>"
      ],
      "text/plain": [
       "   Unnamed: 0       top_screens\n",
       "0           0             Loan2\n",
       "1           1          location\n",
       "2           2      Institutions\n",
       "3           3  Credit3Container\n",
       "4           4       VerifyPhone"
      ]
     },
     "execution_count": 10,
     "metadata": {},
     "output_type": "execute_result"
    }
   ],
   "source": [
    "top_screens.head()"
   ]
  },
  {
   "cell_type": "code",
   "execution_count": 11,
   "id": "bd8b8729",
   "metadata": {},
   "outputs": [
    {
     "data": {
      "text/html": [
       "<div>\n",
       "<style scoped>\n",
       "    .dataframe tbody tr th:only-of-type {\n",
       "        vertical-align: middle;\n",
       "    }\n",
       "\n",
       "    .dataframe tbody tr th {\n",
       "        vertical-align: top;\n",
       "    }\n",
       "\n",
       "    .dataframe thead th {\n",
       "        text-align: right;\n",
       "    }\n",
       "</style>\n",
       "<table border=\"1\" class=\"dataframe\">\n",
       "  <thead>\n",
       "    <tr style=\"text-align: right;\">\n",
       "      <th></th>\n",
       "      <th>user</th>\n",
       "      <th>first_open</th>\n",
       "      <th>dayofweek</th>\n",
       "      <th>hour</th>\n",
       "      <th>age</th>\n",
       "      <th>screen_list</th>\n",
       "      <th>minigame</th>\n",
       "      <th>used_premium_feature</th>\n",
       "      <th>enrolled</th>\n",
       "      <th>enrolled_date</th>\n",
       "      <th>liked</th>\n",
       "      <th>num_screens</th>\n",
       "    </tr>\n",
       "  </thead>\n",
       "  <tbody>\n",
       "    <tr>\n",
       "      <th>0</th>\n",
       "      <td>235136</td>\n",
       "      <td>2012-12-27 02:14:51.273</td>\n",
       "      <td>3</td>\n",
       "      <td>02:00:00</td>\n",
       "      <td>23</td>\n",
       "      <td>idscreen,joinscreen,Cycle,product_review,ScanP...</td>\n",
       "      <td>0</td>\n",
       "      <td>0</td>\n",
       "      <td>0</td>\n",
       "      <td>NaN</td>\n",
       "      <td>0</td>\n",
       "      <td>13</td>\n",
       "    </tr>\n",
       "    <tr>\n",
       "      <th>1</th>\n",
       "      <td>333588</td>\n",
       "      <td>2012-12-02 01:16:00.905</td>\n",
       "      <td>6</td>\n",
       "      <td>01:00:00</td>\n",
       "      <td>24</td>\n",
       "      <td>joinscreen,product_review,product_review2,Scan...</td>\n",
       "      <td>0</td>\n",
       "      <td>0</td>\n",
       "      <td>0</td>\n",
       "      <td>NaN</td>\n",
       "      <td>0</td>\n",
       "      <td>11</td>\n",
       "    </tr>\n",
       "    <tr>\n",
       "      <th>2</th>\n",
       "      <td>254414</td>\n",
       "      <td>2013-03-19 19:19:09.157</td>\n",
       "      <td>1</td>\n",
       "      <td>19:00:00</td>\n",
       "      <td>23</td>\n",
       "      <td>Splash,Cycle,Loan,</td>\n",
       "      <td>0</td>\n",
       "      <td>1</td>\n",
       "      <td>0</td>\n",
       "      <td>NaN</td>\n",
       "      <td>1</td>\n",
       "      <td>3</td>\n",
       "    </tr>\n",
       "    <tr>\n",
       "      <th>3</th>\n",
       "      <td>234192</td>\n",
       "      <td>2013-07-05 16:08:46.354</td>\n",
       "      <td>4</td>\n",
       "      <td>16:00:00</td>\n",
       "      <td>28</td>\n",
       "      <td>product_review,Home,product_review,Loan3,Finan...</td>\n",
       "      <td>0</td>\n",
       "      <td>0</td>\n",
       "      <td>1</td>\n",
       "      <td>2013-07-05 16:11:49.513</td>\n",
       "      <td>0</td>\n",
       "      <td>17</td>\n",
       "    </tr>\n",
       "    <tr>\n",
       "      <th>4</th>\n",
       "      <td>51549</td>\n",
       "      <td>2013-02-26 18:50:48.661</td>\n",
       "      <td>1</td>\n",
       "      <td>18:00:00</td>\n",
       "      <td>31</td>\n",
       "      <td>idscreen,joinscreen,Cycle,Credit3Container,Sca...</td>\n",
       "      <td>0</td>\n",
       "      <td>0</td>\n",
       "      <td>1</td>\n",
       "      <td>2013-02-26 18:56:37.841</td>\n",
       "      <td>1</td>\n",
       "      <td>19</td>\n",
       "    </tr>\n",
       "  </tbody>\n",
       "</table>\n",
       "</div>"
      ],
      "text/plain": [
       "     user               first_open  dayofweek       hour  age  \\\n",
       "0  235136  2012-12-27 02:14:51.273          3   02:00:00   23   \n",
       "1  333588  2012-12-02 01:16:00.905          6   01:00:00   24   \n",
       "2  254414  2013-03-19 19:19:09.157          1   19:00:00   23   \n",
       "3  234192  2013-07-05 16:08:46.354          4   16:00:00   28   \n",
       "4   51549  2013-02-26 18:50:48.661          1   18:00:00   31   \n",
       "\n",
       "                                         screen_list  minigame  \\\n",
       "0  idscreen,joinscreen,Cycle,product_review,ScanP...         0   \n",
       "1  joinscreen,product_review,product_review2,Scan...         0   \n",
       "2                                 Splash,Cycle,Loan,         0   \n",
       "3  product_review,Home,product_review,Loan3,Finan...         0   \n",
       "4  idscreen,joinscreen,Cycle,Credit3Container,Sca...         0   \n",
       "\n",
       "   used_premium_feature  enrolled            enrolled_date  liked  num_screens  \n",
       "0                     0         0                      NaN      0           13  \n",
       "1                     0         0                      NaN      0           11  \n",
       "2                     1         0                      NaN      1            3  \n",
       "3                     0         1  2013-07-05 16:11:49.513      0           17  \n",
       "4                     0         1  2013-02-26 18:56:37.841      1           19  "
      ]
     },
     "execution_count": 11,
     "metadata": {},
     "output_type": "execute_result"
    }
   ],
   "source": [
    "# Merevisi kolom num_screens\n",
    "dataku['screen_list'] = dataku.screen_list.astype(str) + ','\n",
    "dataku['num_screens'] = dataku.screen_list.str.count(',')\n",
    "dataku.drop(columns=['numscreens'], inplace=True)\n",
    "dataku.head()"
   ]
  },
  {
   "cell_type": "code",
   "execution_count": 12,
   "id": "e1b38b2a",
   "metadata": {},
   "outputs": [],
   "source": [
    "# Cek kolom hour\n",
    "dataku.hour[1]\n",
    "dataku.hour = dataku.hour.str.slice(1,3).astype(int)"
   ]
  },
  {
   "cell_type": "code",
   "execution_count": 13,
   "id": "9a2d0606",
   "metadata": {},
   "outputs": [],
   "source": [
    "# Mendefinisikan variabel khusus numerik\n",
    "dataku_numerik = dataku.drop(columns=['user','first_open','screen_list',\n",
    "                                      'enrolled_date'], inplace=False)"
   ]
  },
  {
   "cell_type": "markdown",
   "id": "ef5f2ee3",
   "metadata": {},
   "source": [
    "### Visualisasi Data:\n",
    "\n",
    "- Membuat histogram untuk setiap kolom data numerik menggunakan library seaborn dan matplotlib.\n",
    "- Membuat correlation matrix antara variabel numerik dengan target 'enrolled' menggunakan fungsi corrwith() dan corr().\n",
    "- Menampilkan correlation matrix menggunakan heatmap dengan fungsi sns.heatmap()."
   ]
  },
  {
   "cell_type": "code",
   "execution_count": 14,
   "id": "d447d023",
   "metadata": {},
   "outputs": [
    {
     "data": {
      "image/png": "[encoded data removed]",
      "text/plain": [
       "<Figure size 640x480 with 8 Axes>"
      ]
     },
     "metadata": {},
     "output_type": "display_data"
    }
   ],
   "source": [
    "# Membuat histogram\n",
    "sns.set()\n",
    "plt.suptitle('Histogram Data Numerik')\n",
    "for i in range(0, dataku_numerik.shape[1]):\n",
    "    plt.subplot(3,3,i+1)\n",
    "    figure = plt.gca()\n",
    "    figure.set_title(dataku_numerik.columns.values[i])\n",
    "    jumlah_bin = np.size(dataku_numerik.iloc[:,i].unique())\n",
    "    plt.hist(dataku_numerik.iloc[:,i], bins=jumlah_bin)"
   ]
  },
  {
   "cell_type": "code",
   "execution_count": 15,
   "id": "172e49da",
   "metadata": {},
   "outputs": [
    {
     "data": {
      "text/plain": [
       "<AxesSubplot:title={'center':'Korelasi variabel terhadap keputusan Enrolled'}>"
      ]
     },
     "execution_count": 15,
     "metadata": {},
     "output_type": "execute_result"
    },
    {
     "data": {
      "image/png": "[encoded data removed]",
      "text/plain": [
       "<Figure size 640x480 with 1 Axes>"
      ]
     },
     "metadata": {},
     "output_type": "display_data"
    }
   ],
   "source": [
    "# Membuat correlation matrix\n",
    "korelasi = dataku_numerik.drop(columns=['enrolled'], inplace=False).corrwith(dataku_numerik.enrolled)\n",
    "korelasi.plot.bar(title='Korelasi variabel terhadap keputusan Enrolled')"
   ]
  },
  {
   "cell_type": "code",
   "execution_count": 16,
   "id": "46879a9f",
   "metadata": {},
   "outputs": [
    {
     "data": {
      "text/plain": [
       "<AxesSubplot:>"
      ]
     },
     "execution_count": 16,
     "metadata": {},
     "output_type": "execute_result"
    },
    {
     "data": {
      "image/png": "[encoded data removed]",
      "text/plain": [
       "<Figure size 640x480 with 2 Axes>"
      ]
     },
     "metadata": {},
     "output_type": "display_data"
    }
   ],
   "source": [
    "matriks_korelasi = dataku_numerik.drop(columns=['enrolled'], inplace=False).corr()\n",
    "sns.heatmap(matriks_korelasi, cmap='Blues')"
   ]
  },
  {
   "cell_type": "code",
   "execution_count": 17,
   "id": "e4bcd311",
   "metadata": {},
   "outputs": [],
   "source": [
    "mask = np.zeros_like(matriks_korelasi, dtype=bool)\n",
    "mask[np.triu_indices_from(mask)] = True"
   ]
  },
  {
   "cell_type": "code",
   "execution_count": 18,
   "id": "afe7ddd9",
   "metadata": {},
   "outputs": [
    {
     "data": {
      "image/png": "[encoded data removed]",
      "text/plain": [
       "<Figure size 640x480 with 2 Axes>"
      ]
     },
     "metadata": {},
     "output_type": "display_data"
    }
   ],
   "source": [
    "# Membuat correlation matrix dengan heatmap custom\n",
    "ax = plt.axes()\n",
    "cmap_ku = sns.diverging_palette(200, 0, as_cmap=True)\n",
    "sns.heatmap(matriks_korelasi, cmap=cmap_ku, mask=mask, \n",
    "            linewidths=0.5, center=0, square=True)\n",
    "ax = plt.suptitle('Correlation Matrix Custom')"
   ]
  },
  {
   "cell_type": "markdown",
   "id": "5f23e4c4",
   "metadata": {},
   "source": [
    "Kesimpulan dari grafik di atas adalah sebagai berikut:\n",
    "\n",
    "1. Day of the Week: Dapat dilihat bahwa tidak ada korelasi yang signifikan antara hari dalam seminggu dengan variabel respons. Hal ini menunjukkan bahwa hari dalam seminggu tidak memiliki pengaruh langsung terhadap keputusan pengguna untuk berlangganan.\n",
    "\n",
    "2. Hour: Korelasi antara jam dan variabel respons adalah negatif. Artinya, semakin awal jamnya, semakin tinggi kemungkinan seseorang akan berlangganan. Ini menunjukkan bahwa pengguna yang membuka aplikasi pada jam-jam awal cenderung lebih tertarik untuk menjadi pelanggan.\n",
    "\n",
    "3. Age: Korelasi antara usia dan variabel respons juga negatif. Ini mengindikasikan bahwa generasi yang lebih muda memiliki kecenderungan yang lebih tinggi untuk berlangganan dibandingkan dengan generasi yang lebih tua.\n",
    "\n",
    "4. Numscreens: Variabel ini menunjukkan bahwa semakin banyak layar yang dilihat oleh pengguna, semakin besar kemungkinan mereka akan menjadi pelanggan. Hal ini menunjukkan bahwa pengguna yang aktif dan terlibat dengan produk memiliki peluang yang lebih tinggi untuk beralih ke langganan berbayar.\n",
    "\n",
    "5. Minigame: Korelasi antara fitur minigame dan variabel respons adalah positif. Ini menunjukkan bahwa minigame memiliki efek positif dalam mendorong pengguna untuk berlangganan.\n",
    "\n",
    "6. Used Premium Feature: Korelasi antara penggunaan fitur premium dan variabel respons adalah negatif. Hal ini menunjukkan bahwa keputusan pengguna untuk tidak berlangganan setelah menggunakan fitur premium mungkin disebabkan oleh persepsi bahwa harga yang dikenakan tidak sebanding dengan manfaat yang diperoleh.\n",
    "\n",
    "7. Likes: Menariknya, korelasi antara jumlah \"like\" dan respons pengguna tidak signifikan. Salah satu alasan mungkin adalah karena jumlah \"like\" cenderung acak dan tidak memiliki pengaruh langsung pada keputusan pengguna untuk berlangganan.\n",
    "\n",
    "Dengan demikian, informasi ini memberikan pemahaman tentang faktor-faktor yang mempengaruhi keputusan pengguna dalam berlangganan dan bagaimana variabel-variabel tersebut saling terkait."
   ]
  },
  {
   "cell_type": "markdown",
   "id": "8f6e4356",
   "metadata": {},
   "source": [
    "### Feature Engineering:\n",
    "\n",
    "- Melakukan proses parsing pada kolom 'first_open' dan 'enrolled_date' menggunakan library dateutil dan mengubahnya menjadi format datetime.\n",
    "- Membuat histogram untuk melihat selisih waktu antara pengguna terdaftar dengan pengguna pertama kali membuka aplikasi.\n",
    "- Melakukan filtering pada nilai 'enrolled' menjadi 0 jika selisih waktu lebih dari 48 jam.\n",
    "- Mengimpor top screens dari file 'top_screens.csv' dan menyimpannya dalam array 'top_screens'.\n",
    "- Membuat kolom baru untuk setiap top screen dan menghitung jumlah kemunculan setiap top screen.\n",
    "- Menggabungkan beberapa layar yang sama untuk proses funneling dengan menjumlahkan kolom-kolom yang berkaitan.\n",
    "- Menghapus kolom-kolom yang redundan dan menentukan variabel dependen."
   ]
  },
  {
   "cell_type": "code",
   "execution_count": 19,
   "id": "0184b2af",
   "metadata": {},
   "outputs": [],
   "source": [
    "# FEATURE ENGINEERING\n",
    "# proses parsing\n",
    "from dateutil import parser\n",
    "dataku.first_open = [parser.parse(i) for i in dataku.first_open]\n",
    "dataku.enrolled_date = [parser.parse(i) if isinstance(i, str) else i for i in dataku.enrolled_date]\n",
    "dataku['selisih'] = (dataku.enrolled_date - dataku.first_open).astype('timedelta64[h]')"
   ]
  },
  {
   "cell_type": "code",
   "execution_count": 20,
   "id": "ac9f23d5",
   "metadata": {},
   "outputs": [
    {
     "data": {
      "image/png": "[encoded data removed]",
      "text/plain": [
       "<Figure size 640x480 with 1 Axes>"
      ]
     },
     "metadata": {},
     "output_type": "display_data"
    }
   ],
   "source": [
    "# Membuat plot histogram dataku.selisih\n",
    "plt.hist(dataku.selisih.dropna(), range=[0,200])\n",
    "plt.suptitle('Selisih waktu antara enrolled dengan first open')\n",
    "plt.show()"
   ]
  },
  {
   "cell_type": "markdown",
   "id": "94009288",
   "metadata": {},
   "source": [
    "Dari grafik di atas, kita dapat melihat bahwa sebagian besar pelanggan berlangganan dalam 5 jam pertama penggunaan aplikasi. Namun, untuk membuat batasan waktu (waktu setelah itu kita dapat mengatakan bahwa kemungkinan seorang pengguna untuk berlangganan hampir nol), untuk pengujian sistem secara real-time ini sangat baik.\n",
    "\n",
    "Seperti yang dapat kita lihat dalam grafik kedua, ketika waktu berlalu, jumlah pelanggan yang baru menurun sehingga nilai terbaik untuk batasan waktu adalah 48 jam (Kita juga memilih 48 jam karena mewakili dua hari penuh)."
   ]
  },
  {
   "cell_type": "code",
   "execution_count": 21,
   "id": "470ebd7f",
   "metadata": {},
   "outputs": [],
   "source": [
    "# Memfilter nilai selisih > 48 jam, kita mengubah nilai enrolled menjadi 0 ketika selisih atau jumlah jam penggunaan melebihi 48.\n",
    "dataku.loc[dataku.selisih>48, 'enrolled'] = 0"
   ]
  },
  {
   "cell_type": "code",
   "execution_count": 22,
   "id": "43e0fc18",
   "metadata": {},
   "outputs": [],
   "source": [
    "# Mengimpor top screens\n",
    "top_screens = pd.read_csv('top_screens.csv')\n",
    "top_screens = np.array(top_screens.loc[:,'top_screens'])"
   ]
  },
  {
   "cell_type": "code",
   "execution_count": 23,
   "id": "23f72463",
   "metadata": {},
   "outputs": [],
   "source": [
    "# Membuat cadangan data\n",
    "dataku2 = dataku.copy()"
   ]
  },
  {
   "cell_type": "code",
   "execution_count": 24,
   "id": "8dd4d7a7",
   "metadata": {},
   "outputs": [],
   "source": [
    "# Membuat kolom untuk setiap top_screens\n",
    "for layar in top_screens:\n",
    "    dataku2[layar] = dataku2.screen_list.str.contains(layar).astype(int)"
   ]
  },
  {
   "cell_type": "code",
   "execution_count": 25,
   "id": "7d6a72e3",
   "metadata": {},
   "outputs": [],
   "source": [
    "for layar in top_screens:\n",
    "    dataku2['screen_list'] = dataku2.screen_list.str.replace(layar+',', '')"
   ]
  },
  {
   "cell_type": "code",
   "execution_count": 26,
   "id": "2a4f095c",
   "metadata": {},
   "outputs": [],
   "source": [
    "# Item non top_screens di screen_list\n",
    "dataku2['lainnya'] = dataku2.screen_list.str.count(',')"
   ]
  },
  {
   "cell_type": "code",
   "execution_count": 27,
   "id": "da720a79",
   "metadata": {},
   "outputs": [],
   "source": [
    "top_screens.sort()"
   ]
  },
  {
   "cell_type": "markdown",
   "id": "d6d8a02c",
   "metadata": {},
   "source": [
    "Ada beberapa tampilan yang sangat mirip dan mungkin sangat berkorelasi satu sama lain, oleh karena itu kita harus menanganinya sebelum melanjutkan. Metode ini disebut funneling. Tampilan seperti Saving1, Saving2, dan lainnya dapat dikelompokkan sebagai satu kesatuan."
   ]
  },
  {
   "cell_type": "code",
   "execution_count": 28,
   "id": "c7773851",
   "metadata": {},
   "outputs": [],
   "source": [
    "# Proses penggabungan beberapa screen yang sama (Funneling)\n",
    "layar_loan = ['Loan',\n",
    "              'Loan2',\n",
    "              'Loan3',\n",
    "              'Loan4']\n",
    "dataku2['jumlah_loan'] = dataku2[layar_loan].sum(axis=1)\n",
    "dataku2.drop(columns=layar_loan, inplace=True)"
   ]
  },
  {
   "cell_type": "code",
   "execution_count": 29,
   "id": "ac66b27f",
   "metadata": {},
   "outputs": [],
   "source": [
    "layar_saving = ['Saving1',\n",
    "                'Saving2',\n",
    "                'Saving2Amount',\n",
    "                'Saving4',\n",
    "                'Saving5',\n",
    "                'Saving6',\n",
    "                'Saving7',\n",
    "                'Saving8',\n",
    "                'Saving9',\n",
    "                'Saving10']\n",
    "dataku2['jumlah_saving'] = dataku2[layar_saving].sum(axis=1)\n",
    "dataku2.drop(columns=layar_saving, inplace=True)\n"
   ]
  },
  {
   "cell_type": "code",
   "execution_count": 30,
   "id": "ff08d9eb",
   "metadata": {},
   "outputs": [],
   "source": [
    "layar_credit = ['Credit1',\n",
    "                'Credit2',\n",
    "                'Credit3',\n",
    "                'Credit3Container',\n",
    "                'Credit3Dashboard']\n",
    "dataku2[\"jumlah_kredit\"] = dataku2[layar_credit].sum(axis=1)\n",
    "dataku2.drop(columns=layar_credit, inplace=True)"
   ]
  },
  {
   "cell_type": "code",
   "execution_count": 31,
   "id": "8dba17bf",
   "metadata": {},
   "outputs": [],
   "source": [
    "layar_cc = ['CC1',\n",
    "            'CC1Category',\n",
    "            'CC3']\n",
    "dataku2['jumlah_cc'] = dataku2[layar_cc].sum(axis=1)\n",
    "dataku2.drop(columns=layar_cc, inplace=True)"
   ]
  },
  {
   "cell_type": "code",
   "execution_count": 36,
   "id": "49b7ea50",
   "metadata": {},
   "outputs": [],
   "source": [
    "# Mendefinisikan var dependen\n",
    "var_enrolled = np.array(dataku2['enrolled'])"
   ]
  },
  {
   "cell_type": "code",
   "execution_count": 37,
   "id": "013263e5",
   "metadata": {},
   "outputs": [],
   "source": [
    "# Menghilangkan beberapa kolom yang redundan\n",
    "dataku2.drop(columns=['first_open', 'screen_list','enrolled',\n",
    "                        'enrolled_date', 'selisih'], inplace=True)"
   ]
  },
  {
   "cell_type": "markdown",
   "id": "97c0f163",
   "metadata": {},
   "source": [
    "### Pembagian Training dan Test Set:\n",
    "\n",
    "- Membagi data menjadi training set dan test set menggunakan fungsi train_test_split().\n",
    "- Menyimpan user ID untuk training set dan test set.\n",
    "- Menghilangkan kolom 'user' dari X_train dan X_test.\n",
    "- Merubah X_train dan X_test menjadi numpy array.\n",
    "- Melakukan preprocessing dengan standardisasi menggunakan StandardScaler.\n",
    "- Menghilangkan variabel kosong dari X_train dan X_test."
   ]
  },
  {
   "cell_type": "code",
   "execution_count": 38,
   "id": "24865f44",
   "metadata": {},
   "outputs": [],
   "source": [
    "# Membagi menjadi training dan test set\n",
    "from sklearn.model_selection import train_test_split\n",
    "X_train, X_test, y_train, y_test = train_test_split(dataku2, var_enrolled, \n",
    "                                                    test_size=0.2,\n",
    "                                                    random_state=111)"
   ]
  },
  {
   "cell_type": "code",
   "execution_count": 39,
   "id": "1a8c6e29",
   "metadata": {},
   "outputs": [],
   "source": [
    "# Menyimpan user ID untuk training dan test set\n",
    "train_id = np.array(X_train['user'])\n",
    "test_id = np.array(X_test['user'])"
   ]
  },
  {
   "cell_type": "code",
   "execution_count": 40,
   "id": "1374a6a2",
   "metadata": {},
   "outputs": [],
   "source": [
    "# Menghilangkan kolom user di X_train dan X_test\n",
    "X_train.drop(columns=['user'], inplace=True)\n",
    "X_test.drop(columns=['user'], inplace=True)"
   ]
  },
  {
   "cell_type": "code",
   "execution_count": 41,
   "id": "bc2da9be",
   "metadata": {},
   "outputs": [],
   "source": [
    "# Merubah X_train dan X_test menjadi numpy array (test set sudah berbentuk array jadi tidak perlu)\n",
    "X_train = np.array(X_train)\n",
    "X_test = np.array(X_test)"
   ]
  },
  {
   "cell_type": "code",
   "execution_count": 42,
   "id": "76408edd",
   "metadata": {},
   "outputs": [],
   "source": [
    "# Preprocessing Standardization (Feature Scaling)\n",
    "from sklearn.preprocessing import StandardScaler\n",
    "sc_X = StandardScaler()\n",
    "X_train = sc_X.fit_transform(X_train)\n",
    "X_test = sc_X.transform(X_test)"
   ]
  },
  {
   "cell_type": "code",
   "execution_count": 43,
   "id": "8f55bf58",
   "metadata": {},
   "outputs": [],
   "source": [
    "# Menghilangkan variabel kosong\n",
    "X_train = np.delete(X_train, 27, 1)\n",
    "X_test = np.delete(X_test, 27, 1)"
   ]
  },
  {
   "cell_type": "markdown",
   "id": "058a9180",
   "metadata": {},
   "source": [
    "### Training\n",
    "\n",
    "- Menggunakan algoritma berbagai algoritma untuk membangun model prediktif.\n",
    "- Melakukan fitting model menggunakan training set dengan fungsi fit().\n",
    "- Mengevaluasi model dengan menggunakan confusion matrix, classification report, dan akurasi."
   ]
  },
  {
   "cell_type": "code",
   "execution_count": 45,
   "id": "83475089",
   "metadata": {},
   "outputs": [
    {
     "name": "stdout",
     "output_type": "stream",
     "text": [
      "              precision    recall  f1-score   support\n",
      "\n",
      "           0       0.77      0.76      0.76      5037\n",
      "           1       0.76      0.76      0.76      4963\n",
      "\n",
      "    accuracy                           0.76     10000\n",
      "   macro avg       0.76      0.76      0.76     10000\n",
      "weighted avg       0.76      0.76      0.76     10000\n",
      "\n",
      "Akurasi:76.34\n"
     ]
    }
   ],
   "source": [
    "# Logistic Regression\n",
    "from sklearn.linear_model import LogisticRegression\n",
    "classifier = LogisticRegression(random_state=0, solver='liblinear',\n",
    "                                penalty='l1')\n",
    "classifier.fit(X_train, y_train)\n",
    "\n",
    "# Memprediksi test set\n",
    "y_pred = classifier.predict(X_test)\n",
    "\n",
    "# Mengevaluasi model dengan confusion matrix\n",
    "from sklearn.metrics import confusion_matrix, accuracy_score, classification_report\n",
    "cm = confusion_matrix(y_test, y_pred)\n",
    "print(classification_report(y_test, y_pred))\n",
    "# Menggunakan accuracy_score\n",
    "evaluasi = accuracy_score(y_test, y_pred)\n",
    "print('Akurasi:{:.2f}'.format(evaluasi*100))"
   ]
  },
  {
   "cell_type": "code",
   "execution_count": 93,
   "id": "a12c1f8b",
   "metadata": {},
   "outputs": [
    {
     "name": "stdout",
     "output_type": "stream",
     "text": [
      "              precision    recall  f1-score   support\n",
      "\n",
      "           0       0.77      0.79      0.78      5037\n",
      "           1       0.78      0.76      0.77      4963\n",
      "\n",
      "    accuracy                           0.78     10000\n",
      "   macro avg       0.78      0.78      0.78     10000\n",
      "weighted avg       0.78      0.78      0.78     10000\n",
      "\n",
      "Akurasi: 77.55%\n"
     ]
    }
   ],
   "source": [
    "from sklearn.ensemble import RandomForestClassifier\n",
    "\n",
    "# Membangun model Random Forest\n",
    "classifier = RandomForestClassifier(n_estimators=100, random_state=0)\n",
    "classifier.fit(X_train, y_train)\n",
    "\n",
    "# Memprediksi test set\n",
    "y_pred = classifier.predict(X_test)\n",
    "\n",
    "# Evaluasi model\n",
    "cm = confusion_matrix(y_test, y_pred)\n",
    "print(classification_report(y_test, y_pred))\n",
    "accuracy = accuracy_score(y_test, y_pred)\n",
    "print('Akurasi: {:.2f}%'.format(accuracy * 100))"
   ]
  },
  {
   "cell_type": "code",
   "execution_count": 94,
   "id": "d0fc3ce5",
   "metadata": {},
   "outputs": [
    {
     "name": "stdout",
     "output_type": "stream",
     "text": [
      "              precision    recall  f1-score   support\n",
      "\n",
      "           0       0.77      0.68      0.72      5037\n",
      "           1       0.71      0.80      0.75      4963\n",
      "\n",
      "    accuracy                           0.74     10000\n",
      "   macro avg       0.74      0.74      0.74     10000\n",
      "weighted avg       0.74      0.74      0.74     10000\n",
      "\n",
      "Akurasi: 73.81%\n"
     ]
    }
   ],
   "source": [
    "from sklearn.svm import SVC\n",
    "\n",
    "# Membangun model SVM\n",
    "classifier = SVC(kernel='linear', random_state=0)\n",
    "classifier.fit(X_train, y_train)\n",
    "\n",
    "# Memprediksi test set\n",
    "y_pred = classifier.predict(X_test)\n",
    "\n",
    "# Evaluasi model\n",
    "cm = confusion_matrix(y_test, y_pred)\n",
    "print(classification_report(y_test, y_pred))\n",
    "accuracy = accuracy_score(y_test, y_pred)\n",
    "print('Akurasi: {:.2f}%'.format(accuracy * 100))"
   ]
  },
  {
   "cell_type": "code",
   "execution_count": 97,
   "id": "d7a534c9",
   "metadata": {},
   "outputs": [
    {
     "name": "stdout",
     "output_type": "stream",
     "text": [
      "              precision    recall  f1-score   support\n",
      "\n",
      "           0       0.77      0.80      0.78      5037\n",
      "           1       0.79      0.75      0.77      4963\n",
      "\n",
      "    accuracy                           0.78     10000\n",
      "   macro avg       0.78      0.78      0.78     10000\n",
      "weighted avg       0.78      0.78      0.78     10000\n",
      "\n",
      "Akurasi: 77.61%\n"
     ]
    }
   ],
   "source": [
    "from sklearn.ensemble import GradientBoostingClassifier\n",
    "\n",
    "# Membangun model Gradient Boosting\n",
    "classifier = GradientBoostingClassifier(n_estimators=100, random_state=0)\n",
    "classifier.fit(X_train, y_train)\n",
    "\n",
    "# Memprediksi test set\n",
    "y_pred = classifier.predict(X_test)\n",
    "\n",
    "# Evaluasi model\n",
    "cm = confusion_matrix(y_test, y_pred)\n",
    "print(classification_report(y_test, y_pred))\n",
    "accuracy = accuracy_score(y_test, y_pred)\n",
    "print('Akurasi: {:.2f}%'.format(accuracy * 100))\n"
   ]
  },
  {
   "cell_type": "code",
   "execution_count": 99,
   "id": "99fa8da7",
   "metadata": {},
   "outputs": [
    {
     "name": "stdout",
     "output_type": "stream",
     "text": [
      "              precision    recall  f1-score   support\n",
      "\n",
      "           0       0.75      0.78      0.77      5037\n",
      "           1       0.77      0.74      0.75      4963\n",
      "\n",
      "    accuracy                           0.76     10000\n",
      "   macro avg       0.76      0.76      0.76     10000\n",
      "weighted avg       0.76      0.76      0.76     10000\n",
      "\n",
      "Akurasi: 76.05%\n"
     ]
    },
    {
     "name": "stderr",
     "output_type": "stream",
     "text": [
      "C:\\Users\\TUF-RYZEN\\anaconda3\\lib\\site-packages\\sklearn\\neural_network\\_multilayer_perceptron.py:692: ConvergenceWarning: Stochastic Optimizer: Maximum iterations (200) reached and the optimization hasn't converged yet.\n",
      "  warnings.warn(\n"
     ]
    }
   ],
   "source": [
    "from sklearn.neural_network import MLPClassifier\n",
    "\n",
    "# Membangun model Neural Networks\n",
    "classifier = MLPClassifier(hidden_layer_sizes=(100,), activation='relu', solver='adam', random_state=0)\n",
    "classifier.fit(X_train, y_train)\n",
    "\n",
    "# Memprediksi test set\n",
    "y_pred = classifier.predict(X_test)\n",
    "\n",
    "# Evaluasi model\n",
    "cm = confusion_matrix(y_test, y_pred)\n",
    "print(classification_report(y_test, y_pred))\n",
    "accuracy = accuracy_score(y_test, y_pred)\n",
    "print('Akurasi: {:.2f}%'.format(accuracy * 100))\n"
   ]
  },
  {
   "cell_type": "code",
   "execution_count": 47,
   "id": "6a4459a5",
   "metadata": {},
   "outputs": [
    {
     "name": "stdout",
     "output_type": "stream",
     "text": [
      "              precision    recall  f1-score   support\n",
      "\n",
      "           0       0.71      0.74      0.72      5037\n",
      "           1       0.72      0.69      0.71      4963\n",
      "\n",
      "    accuracy                           0.72     10000\n",
      "   macro avg       0.72      0.72      0.72     10000\n",
      "weighted avg       0.72      0.72      0.72     10000\n",
      "\n",
      "Akurasi: 71.60%\n"
     ]
    }
   ],
   "source": [
    "from sklearn.naive_bayes import GaussianNB\n",
    "\n",
    "# Membangun model Naive Bayes\n",
    "classifier = GaussianNB()\n",
    "classifier.fit(X_train, y_train)\n",
    "\n",
    "# Memprediksi test set\n",
    "y_pred = classifier.predict(X_test)\n",
    "\n",
    "# Evaluasi model\n",
    "cm = confusion_matrix(y_test, y_pred)\n",
    "print(classification_report(y_test, y_pred))\n",
    "accuracy = accuracy_score(y_test, y_pred)\n",
    "print('Akurasi: {:.2f}%'.format(accuracy * 100))"
   ]
  },
  {
   "cell_type": "code",
   "execution_count": null,
   "id": "6bae29e1",
   "metadata": {},
   "outputs": [],
   "source": []
  }
 ],
 "metadata": {
  "kernelspec": {
   "display_name": "Python 3 (ipykernel)",
   "language": "python",
   "name": "python3"
  },
  "language_info": {
   "codemirror_mode": {
    "name": "ipython",
    "version": 3
   },
   "file_extension": ".py",
   "mimetype": "text/x-python",
   "name": "python",
   "nbconvert_exporter": "python",
   "pygments_lexer": "ipython3",
   "version": "3.9.13"
  }
 },
 "nbformat": 4,
 "nbformat_minor": 5
}

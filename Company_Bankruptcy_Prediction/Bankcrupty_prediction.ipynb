{
  "nbformat": 4,
  "nbformat_minor": 0,
  "metadata": {
    "colab": {
      "name": "Project1_rev.ipynb",
      "provenance": [],
      "collapsed_sections": []
    },
    "kernelspec": {
      "name": "python3",
      "display_name": "Python 3"
    },
    "language_info": {
      "name": "python"
    },
    "accelerator": "GPU"
  },
  "cells": [
    {
      "cell_type": "markdown",
      "metadata": {
        "id": "tulJeCpNJkwI"
      },
      "source": [
        "###**DOMAIN PROYEK**"
      ]
    },
    {
      "cell_type": "markdown",
      "metadata": {
        "id": "eDsWqbrLNjlL"
      },
      "source": [
        "Domain yang kita pilih pada projek ini adalah Ekonomi dan bisnis. Khususnya dalam mengantisipasi kebangkrutan suatu perusahaan.\n",
        "\n",
        "Istilah bangkrut atau pailit dinyatakan sebagai ketidakmampuan suatu perusahaan untuk membayar utang-utangnya kepada para krediturnya. Mengetahui kemungkinan kebangkutan perusahaan merupakan hal yang penting bagi pengurus perusahaan, investor perusahaan dan bahkan masyarakat. Oleh karena itu, kita harus dapat melakukan prediksi kemungkinan kebangkrutan suatu perusahaan sebelum perusahaan itu benar-benar bangkrut. \n",
        "\n",
        "Dengan ini, kita akan mencoba untuk mengembangkan model algoritma machine learning yang dapt melakukan prediksi apakah perusahaan tersebut berpotensi bangkrut atau tidak dengan laporan keuangan dan rasio keuangannya.\n"
      ]
    },
    {
      "cell_type": "markdown",
      "metadata": {
        "id": "9B2zxf8RKboL"
      },
      "source": [
        "Dataset yang akan kita gunakan adalah Company Bankruptcy Prediction dataset yang dapat didownload dari [kaggle](https://archive.ics.uci.edu/ml/datasets/Taiwanese+Bankruptcy+Prediction/) atau [UCI Machine Learning Repository](https://archive.ics.uci.edu/ml/datasets/Taiwanese+Bankruptcy+Prediction/)"
      ]
    },
    {
      "cell_type": "markdown",
      "metadata": {
        "id": "VwVw1T5XQBU6"
      },
      "source": [
        "### **BUSINESS UNDERSTANDING**"
      ]
    },
    {
      "cell_type": "markdown",
      "metadata": {
        "id": "QW8Sut5mQI5g"
      },
      "source": [
        "Menjaga stabilitas suatu perusahaan adalah hal yang sangat penting untuk kelangsungan suatu perusahaan. Perusahaan dengan rasio keuangan yang stabil akan menjaga perusahaan tersebut tetap bertahan. Semakin baik laporan keuangan dan rasio keuangan kas sebuah perusahaan, semakin baik pula stabilitas suatu perusahaan. Sehingga menjaga rasio keuangan perusahaan adalah yang yang harus dilakukan. Bahkan banyak sekali perushaan yang harus melakukan utang untuk dapat menjaga eksistensi perusahaan.\n",
        "\n",
        "Kebangkrutan atau ketidakmampuan suatu perusahaan untuk membayar utang-utangnya kepada para krediturnya, merupakan hal yang paling ditakuti oleh perusahaan. Ketika suatu perusahaan telah dinyatakan bangkrut dan tidak dapat membayar utang-utangnya, akan sangat sulit bagi perusahaan tersebut untuk bangkit Kembali. Sehingga penanggulangan kebangkrutan adalah hal yang mutlak dilakukan oleh perusahaan. Pada penelitian kali ini, kita akan mengunakan machine learning untuk melakukan prediksi kebangkrutan suatu perusahaan, sehingga dapat mengantisinya sedini mungkin.\n"
      ]
    },
    {
      "cell_type": "markdown",
      "metadata": {
        "id": "DAQGqxvALW6T"
      },
      "source": [
        "###**PROBLEM STATEMENT**\n",
        "\n"
      ]
    },
    {
      "cell_type": "markdown",
      "metadata": {
        "id": "llmQ5DEiNmmn"
      },
      "source": [
        "Berdasarkan kondisi yang telah diuraikan sebelumnya, saya akan mengembangkan sebuah sistem prediksi untuk menjawab permasalahan.\n",
        "\n",
        "Bagaimana kemungkinan kebangkrutan perushaan dengan dengan laporan keuangan dan rasio keuangannya?  \n"
      ]
    },
    {
      "cell_type": "markdown",
      "metadata": {
        "id": "kIBa_vs8Lax9"
      },
      "source": [
        "###**GOALS**\n",
        "\n",
        "\n"
      ]
    },
    {
      "cell_type": "markdown",
      "metadata": {
        "id": "ObUcURE8Nq4C"
      },
      "source": [
        "Untuk  menjawab pertanyaan tersebut, dibuat predictive modelling dengan tujuan atau goals sebagai berikut.\n",
        "\n",
        "Membuat model machine learning yang dapat memprediksi kebangkrutan perusahaan dengan menggunakan fitur yang disediakan sehingga mendapatkan informasi yang lebih jelas tentang masa depan perusahaan."
      ]
    },
    {
      "cell_type": "markdown",
      "metadata": {
        "id": "Ms8UT0mMLd4C"
      },
      "source": [
        "###**SOLUTION STATEMENT**\n",
        "\n",
        "\n"
      ]
    },
    {
      "cell_type": "markdown",
      "metadata": {
        "id": "cq65jTWONwRU"
      },
      "source": [
        "Untuk prediksi ini, 3 algoritma machine learning yang berbeda akan digunakan dalam studi kasus ini. Algoritma yang digunakan adalah sebagai berikut:\n",
        "\n",
        "1. Logistic regression: Ini adalah metode klasifikasi pembelajaran mesin dan mencoba memprediksi variabel dependen kategoris yang dikodekan sebagai biner (1 – yes, berhasil dll., 0 – no, tidak berhasil, dll.). \n",
        "\n",
        "2. Support Vector Machine (SVM): Support Vector Machine (SVM) merupakan salah satu metode dalam supervised learning yang biasanya digunakan untuk klasifikasi (seperti Support Vector Classification) dan regresi (Support Vector Regression). Dalam pemodelan klasifikasi, SVM memiliki konsep yang lebih matang dan lebih jelas secara matematis dibandingkan dengan teknik-teknik klasifikasi lainnya. SVM juga dapat mengatasi masalah klasifikasi dan regresi dengan linear maupun non linear.\n",
        "\n",
        "3. Random Forest: Random Forest adalah salah satu metode berbasis klasifikasi dan regresi dimana terdapat proses agregasi decision tree. Oleh karena itu, prinsip dasar random forest mirip dengan decision tree. Masing-masing decision tree akan menghasilkan output yang bisa saja berbeda-beda. Nah, random forest ini akan melakukan voting untuk menentukan hasil mayoritas dari semua decision tree. Bedanya, random forest akan memberikan output berupa mayoritas hasil dari semua decision tree. Algoritma ini memberikan akurasi yang bagus dalam klasifikasi, dapat menangani data training yang jumlahnya besar, dan juga efektif untuk mengatasi data yang tidak lengkap."
      ]
    },
    {
      "cell_type": "markdown",
      "metadata": {
        "id": "PU5TdZsbLu9g"
      },
      "source": [
        "### **DATA UNDERSTANDING**\n",
        "\n",
        "\n"
      ]
    },
    {
      "cell_type": "markdown",
      "metadata": {
        "id": "_mN7VbVON5PU"
      },
      "source": [
        "Dataset dikumpulkan dari Jurnal Ekonomi Taiwan untuk tahun 1999 sampai 2009. Kepailitan perusahaan didefinisikan berdasarkan peraturan bisnis dari Bursa Efek Taiwan.Data memiliki dimensi 6819 x 96, yang berarti dataset memiliki 96 kolom dan 6819 baris.\n",
        "\n",
        "Sumber dataset [Company Bankruptcy Prediction]( https://www.kaggle.com/fedesoriano/company-bankruptcy-prediction)\n",
        "\n",
        "The data was obtained from [UCI Machine Learning Repository](https://archive.ics.uci.edu/ml/datasets/Taiwanese+Bankruptcy+Prediction)"
      ]
    },
    {
      "cell_type": "markdown",
      "metadata": {
        "id": "z01hQShBQcMs"
      },
      "source": [
        "Berikut ini merupakan daftar kolom yang terdapat dalam dataset(Y = Output feature, X = Input features)\n",
        "\n",
        "* Y - Bankrupt?: Class label\n",
        "* X1 - ROA(C) before interest and depreciation before interest: Return On Total Assets(C)\n",
        "* X2 - ROA(A) before interest and % after tax: Return On Total Assets(A)\n",
        "* X3 - ROA(B) before interest and depreciation after tax: Return On Total Assets(B)\n",
        "* X4 - Operating Gross Margin: Gross Profit/Net Sales\n",
        "* X5 - Realized Sales Gross Margin: Realized Gross Profit/Net Sales\n",
        "* X6 - Operating Profit Rate: Operating Income/Net Sales\n",
        "* X7 - Pre-tax net Interest Rate: Pre-Tax Income/Net Sales\n",
        "* X8 - After-tax net Interest Rate: Net Income/Net Sales\n",
        "* X9 - Non-industry income and expenditure/revenue: Net Non-operating Income Ratio\n",
        "* X10 - Continuous interest rate (after tax): Net Income-Exclude Disposal Gain or Loss/Net Sales\n",
        "* X11 - Operating Expense Rate: Operating Expenses/Net Sales\n",
        "* X12 - Research and development expense rate: (Research and Development Expenses)/Net Sales\n",
        "* X13 - Cash flow rate: Cash Flow from Operating/Current Liabilities\n",
        "* X14 - Interest-bearing debt interest rate: Interest-bearing Debt/Equity\n",
        "* X15 - Tax rate (A): Effective Tax Rate\n",
        "* X16 - Net Value Per Share (B): Book Value Per Share(B)\n",
        "* X17 - Net Value Per Share (A): Book Value Per Share(A)\n",
        "* X18 - Net Value Per Share (C): Book Value Per Share(C)\n",
        "* X19 - Persistent EPS in the Last Four Seasons: EPS-Net Income\n",
        "* X20 - Cash Flow Per Share\n",
        "* X21 - Revenue Per Share (Yuan ¥): Sales Per Share\n",
        "* X22 - Operating Profit Per Share (Yuan ¥): Operating Income Per Share\n",
        "* X23 - Per Share Net profit before tax (Yuan ¥): Pretax Income Per Share\n",
        "* X24 - Realized Sales Gross Profit Growth Rate\n",
        "* X25 - Operating Profit Growth Rate: Operating Income Growth\n",
        "* X26 - After-tax Net Profit Growth Rate: Net Income Growth\n",
        "* X27 - Regular Net Profit Growth Rate: Continuing Operating Income after Tax Growth\n",
        "* X28 - Continuous Net Profit Growth Rate: Net Income-Excluding Disposal Gain or Loss Growth\n",
        "* X29 - Total Asset Growth Rate: Total Asset Growth\n",
        "* X30 - Net Value Growth Rate: Total Equity Growth\n",
        "* X31 - Total Asset Return Growth Rate Ratio: Return on Total Asset Growth\n",
        "* X32 - Cash Reinvestment %: Cash Reinvestment Ratio\n",
        "* X33 - Current Ratio\n",
        "* X34 - Quick Ratio: Acid Test\n",
        "* X35 - Interest Expense Ratio: Interest Expenses/Total Revenue\n",
        "* X36 - Total debt/Total net worth: Total Liability/Equity Ratio\n",
        "* X37 - Debt ratio %: Liability/Total Assets\n",
        "* X38 - Net worth/Assets: Equity/Total Assets\n",
        "* X39 - Long-term fund suitability ratio (A): (Long-term Liability+Equity)/Fixed Assets\n",
        "* X40 - Borrowing dependency: Cost of Interest-bearing Debt\n",
        "* X41 - Contingent liabilities/Net worth: Contingent Liability/Equity\n",
        "* X42 - Operating profit/Paid-in capital: Operating Income/Capital\n",
        "* X43 - Net profit before tax/Paid-in capital: Pretax Income/Capital\n",
        "* X44 - Inventory and accounts receivable/Net value: (Inventory+Accounts Receivables)/Equity\n",
        "* X45 - Total Asset Turnover\n",
        "* X46 - Accounts Receivable Turnover\n",
        "* X47 - Average Collection Days: Days Receivable Outstanding\n",
        "* X48 - Inventory Turnover Rate (times)\n",
        "* X49 - Fixed Assets Turnover Frequency\n",
        "* X50 - Net Worth Turnover Rate (times): Equity Turnover\n",
        "* X51 - Revenue per person: Sales Per Employee\n",
        "* X52 - Operating profit per person: Operation Income Per Employee\n",
        "* X53 - Allocation rate per person: Fixed Assets Per Employee\n",
        "* X54 - Working Capital to Total Assets\n",
        "* X55 - Quick Assets/Total Assets\n",
        "* X56 - Current Assets/Total Assets\n",
        "* X57 - Cash/Total Assets\n",
        "* X58 - Quick Assets/Current Liability\n",
        "* X59 - Cash/Current Liability\n",
        "* X60 - Current Liability to Assets\n",
        "* X61 - Operating Funds to Liability\n",
        "* X62 - Inventory/Working Capital\n",
        "* X63 - Inventory/Current Liability\n",
        "* X64 - Current Liabilities/Liability\n",
        "* X65 - Working Capital/Equity\n",
        "* X66 - Current Liabilities/Equity\n",
        "* X67 - Long-term Liability to Current Assets\n",
        "* X68 - Retained Earnings to Total Assets\n",
        "* X69 - Total income/Total expense\n",
        "* X70 - Total expense/Assets\n",
        "* X71 - Current Asset Turnover Rate: Current Assets to Sales\n",
        "* X72 - Quick Asset Turnover Rate: Quick Assets to Sales\n",
        "* X73 - Working capitcal Turnover Rate: Working Capital to Sales\n",
        "* X74 - Cash Turnover Rate: Cash to Sales\n",
        "* X75 - Cash Flow to Sales\n",
        "* X76 - Fixed Assets to Assets\n",
        "* X77 - Current Liability to Liability\n",
        "* X78 - Current Liability to Equity\n",
        "* X79 - Equity to Long-term Liability\n",
        "* X80 - Cash Flow to Total Assets\n",
        "* X81 - Cash Flow to Liability\n",
        "* X82 - CFO to Assets\n",
        "* X83 - Cash Flow to Equity\n",
        "* X84 - Current Liability to Current Assets\n",
        "* X85 - Liability-Assets Flag: 1 if Total Liability exceeds Total Assets, 0 otherwise\n",
        "* X86 - Net Income to Total Assets\n",
        "* X87 - Total assets to GNP price\n",
        "* X88 - No-credit Interval\n",
        "* X89 - Gross Profit to Sales\n",
        "* X90 - Net Income to Stockholder's Equity\n",
        "* X91 - Liability to Equity\n",
        "* X92 - Degree of Financial Leverage (DFL)\n",
        "* X93 - Interest Coverage Ratio (Interest expense to EBIT)\n",
        "* X94 - Net Income Flag: 1 if Net Income is Negative for the last two years, 0 otherwise\n",
        "* X95 - Equity to Liability\n"
      ]
    },
    {
      "cell_type": "markdown",
      "metadata": {
        "id": "29JzHjNvMGOU"
      },
      "source": [
        "### **DATA PREPARATION**\n"
      ]
    },
    {
      "cell_type": "markdown",
      "metadata": {
        "id": "wbo_p-wfSHlV"
      },
      "source": [
        "Pada bagian ini, dilakukan pengolahan data sebelum data dapat dilakukan modelling.Saya menyorot dua proses data preparation yang utama dalam proses ini, yaitu melakukan oversampling, dan reduksi dimensi."
      ]
    },
    {
      "cell_type": "markdown",
      "metadata": {
        "id": "X5LSrr6dtXt0"
      },
      "source": [
        "1. Langkah pertama adalah melakukan Import Library yang dibutuhkan dalam pengolahan data."
      ]
    },
    {
      "cell_type": "code",
      "metadata": {
        "id": "WvA9TWNA8XY5"
      },
      "source": [
        "import numpy as np #Linear Aljabra\n",
        "import pandas as pd # data processing,\n",
        "import matplotlib #digunakan untuk memvisualisasikan data\n",
        "import matplotlib.pyplot as plt\n",
        "import seaborn as sns #untuk melakukan visualisai agar lebih menarik\n",
        "%matplotlib inline\n",
        "\n",
        "#Import library untuk melakukan komparasi matrix\n",
        "from sklearn.metrics import confusion_matrix\n",
        "from sklearn.metrics import accuracy_score\n",
        "from sklearn.metrics import classification_report\n",
        "from sklearn.metrics import f1_score\n",
        "from sklearn.metrics import recall_score\n",
        "from sklearn.metrics import roc_auc_score\n",
        "from sklearn.metrics import precision_score"
      ],
      "execution_count": null,
      "outputs": []
    },
    {
      "cell_type": "markdown",
      "metadata": {
        "id": "CiCKiBK0tf5Z"
      },
      "source": [
        "2. Dataset memiliki nama 'data.csv', \n",
        "Kita dapat membaca dataset dengan menggunakan fungsi berikut"
      ]
    },
    {
      "cell_type": "code",
      "metadata": {
        "id": "ypteVEOZbUHH"
      },
      "source": [
        "df = pd.read_csv('data.csv')"
      ],
      "execution_count": null,
      "outputs": []
    },
    {
      "cell_type": "markdown",
      "metadata": {
        "id": "f7QNNuh6twS7"
      },
      "source": [
        "3. Selanjutnya kita dapat melihat gambaran dasar dataset, kita dapat meilhat lima data pertama dari dataset dengan fungsi berikut."
      ]
    },
    {
      "cell_type": "code",
      "metadata": {
        "colab": {
          "base_uri": "https://localhost:8080/",
          "height": 370
        },
        "id": "FQVUVCUP9ELT",
        "outputId": "a7013482-7d34-48bb-9777-30b9e6a22c5a"
      },
      "source": [
        "df.head()\n"
      ],
      "execution_count": null,
      "outputs": [
        {
          "output_type": "execute_result",
          "data": {
            "text/html": [
              "<div>\n",
              "<style scoped>\n",
              "    .dataframe tbody tr th:only-of-type {\n",
              "        vertical-align: middle;\n",
              "    }\n",
              "\n",
              "    .dataframe tbody tr th {\n",
              "        vertical-align: top;\n",
              "    }\n",
              "\n",
              "    .dataframe thead th {\n",
              "        text-align: right;\n",
              "    }\n",
              "</style>\n",
              "<table border=\"1\" class=\"dataframe\">\n",
              "  <thead>\n",
              "    <tr style=\"text-align: right;\">\n",
              "      <th></th>\n",
              "      <th>Bankrupt?</th>\n",
              "      <th>ROA(C) before interest and depreciation before interest</th>\n",
              "      <th>ROA(A) before interest and % after tax</th>\n",
              "      <th>ROA(B) before interest and depreciation after tax</th>\n",
              "      <th>Operating Gross Margin</th>\n",
              "      <th>Realized Sales Gross Margin</th>\n",
              "      <th>Operating Profit Rate</th>\n",
              "      <th>Pre-tax net Interest Rate</th>\n",
              "      <th>After-tax net Interest Rate</th>\n",
              "      <th>Non-industry income and expenditure/revenue</th>\n",
              "      <th>Continuous interest rate (after tax)</th>\n",
              "      <th>Operating Expense Rate</th>\n",
              "      <th>Research and development expense rate</th>\n",
              "      <th>Cash flow rate</th>\n",
              "      <th>Interest-bearing debt interest rate</th>\n",
              "      <th>Tax rate (A)</th>\n",
              "      <th>Net Value Per Share (B)</th>\n",
              "      <th>Net Value Per Share (A)</th>\n",
              "      <th>Net Value Per Share (C)</th>\n",
              "      <th>Persistent EPS in the Last Four Seasons</th>\n",
              "      <th>Cash Flow Per Share</th>\n",
              "      <th>Revenue Per Share (Yuan ¥)</th>\n",
              "      <th>Operating Profit Per Share (Yuan ¥)</th>\n",
              "      <th>Per Share Net profit before tax (Yuan ¥)</th>\n",
              "      <th>Realized Sales Gross Profit Growth Rate</th>\n",
              "      <th>Operating Profit Growth Rate</th>\n",
              "      <th>After-tax Net Profit Growth Rate</th>\n",
              "      <th>Regular Net Profit Growth Rate</th>\n",
              "      <th>Continuous Net Profit Growth Rate</th>\n",
              "      <th>Total Asset Growth Rate</th>\n",
              "      <th>Net Value Growth Rate</th>\n",
              "      <th>Total Asset Return Growth Rate Ratio</th>\n",
              "      <th>Cash Reinvestment %</th>\n",
              "      <th>Current Ratio</th>\n",
              "      <th>Quick Ratio</th>\n",
              "      <th>Interest Expense Ratio</th>\n",
              "      <th>Total debt/Total net worth</th>\n",
              "      <th>Debt ratio %</th>\n",
              "      <th>Net worth/Assets</th>\n",
              "      <th>Long-term fund suitability ratio (A)</th>\n",
              "      <th>...</th>\n",
              "      <th>Current Assets/Total Assets</th>\n",
              "      <th>Cash/Total Assets</th>\n",
              "      <th>Quick Assets/Current Liability</th>\n",
              "      <th>Cash/Current Liability</th>\n",
              "      <th>Current Liability to Assets</th>\n",
              "      <th>Operating Funds to Liability</th>\n",
              "      <th>Inventory/Working Capital</th>\n",
              "      <th>Inventory/Current Liability</th>\n",
              "      <th>Current Liabilities/Liability</th>\n",
              "      <th>Working Capital/Equity</th>\n",
              "      <th>Current Liabilities/Equity</th>\n",
              "      <th>Long-term Liability to Current Assets</th>\n",
              "      <th>Retained Earnings to Total Assets</th>\n",
              "      <th>Total income/Total expense</th>\n",
              "      <th>Total expense/Assets</th>\n",
              "      <th>Current Asset Turnover Rate</th>\n",
              "      <th>Quick Asset Turnover Rate</th>\n",
              "      <th>Working capitcal Turnover Rate</th>\n",
              "      <th>Cash Turnover Rate</th>\n",
              "      <th>Cash Flow to Sales</th>\n",
              "      <th>Fixed Assets to Assets</th>\n",
              "      <th>Current Liability to Liability</th>\n",
              "      <th>Current Liability to Equity</th>\n",
              "      <th>Equity to Long-term Liability</th>\n",
              "      <th>Cash Flow to Total Assets</th>\n",
              "      <th>Cash Flow to Liability</th>\n",
              "      <th>CFO to Assets</th>\n",
              "      <th>Cash Flow to Equity</th>\n",
              "      <th>Current Liability to Current Assets</th>\n",
              "      <th>Liability-Assets Flag</th>\n",
              "      <th>Net Income to Total Assets</th>\n",
              "      <th>Total assets to GNP price</th>\n",
              "      <th>No-credit Interval</th>\n",
              "      <th>Gross Profit to Sales</th>\n",
              "      <th>Net Income to Stockholder's Equity</th>\n",
              "      <th>Liability to Equity</th>\n",
              "      <th>Degree of Financial Leverage (DFL)</th>\n",
              "      <th>Interest Coverage Ratio (Interest expense to EBIT)</th>\n",
              "      <th>Net Income Flag</th>\n",
              "      <th>Equity to Liability</th>\n",
              "    </tr>\n",
              "  </thead>\n",
              "  <tbody>\n",
              "    <tr>\n",
              "      <th>0</th>\n",
              "      <td>1</td>\n",
              "      <td>0.370594</td>\n",
              "      <td>0.424389</td>\n",
              "      <td>0.405750</td>\n",
              "      <td>0.601457</td>\n",
              "      <td>0.601457</td>\n",
              "      <td>0.998969</td>\n",
              "      <td>0.796887</td>\n",
              "      <td>0.808809</td>\n",
              "      <td>0.302646</td>\n",
              "      <td>0.780985</td>\n",
              "      <td>1.256969e-04</td>\n",
              "      <td>0.0</td>\n",
              "      <td>0.458143</td>\n",
              "      <td>0.000725</td>\n",
              "      <td>0.0</td>\n",
              "      <td>0.147950</td>\n",
              "      <td>0.147950</td>\n",
              "      <td>0.147950</td>\n",
              "      <td>0.169141</td>\n",
              "      <td>0.311664</td>\n",
              "      <td>0.017560</td>\n",
              "      <td>0.095921</td>\n",
              "      <td>0.138736</td>\n",
              "      <td>0.022102</td>\n",
              "      <td>0.848195</td>\n",
              "      <td>0.688979</td>\n",
              "      <td>0.688979</td>\n",
              "      <td>0.217535</td>\n",
              "      <td>4.980000e+09</td>\n",
              "      <td>0.000327</td>\n",
              "      <td>0.263100</td>\n",
              "      <td>0.363725</td>\n",
              "      <td>0.002259</td>\n",
              "      <td>0.001208</td>\n",
              "      <td>0.629951</td>\n",
              "      <td>0.021266</td>\n",
              "      <td>0.207576</td>\n",
              "      <td>0.792424</td>\n",
              "      <td>0.005024</td>\n",
              "      <td>...</td>\n",
              "      <td>0.190643</td>\n",
              "      <td>0.004094</td>\n",
              "      <td>0.001997</td>\n",
              "      <td>1.473360e-04</td>\n",
              "      <td>0.147308</td>\n",
              "      <td>0.334015</td>\n",
              "      <td>0.276920</td>\n",
              "      <td>0.001036</td>\n",
              "      <td>0.676269</td>\n",
              "      <td>0.721275</td>\n",
              "      <td>0.339077</td>\n",
              "      <td>0.025592</td>\n",
              "      <td>0.903225</td>\n",
              "      <td>0.002022</td>\n",
              "      <td>0.064856</td>\n",
              "      <td>7.010000e+08</td>\n",
              "      <td>6.550000e+09</td>\n",
              "      <td>0.593831</td>\n",
              "      <td>4.580000e+08</td>\n",
              "      <td>0.671568</td>\n",
              "      <td>0.424206</td>\n",
              "      <td>0.676269</td>\n",
              "      <td>0.339077</td>\n",
              "      <td>0.126549</td>\n",
              "      <td>0.637555</td>\n",
              "      <td>0.458609</td>\n",
              "      <td>0.520382</td>\n",
              "      <td>0.312905</td>\n",
              "      <td>0.118250</td>\n",
              "      <td>0</td>\n",
              "      <td>0.716845</td>\n",
              "      <td>0.009219</td>\n",
              "      <td>0.622879</td>\n",
              "      <td>0.601453</td>\n",
              "      <td>0.827890</td>\n",
              "      <td>0.290202</td>\n",
              "      <td>0.026601</td>\n",
              "      <td>0.564050</td>\n",
              "      <td>1</td>\n",
              "      <td>0.016469</td>\n",
              "    </tr>\n",
              "    <tr>\n",
              "      <th>1</th>\n",
              "      <td>1</td>\n",
              "      <td>0.464291</td>\n",
              "      <td>0.538214</td>\n",
              "      <td>0.516730</td>\n",
              "      <td>0.610235</td>\n",
              "      <td>0.610235</td>\n",
              "      <td>0.998946</td>\n",
              "      <td>0.797380</td>\n",
              "      <td>0.809301</td>\n",
              "      <td>0.303556</td>\n",
              "      <td>0.781506</td>\n",
              "      <td>2.897851e-04</td>\n",
              "      <td>0.0</td>\n",
              "      <td>0.461867</td>\n",
              "      <td>0.000647</td>\n",
              "      <td>0.0</td>\n",
              "      <td>0.182251</td>\n",
              "      <td>0.182251</td>\n",
              "      <td>0.182251</td>\n",
              "      <td>0.208944</td>\n",
              "      <td>0.318137</td>\n",
              "      <td>0.021144</td>\n",
              "      <td>0.093722</td>\n",
              "      <td>0.169918</td>\n",
              "      <td>0.022080</td>\n",
              "      <td>0.848088</td>\n",
              "      <td>0.689693</td>\n",
              "      <td>0.689702</td>\n",
              "      <td>0.217620</td>\n",
              "      <td>6.110000e+09</td>\n",
              "      <td>0.000443</td>\n",
              "      <td>0.264516</td>\n",
              "      <td>0.376709</td>\n",
              "      <td>0.006016</td>\n",
              "      <td>0.004039</td>\n",
              "      <td>0.635172</td>\n",
              "      <td>0.012502</td>\n",
              "      <td>0.171176</td>\n",
              "      <td>0.828824</td>\n",
              "      <td>0.005059</td>\n",
              "      <td>...</td>\n",
              "      <td>0.182419</td>\n",
              "      <td>0.014948</td>\n",
              "      <td>0.004136</td>\n",
              "      <td>1.383910e-03</td>\n",
              "      <td>0.056963</td>\n",
              "      <td>0.341106</td>\n",
              "      <td>0.289642</td>\n",
              "      <td>0.005210</td>\n",
              "      <td>0.308589</td>\n",
              "      <td>0.731975</td>\n",
              "      <td>0.329740</td>\n",
              "      <td>0.023947</td>\n",
              "      <td>0.931065</td>\n",
              "      <td>0.002226</td>\n",
              "      <td>0.025516</td>\n",
              "      <td>1.065198e-04</td>\n",
              "      <td>7.700000e+09</td>\n",
              "      <td>0.593916</td>\n",
              "      <td>2.490000e+09</td>\n",
              "      <td>0.671570</td>\n",
              "      <td>0.468828</td>\n",
              "      <td>0.308589</td>\n",
              "      <td>0.329740</td>\n",
              "      <td>0.120916</td>\n",
              "      <td>0.641100</td>\n",
              "      <td>0.459001</td>\n",
              "      <td>0.567101</td>\n",
              "      <td>0.314163</td>\n",
              "      <td>0.047775</td>\n",
              "      <td>0</td>\n",
              "      <td>0.795297</td>\n",
              "      <td>0.008323</td>\n",
              "      <td>0.623652</td>\n",
              "      <td>0.610237</td>\n",
              "      <td>0.839969</td>\n",
              "      <td>0.283846</td>\n",
              "      <td>0.264577</td>\n",
              "      <td>0.570175</td>\n",
              "      <td>1</td>\n",
              "      <td>0.020794</td>\n",
              "    </tr>\n",
              "    <tr>\n",
              "      <th>2</th>\n",
              "      <td>1</td>\n",
              "      <td>0.426071</td>\n",
              "      <td>0.499019</td>\n",
              "      <td>0.472295</td>\n",
              "      <td>0.601450</td>\n",
              "      <td>0.601364</td>\n",
              "      <td>0.998857</td>\n",
              "      <td>0.796403</td>\n",
              "      <td>0.808388</td>\n",
              "      <td>0.302035</td>\n",
              "      <td>0.780284</td>\n",
              "      <td>2.361297e-04</td>\n",
              "      <td>25500000.0</td>\n",
              "      <td>0.458521</td>\n",
              "      <td>0.000790</td>\n",
              "      <td>0.0</td>\n",
              "      <td>0.177911</td>\n",
              "      <td>0.177911</td>\n",
              "      <td>0.193713</td>\n",
              "      <td>0.180581</td>\n",
              "      <td>0.307102</td>\n",
              "      <td>0.005944</td>\n",
              "      <td>0.092338</td>\n",
              "      <td>0.142803</td>\n",
              "      <td>0.022760</td>\n",
              "      <td>0.848094</td>\n",
              "      <td>0.689463</td>\n",
              "      <td>0.689470</td>\n",
              "      <td>0.217601</td>\n",
              "      <td>7.280000e+09</td>\n",
              "      <td>0.000396</td>\n",
              "      <td>0.264184</td>\n",
              "      <td>0.368913</td>\n",
              "      <td>0.011543</td>\n",
              "      <td>0.005348</td>\n",
              "      <td>0.629631</td>\n",
              "      <td>0.021248</td>\n",
              "      <td>0.207516</td>\n",
              "      <td>0.792484</td>\n",
              "      <td>0.005100</td>\n",
              "      <td>...</td>\n",
              "      <td>0.602806</td>\n",
              "      <td>0.000991</td>\n",
              "      <td>0.006302</td>\n",
              "      <td>5.340000e+09</td>\n",
              "      <td>0.098162</td>\n",
              "      <td>0.336731</td>\n",
              "      <td>0.277456</td>\n",
              "      <td>0.013879</td>\n",
              "      <td>0.446027</td>\n",
              "      <td>0.742729</td>\n",
              "      <td>0.334777</td>\n",
              "      <td>0.003715</td>\n",
              "      <td>0.909903</td>\n",
              "      <td>0.002060</td>\n",
              "      <td>0.021387</td>\n",
              "      <td>1.791094e-03</td>\n",
              "      <td>1.022676e-03</td>\n",
              "      <td>0.594502</td>\n",
              "      <td>7.610000e+08</td>\n",
              "      <td>0.671571</td>\n",
              "      <td>0.276179</td>\n",
              "      <td>0.446027</td>\n",
              "      <td>0.334777</td>\n",
              "      <td>0.117922</td>\n",
              "      <td>0.642765</td>\n",
              "      <td>0.459254</td>\n",
              "      <td>0.538491</td>\n",
              "      <td>0.314515</td>\n",
              "      <td>0.025346</td>\n",
              "      <td>0</td>\n",
              "      <td>0.774670</td>\n",
              "      <td>0.040003</td>\n",
              "      <td>0.623841</td>\n",
              "      <td>0.601449</td>\n",
              "      <td>0.836774</td>\n",
              "      <td>0.290189</td>\n",
              "      <td>0.026555</td>\n",
              "      <td>0.563706</td>\n",
              "      <td>1</td>\n",
              "      <td>0.016474</td>\n",
              "    </tr>\n",
              "    <tr>\n",
              "      <th>3</th>\n",
              "      <td>1</td>\n",
              "      <td>0.399844</td>\n",
              "      <td>0.451265</td>\n",
              "      <td>0.457733</td>\n",
              "      <td>0.583541</td>\n",
              "      <td>0.583541</td>\n",
              "      <td>0.998700</td>\n",
              "      <td>0.796967</td>\n",
              "      <td>0.808966</td>\n",
              "      <td>0.303350</td>\n",
              "      <td>0.781241</td>\n",
              "      <td>1.078888e-04</td>\n",
              "      <td>0.0</td>\n",
              "      <td>0.465705</td>\n",
              "      <td>0.000449</td>\n",
              "      <td>0.0</td>\n",
              "      <td>0.154187</td>\n",
              "      <td>0.154187</td>\n",
              "      <td>0.154187</td>\n",
              "      <td>0.193722</td>\n",
              "      <td>0.321674</td>\n",
              "      <td>0.014368</td>\n",
              "      <td>0.077762</td>\n",
              "      <td>0.148603</td>\n",
              "      <td>0.022046</td>\n",
              "      <td>0.848005</td>\n",
              "      <td>0.689110</td>\n",
              "      <td>0.689110</td>\n",
              "      <td>0.217568</td>\n",
              "      <td>4.880000e+09</td>\n",
              "      <td>0.000382</td>\n",
              "      <td>0.263371</td>\n",
              "      <td>0.384077</td>\n",
              "      <td>0.004194</td>\n",
              "      <td>0.002896</td>\n",
              "      <td>0.630228</td>\n",
              "      <td>0.009572</td>\n",
              "      <td>0.151465</td>\n",
              "      <td>0.848535</td>\n",
              "      <td>0.005047</td>\n",
              "      <td>...</td>\n",
              "      <td>0.225815</td>\n",
              "      <td>0.018851</td>\n",
              "      <td>0.002961</td>\n",
              "      <td>1.010646e-03</td>\n",
              "      <td>0.098715</td>\n",
              "      <td>0.348716</td>\n",
              "      <td>0.276580</td>\n",
              "      <td>0.003540</td>\n",
              "      <td>0.615848</td>\n",
              "      <td>0.729825</td>\n",
              "      <td>0.331509</td>\n",
              "      <td>0.022165</td>\n",
              "      <td>0.906902</td>\n",
              "      <td>0.001831</td>\n",
              "      <td>0.024161</td>\n",
              "      <td>8.140000e+09</td>\n",
              "      <td>6.050000e+09</td>\n",
              "      <td>0.593889</td>\n",
              "      <td>2.030000e+09</td>\n",
              "      <td>0.671519</td>\n",
              "      <td>0.559144</td>\n",
              "      <td>0.615848</td>\n",
              "      <td>0.331509</td>\n",
              "      <td>0.120760</td>\n",
              "      <td>0.579039</td>\n",
              "      <td>0.448518</td>\n",
              "      <td>0.604105</td>\n",
              "      <td>0.302382</td>\n",
              "      <td>0.067250</td>\n",
              "      <td>0</td>\n",
              "      <td>0.739555</td>\n",
              "      <td>0.003252</td>\n",
              "      <td>0.622929</td>\n",
              "      <td>0.583538</td>\n",
              "      <td>0.834697</td>\n",
              "      <td>0.281721</td>\n",
              "      <td>0.026697</td>\n",
              "      <td>0.564663</td>\n",
              "      <td>1</td>\n",
              "      <td>0.023982</td>\n",
              "    </tr>\n",
              "    <tr>\n",
              "      <th>4</th>\n",
              "      <td>1</td>\n",
              "      <td>0.465022</td>\n",
              "      <td>0.538432</td>\n",
              "      <td>0.522298</td>\n",
              "      <td>0.598783</td>\n",
              "      <td>0.598783</td>\n",
              "      <td>0.998973</td>\n",
              "      <td>0.797366</td>\n",
              "      <td>0.809304</td>\n",
              "      <td>0.303475</td>\n",
              "      <td>0.781550</td>\n",
              "      <td>7.890000e+09</td>\n",
              "      <td>0.0</td>\n",
              "      <td>0.462746</td>\n",
              "      <td>0.000686</td>\n",
              "      <td>0.0</td>\n",
              "      <td>0.167502</td>\n",
              "      <td>0.167502</td>\n",
              "      <td>0.167502</td>\n",
              "      <td>0.212537</td>\n",
              "      <td>0.319162</td>\n",
              "      <td>0.029690</td>\n",
              "      <td>0.096898</td>\n",
              "      <td>0.168412</td>\n",
              "      <td>0.022096</td>\n",
              "      <td>0.848258</td>\n",
              "      <td>0.689697</td>\n",
              "      <td>0.689697</td>\n",
              "      <td>0.217626</td>\n",
              "      <td>5.510000e+09</td>\n",
              "      <td>0.000439</td>\n",
              "      <td>0.265218</td>\n",
              "      <td>0.379690</td>\n",
              "      <td>0.006022</td>\n",
              "      <td>0.003727</td>\n",
              "      <td>0.636055</td>\n",
              "      <td>0.005150</td>\n",
              "      <td>0.106509</td>\n",
              "      <td>0.893491</td>\n",
              "      <td>0.005303</td>\n",
              "      <td>...</td>\n",
              "      <td>0.358380</td>\n",
              "      <td>0.014161</td>\n",
              "      <td>0.004275</td>\n",
              "      <td>6.804636e-04</td>\n",
              "      <td>0.110195</td>\n",
              "      <td>0.344639</td>\n",
              "      <td>0.287913</td>\n",
              "      <td>0.004869</td>\n",
              "      <td>0.975007</td>\n",
              "      <td>0.732000</td>\n",
              "      <td>0.330726</td>\n",
              "      <td>0.000000</td>\n",
              "      <td>0.913850</td>\n",
              "      <td>0.002224</td>\n",
              "      <td>0.026385</td>\n",
              "      <td>6.680000e+09</td>\n",
              "      <td>5.050000e+09</td>\n",
              "      <td>0.593915</td>\n",
              "      <td>8.240000e+08</td>\n",
              "      <td>0.671563</td>\n",
              "      <td>0.309555</td>\n",
              "      <td>0.975007</td>\n",
              "      <td>0.330726</td>\n",
              "      <td>0.110933</td>\n",
              "      <td>0.622374</td>\n",
              "      <td>0.454411</td>\n",
              "      <td>0.578469</td>\n",
              "      <td>0.311567</td>\n",
              "      <td>0.047725</td>\n",
              "      <td>0</td>\n",
              "      <td>0.795016</td>\n",
              "      <td>0.003878</td>\n",
              "      <td>0.623521</td>\n",
              "      <td>0.598782</td>\n",
              "      <td>0.839973</td>\n",
              "      <td>0.278514</td>\n",
              "      <td>0.024752</td>\n",
              "      <td>0.575617</td>\n",
              "      <td>1</td>\n",
              "      <td>0.035490</td>\n",
              "    </tr>\n",
              "  </tbody>\n",
              "</table>\n",
              "<p>5 rows × 96 columns</p>\n",
              "</div>"
            ],
            "text/plain": [
              "   Bankrupt?  ...   Equity to Liability\n",
              "0          1  ...              0.016469\n",
              "1          1  ...              0.020794\n",
              "2          1  ...              0.016474\n",
              "3          1  ...              0.023982\n",
              "4          1  ...              0.035490\n",
              "\n",
              "[5 rows x 96 columns]"
            ]
          },
          "metadata": {},
          "execution_count": 19
        }
      ]
    },
    {
      "cell_type": "markdown",
      "metadata": {
        "id": "hOhpd0Jn0Ieb"
      },
      "source": [
        "4. Kita coba untuk melihat dimensi dari dataset"
      ]
    },
    {
      "cell_type": "code",
      "metadata": {
        "colab": {
          "base_uri": "https://localhost:8080/"
        },
        "id": "NrTJfwoduQ-C",
        "outputId": "5981bf4d-a0c0-4251-bc8a-b91a057cd64a"
      },
      "source": [
        "df.shape"
      ],
      "execution_count": null,
      "outputs": [
        {
          "output_type": "execute_result",
          "data": {
            "text/plain": [
              "(6819, 96)"
            ]
          },
          "metadata": {},
          "execution_count": 20
        }
      ]
    },
    {
      "cell_type": "markdown",
      "metadata": {
        "id": "k8VHBbX70PbG"
      },
      "source": [
        "Dapat kita ketahui bahwa dataset terdiri dari **6819** baris dan **96** kolom, jumlah kolom yang terlalu banyak akan berdampak pad kualitas dari model yang kita buat. Sehingga selanjutnya kita akan coba melakukan reduksi dimensi."
      ]
    },
    {
      "cell_type": "markdown",
      "metadata": {
        "id": "bw2C_IZbuDCA"
      },
      "source": [
        "5. Selanjutnya kita akan mengecek apakah terdapat data yang kosong"
      ]
    },
    {
      "cell_type": "code",
      "metadata": {
        "colab": {
          "base_uri": "https://localhost:8080/"
        },
        "id": "dT56EUBB9iOA",
        "outputId": "e1cc8198-425f-469b-c7b3-844a17a9e997"
      },
      "source": [
        "df.isnull().sum()"
      ],
      "execution_count": null,
      "outputs": [
        {
          "output_type": "execute_result",
          "data": {
            "text/plain": [
              "Bankrupt?                                                   0\n",
              " ROA(C) before interest and depreciation before interest    0\n",
              " ROA(A) before interest and % after tax                     0\n",
              " ROA(B) before interest and depreciation after tax          0\n",
              " Operating Gross Margin                                     0\n",
              "                                                           ..\n",
              " Liability to Equity                                        0\n",
              " Degree of Financial Leverage (DFL)                         0\n",
              " Interest Coverage Ratio (Interest expense to EBIT)         0\n",
              " Net Income Flag                                            0\n",
              " Equity to Liability                                        0\n",
              "Length: 96, dtype: int64"
            ]
          },
          "metadata": {},
          "execution_count": 21
        }
      ]
    },
    {
      "cell_type": "markdown",
      "metadata": {
        "id": "qXoN8mE21VwT"
      },
      "source": [
        "Dataset yang kita miliki, tidak memiliki nilai data yang kosong, sehingga dapat kita abaikan"
      ]
    },
    {
      "cell_type": "markdown",
      "metadata": {
        "id": "m-Hl_16auZ-x"
      },
      "source": [
        "6. Selanjutnya kita mengecek apakah terdapat data yang mengandung duplikat"
      ]
    },
    {
      "cell_type": "code",
      "metadata": {
        "colab": {
          "base_uri": "https://localhost:8080/"
        },
        "id": "52aLW6zM9l4Z",
        "outputId": "6844d387-4590-4ac9-8e5f-33f6ffc7072e"
      },
      "source": [
        "df.duplicated().sum()"
      ],
      "execution_count": null,
      "outputs": [
        {
          "output_type": "execute_result",
          "data": {
            "text/plain": [
              "0"
            ]
          },
          "metadata": {},
          "execution_count": 22
        }
      ]
    },
    {
      "cell_type": "markdown",
      "metadata": {
        "id": "Ma501YBa1qDH"
      },
      "source": [
        "Dataset yang kita miliki, tidak memiliki nilai data yang duplikat, sehingga dapat kita abaikan"
      ]
    },
    {
      "cell_type": "markdown",
      "metadata": {
        "id": "3M1KDV6jun0F"
      },
      "source": [
        "7. Mengecek informasi pada dataset dengan fungsi info()"
      ]
    },
    {
      "cell_type": "code",
      "metadata": {
        "colab": {
          "base_uri": "https://localhost:8080/"
        },
        "id": "QhGfws_h9pCA",
        "outputId": "b5422d17-ca47-4028-94c6-4f80619806af"
      },
      "source": [
        "df.info()"
      ],
      "execution_count": null,
      "outputs": [
        {
          "output_type": "stream",
          "name": "stdout",
          "text": [
            "<class 'pandas.core.frame.DataFrame'>\n",
            "RangeIndex: 6819 entries, 0 to 6818\n",
            "Data columns (total 96 columns):\n",
            " #   Column                                                    Non-Null Count  Dtype  \n",
            "---  ------                                                    --------------  -----  \n",
            " 0   Bankrupt?                                                 6819 non-null   int64  \n",
            " 1    ROA(C) before interest and depreciation before interest  6819 non-null   float64\n",
            " 2    ROA(A) before interest and % after tax                   6819 non-null   float64\n",
            " 3    ROA(B) before interest and depreciation after tax        6819 non-null   float64\n",
            " 4    Operating Gross Margin                                   6819 non-null   float64\n",
            " 5    Realized Sales Gross Margin                              6819 non-null   float64\n",
            " 6    Operating Profit Rate                                    6819 non-null   float64\n",
            " 7    Pre-tax net Interest Rate                                6819 non-null   float64\n",
            " 8    After-tax net Interest Rate                              6819 non-null   float64\n",
            " 9    Non-industry income and expenditure/revenue              6819 non-null   float64\n",
            " 10   Continuous interest rate (after tax)                     6819 non-null   float64\n",
            " 11   Operating Expense Rate                                   6819 non-null   float64\n",
            " 12   Research and development expense rate                    6819 non-null   float64\n",
            " 13   Cash flow rate                                           6819 non-null   float64\n",
            " 14   Interest-bearing debt interest rate                      6819 non-null   float64\n",
            " 15   Tax rate (A)                                             6819 non-null   float64\n",
            " 16   Net Value Per Share (B)                                  6819 non-null   float64\n",
            " 17   Net Value Per Share (A)                                  6819 non-null   float64\n",
            " 18   Net Value Per Share (C)                                  6819 non-null   float64\n",
            " 19   Persistent EPS in the Last Four Seasons                  6819 non-null   float64\n",
            " 20   Cash Flow Per Share                                      6819 non-null   float64\n",
            " 21   Revenue Per Share (Yuan ¥)                               6819 non-null   float64\n",
            " 22   Operating Profit Per Share (Yuan ¥)                      6819 non-null   float64\n",
            " 23   Per Share Net profit before tax (Yuan ¥)                 6819 non-null   float64\n",
            " 24   Realized Sales Gross Profit Growth Rate                  6819 non-null   float64\n",
            " 25   Operating Profit Growth Rate                             6819 non-null   float64\n",
            " 26   After-tax Net Profit Growth Rate                         6819 non-null   float64\n",
            " 27   Regular Net Profit Growth Rate                           6819 non-null   float64\n",
            " 28   Continuous Net Profit Growth Rate                        6819 non-null   float64\n",
            " 29   Total Asset Growth Rate                                  6819 non-null   float64\n",
            " 30   Net Value Growth Rate                                    6819 non-null   float64\n",
            " 31   Total Asset Return Growth Rate Ratio                     6819 non-null   float64\n",
            " 32   Cash Reinvestment %                                      6819 non-null   float64\n",
            " 33   Current Ratio                                            6819 non-null   float64\n",
            " 34   Quick Ratio                                              6819 non-null   float64\n",
            " 35   Interest Expense Ratio                                   6819 non-null   float64\n",
            " 36   Total debt/Total net worth                               6819 non-null   float64\n",
            " 37   Debt ratio %                                             6819 non-null   float64\n",
            " 38   Net worth/Assets                                         6819 non-null   float64\n",
            " 39   Long-term fund suitability ratio (A)                     6819 non-null   float64\n",
            " 40   Borrowing dependency                                     6819 non-null   float64\n",
            " 41   Contingent liabilities/Net worth                         6819 non-null   float64\n",
            " 42   Operating profit/Paid-in capital                         6819 non-null   float64\n",
            " 43   Net profit before tax/Paid-in capital                    6819 non-null   float64\n",
            " 44   Inventory and accounts receivable/Net value              6819 non-null   float64\n",
            " 45   Total Asset Turnover                                     6819 non-null   float64\n",
            " 46   Accounts Receivable Turnover                             6819 non-null   float64\n",
            " 47   Average Collection Days                                  6819 non-null   float64\n",
            " 48   Inventory Turnover Rate (times)                          6819 non-null   float64\n",
            " 49   Fixed Assets Turnover Frequency                          6819 non-null   float64\n",
            " 50   Net Worth Turnover Rate (times)                          6819 non-null   float64\n",
            " 51   Revenue per person                                       6819 non-null   float64\n",
            " 52   Operating profit per person                              6819 non-null   float64\n",
            " 53   Allocation rate per person                               6819 non-null   float64\n",
            " 54   Working Capital to Total Assets                          6819 non-null   float64\n",
            " 55   Quick Assets/Total Assets                                6819 non-null   float64\n",
            " 56   Current Assets/Total Assets                              6819 non-null   float64\n",
            " 57   Cash/Total Assets                                        6819 non-null   float64\n",
            " 58   Quick Assets/Current Liability                           6819 non-null   float64\n",
            " 59   Cash/Current Liability                                   6819 non-null   float64\n",
            " 60   Current Liability to Assets                              6819 non-null   float64\n",
            " 61   Operating Funds to Liability                             6819 non-null   float64\n",
            " 62   Inventory/Working Capital                                6819 non-null   float64\n",
            " 63   Inventory/Current Liability                              6819 non-null   float64\n",
            " 64   Current Liabilities/Liability                            6819 non-null   float64\n",
            " 65   Working Capital/Equity                                   6819 non-null   float64\n",
            " 66   Current Liabilities/Equity                               6819 non-null   float64\n",
            " 67   Long-term Liability to Current Assets                    6819 non-null   float64\n",
            " 68   Retained Earnings to Total Assets                        6819 non-null   float64\n",
            " 69   Total income/Total expense                               6819 non-null   float64\n",
            " 70   Total expense/Assets                                     6819 non-null   float64\n",
            " 71   Current Asset Turnover Rate                              6819 non-null   float64\n",
            " 72   Quick Asset Turnover Rate                                6819 non-null   float64\n",
            " 73   Working capitcal Turnover Rate                           6819 non-null   float64\n",
            " 74   Cash Turnover Rate                                       6819 non-null   float64\n",
            " 75   Cash Flow to Sales                                       6819 non-null   float64\n",
            " 76   Fixed Assets to Assets                                   6819 non-null   float64\n",
            " 77   Current Liability to Liability                           6819 non-null   float64\n",
            " 78   Current Liability to Equity                              6819 non-null   float64\n",
            " 79   Equity to Long-term Liability                            6819 non-null   float64\n",
            " 80   Cash Flow to Total Assets                                6819 non-null   float64\n",
            " 81   Cash Flow to Liability                                   6819 non-null   float64\n",
            " 82   CFO to Assets                                            6819 non-null   float64\n",
            " 83   Cash Flow to Equity                                      6819 non-null   float64\n",
            " 84   Current Liability to Current Assets                      6819 non-null   float64\n",
            " 85   Liability-Assets Flag                                    6819 non-null   int64  \n",
            " 86   Net Income to Total Assets                               6819 non-null   float64\n",
            " 87   Total assets to GNP price                                6819 non-null   float64\n",
            " 88   No-credit Interval                                       6819 non-null   float64\n",
            " 89   Gross Profit to Sales                                    6819 non-null   float64\n",
            " 90   Net Income to Stockholder's Equity                       6819 non-null   float64\n",
            " 91   Liability to Equity                                      6819 non-null   float64\n",
            " 92   Degree of Financial Leverage (DFL)                       6819 non-null   float64\n",
            " 93   Interest Coverage Ratio (Interest expense to EBIT)       6819 non-null   float64\n",
            " 94   Net Income Flag                                          6819 non-null   int64  \n",
            " 95   Equity to Liability                                      6819 non-null   float64\n",
            "dtypes: float64(93), int64(3)\n",
            "memory usage: 5.0 MB\n"
          ]
        }
      ]
    },
    {
      "cell_type": "markdown",
      "metadata": {
        "id": "SgwxFHmW2Gew"
      },
      "source": [
        "Dapat diketahui bahwa tipe dataset terdiri dari float64 dan int64"
      ]
    },
    {
      "cell_type": "markdown",
      "metadata": {
        "id": "HvUO5oZ1uyMr"
      },
      "source": [
        "8. Kita akan mengecek total masing-masing variabel target"
      ]
    },
    {
      "cell_type": "code",
      "metadata": {
        "colab": {
          "base_uri": "https://localhost:8080/"
        },
        "id": "A7Yfutvj92qB",
        "outputId": "2e3d4540-5c03-4b5b-a6dc-c5bde9db6ed6"
      },
      "source": [
        "df['Bankrupt?'].value_counts()"
      ],
      "execution_count": null,
      "outputs": [
        {
          "output_type": "execute_result",
          "data": {
            "text/plain": [
              "0    6599\n",
              "1     220\n",
              "Name: Bankrupt?, dtype: int64"
            ]
          },
          "metadata": {},
          "execution_count": 24
        }
      ]
    },
    {
      "cell_type": "markdown",
      "metadata": {
        "id": "E6vInioB2cSu"
      },
      "source": [
        "9. Kita coba untuk melihat perbandingan jumlah variabel dengan menggunakan grafik"
      ]
    },
    {
      "cell_type": "code",
      "metadata": {
        "colab": {
          "base_uri": "https://localhost:8080/",
          "height": 313
        },
        "id": "LGg0vYKX94r4",
        "outputId": "86d3c13b-3676-4c53-d81e-6d1fdaa4c487"
      },
      "source": [
        "sns.countplot(x=df['Bankrupt?'])\n",
        "plt.title('Target feature - Bankrupt?')"
      ],
      "execution_count": null,
      "outputs": [
        {
          "output_type": "execute_result",
          "data": {
            "text/plain": [
              "Text(0.5, 1.0, 'Target feature - Bankrupt?')"
            ]
          },
          "metadata": {},
          "execution_count": 25
        },
        {
          "output_type": "display_data",
          "data": {
            "image/png": "[encoded data removed]",
            "text/plain": [
              "<Figure size 432x288 with 1 Axes>"
            ]
          },
          "metadata": {
            "needs_background": "light"
          }
        }
      ]
    },
    {
      "cell_type": "markdown",
      "metadata": {
        "id": "fST8XbLy2yid"
      },
      "source": [
        "Total masing-masing variabel sangat tidak seimbang, hal ini sangat buruk bagi proses modeling kedepannya. Sehingga kita harus melakukan oversampling"
      ]
    },
    {
      "cell_type": "markdown",
      "metadata": {
        "id": "Xiw980AZvA_6"
      },
      "source": [
        "10. Melihat hubungan tiap fitur dengan Matrix korelasi"
      ]
    },
    {
      "cell_type": "code",
      "metadata": {
        "colab": {
          "base_uri": "https://localhost:8080/",
          "height": 1000
        },
        "id": "VoWX_7ARbjry",
        "outputId": "b66aa320-43e6-446d-916b-b0ad5ed56ea9"
      },
      "source": [
        "plt.figure(figsize=(17,17))\n",
        "sns.heatmap(df.corr(), annot=False, cmap='coolwarm')\n",
        "plt.show()"
      ],
      "execution_count": null,
      "outputs": [
        {
          "output_type": "display_data",
          "data": {
            "image/png": "[encoded data removed]",
            "text/plain": [
              "<Figure size 1224x1224 with 2 Axes>"
            ]
          },
          "metadata": {
            "needs_background": "light"
          }
        }
      ]
    },
    {
      "cell_type": "markdown",
      "metadata": {
        "id": "-Bj_o6fP3WZQ"
      },
      "source": [
        "Kita dapat dengan jelas melihat bahwa beberapa fitur sangat terkait satu sama lain. kita akan coma mereduksinya."
      ]
    },
    {
      "cell_type": "markdown",
      "metadata": {
        "id": "Xf662GwTvJVC"
      },
      "source": [
        "11. kita akan memisahkan fitur dependent dan fitur independent, dimana fitur bangkrup? sebagai fitur target atau independent"
      ]
    },
    {
      "cell_type": "code",
      "metadata": {
        "id": "w82rFnBx99LP"
      },
      "source": [
        "X=df.drop('Bankrupt?', axis=1) #X sebagai fitur dependent, sedangkan y debagai independent\n",
        "y=df['Bankrupt?']\n"
      ],
      "execution_count": null,
      "outputs": []
    },
    {
      "cell_type": "markdown",
      "metadata": {
        "id": "tTAtBkk3vR9I"
      },
      "source": [
        "12. Oversampling dengan SMOTE\n",
        "\n",
        "Synthetic Minority Oversampling Technique(SMOTE) adalah salah satu metode oversampling yang bekerja dengan meningkatkan jumlah kelas positif melalui replikasi data secara acak, sehingga jumlah data positif sama dengan data negatif. \n",
        "\n",
        "Dataset mengandung target value yang tidak seimbang, dimana perbandingan jumlah perusahaan yang bertahan dengan perusahaan yang bangrut, sangat tidak berimbang (6599 berbanding 220) sehingga akan mengurangi kualitas dari modelling. \n"
      ]
    },
    {
      "cell_type": "code",
      "metadata": {
        "id": "Pg6qzf3O98DE"
      },
      "source": [
        "from imblearn.over_sampling import SMOTE"
      ],
      "execution_count": null,
      "outputs": []
    },
    {
      "cell_type": "markdown",
      "metadata": {
        "id": "VGtnEp7u4K9W"
      },
      "source": [
        "Seperti yang kita ketahui sebelumnya, kita ketahui bahwa Target Value dangat tidak seimbang, sehingga perlu kita perlu menyeimbangkan Target value dengan menggunakan SMOTE."
      ]
    },
    {
      "cell_type": "code",
      "metadata": {
        "id": "XNIwZnpc9_dM",
        "colab": {
          "base_uri": "https://localhost:8080/"
        },
        "outputId": "e4a8367d-b3b6-44ea-cfb1-8f4539dc5abe"
      },
      "source": [
        "oversample = SMOTE()\n",
        "X,y=oversample.fit_resample(X,y)"
      ],
      "execution_count": null,
      "outputs": [
        {
          "output_type": "stream",
          "name": "stderr",
          "text": [
            "/usr/local/lib/python3.7/dist-packages/sklearn/utils/deprecation.py:87: FutureWarning: Function safe_indexing is deprecated; safe_indexing is deprecated in version 0.22 and will be removed in version 0.24.\n",
            "  warnings.warn(msg, category=FutureWarning)\n"
          ]
        }
      ]
    },
    {
      "cell_type": "markdown",
      "metadata": {
        "id": "S3jyTtFD456f"
      },
      "source": [
        "Mari kita lihat perbandingan jumlah target value"
      ]
    },
    {
      "cell_type": "code",
      "metadata": {
        "colab": {
          "base_uri": "https://localhost:8080/",
          "height": 283
        },
        "id": "dvnrW6Da-B-w",
        "outputId": "ba31a8a6-4f2f-4bbb-fb63-27c21e45a985"
      },
      "source": [
        "sns.countplot(x=y)"
      ],
      "execution_count": null,
      "outputs": [
        {
          "output_type": "execute_result",
          "data": {
            "text/plain": [
              "<matplotlib.axes._subplots.AxesSubplot at 0x7fdb515a3150>"
            ]
          },
          "metadata": {},
          "execution_count": 30
        },
        {
          "output_type": "display_data",
          "data": {
            "image/png": "[encoded data removed]",
            "text/plain": [
              "<Figure size 432x288 with 1 Axes>"
            ]
          },
          "metadata": {
            "needs_background": "light"
          }
        }
      ]
    },
    {
      "cell_type": "markdown",
      "metadata": {
        "id": "WTQUucRF5DRF"
      },
      "source": [
        "Dapat kita ketahui bahwa jumlah masing masing target value telah seimbang"
      ]
    },
    {
      "cell_type": "markdown",
      "metadata": {
        "id": "jFvUU6l3vnQB"
      },
      "source": [
        "13. Selanjutnya kita dapat melakukan Spliting data dengan menggunakan train_test_split yang terdapat dalam sklearn"
      ]
    },
    {
      "cell_type": "code",
      "metadata": {
        "id": "6cH-JjY7dLVc"
      },
      "source": [
        "from sklearn.model_selection import train_test_split\n",
        "X_train, X_test, y_train, y_test = train_test_split(X,y, random_state=97, test_size=0.2)"
      ],
      "execution_count": null,
      "outputs": []
    },
    {
      "cell_type": "markdown",
      "metadata": {
        "id": "-_D1rW7SvlXk"
      },
      "source": [
        "14. Selanjutnya adalah melakukan standarisasi variabel"
      ]
    },
    {
      "cell_type": "code",
      "metadata": {
        "id": "PeHiANzrdH6d"
      },
      "source": [
        "from sklearn.preprocessing import StandardScaler\n",
        "\n",
        "Scaled_X_train = StandardScaler().fit_transform(X_train)\n",
        "Scaled_X_test = StandardScaler().fit_transform(X_test)"
      ],
      "execution_count": null,
      "outputs": []
    },
    {
      "cell_type": "markdown",
      "metadata": {
        "id": "EFi_sM_p5l52"
      },
      "source": [
        "Melihat dimensi dari hasil splitting dataset"
      ]
    },
    {
      "cell_type": "code",
      "metadata": {
        "colab": {
          "base_uri": "https://localhost:8080/"
        },
        "id": "Vg5Sx1I9cDMH",
        "outputId": "af302290-945d-4ef3-abbd-da07d2181b8f"
      },
      "source": [
        "print(X_train.shape,y_train.shape)\n",
        "print(X_test.shape,y_test.shape)"
      ],
      "execution_count": null,
      "outputs": [
        {
          "output_type": "stream",
          "name": "stdout",
          "text": [
            "(10558, 95) (10558,)\n",
            "(2640, 95) (2640,)\n"
          ]
        }
      ]
    },
    {
      "cell_type": "markdown",
      "metadata": {
        "id": "9Ks51gfcwma2"
      },
      "source": [
        "15. Reduksi dimensi dengan menggunakan teknik PCA"
      ]
    },
    {
      "cell_type": "markdown",
      "metadata": {
        "id": "AHt0e9qK6pDV"
      },
      "source": [
        "Teknik reduksi (pengurangan) dimensi adalah prosedur yang mengurangi jumlah fitur dengan tetap mempertahankan informasi pada data. Teknik pengurangan dimensi yang paling populer adalah Principal Component Analysis atau disingkat menjadi PCA. Ia adalah teknik reduksi untuk mengubah fitur asli menjadi kumpulan fitur lain yang tidak berkorelasi linier, disebut komponen utama (PC).\n",
        "\n",
        "Dataset yang diolah, memiliki jumlah feature yang terlalu banyak, yaitu sebesar 96 fitur. Padahal, banyak fitur yang memiliki tingkat korelasi yang cukup tinggi. Jumlah fitur yang terlalu banyak akan menghambat proses modelling dari dataset. Sehingga kita perlu untuk mereduksi dimensidari dataset dengan menggunakan Teknik PCA.\n"
      ]
    },
    {
      "cell_type": "code",
      "metadata": {
        "id": "vvKO3WaUflQU"
      },
      "source": [
        "from sklearn.decomposition import PCA\n",
        "pc = PCA(n_components=95)\n",
        "X_train_pc=pc.fit_transform(Scaled_X_train)\n",
        "PC_df_train=pd.DataFrame(X_train_pc,columns=['PC_' +str(i) for i in range(1,pc.n_components_+1)])"
      ],
      "execution_count": null,
      "outputs": []
    },
    {
      "cell_type": "markdown",
      "metadata": {
        "id": "AhAxAtX67I6R"
      },
      "source": [
        "kita panggil plt.show() untuk menampilkan hasil visualisasi"
      ]
    },
    {
      "cell_type": "code",
      "metadata": {
        "colab": {
          "base_uri": "https://localhost:8080/",
          "height": 425
        },
        "id": "504Bt97EfYeZ",
        "outputId": "feea45b9-7c69-49d4-fde4-4610cf87aeca"
      },
      "source": [
        "plt.figure(figsize=(12,6))\n",
        "plt.plot(PC_df_train.std())\n",
        "plt.title('Scree Plot - PCA components')\n",
        "plt.xlabel('Principal Component')\n",
        "plt.xticks(rotation=90)\n",
        "plt.ylabel('Standard deviation')\n",
        "plt.show()"
      ],
      "execution_count": null,
      "outputs": [
        {
          "output_type": "display_data",
          "data": {
            "image/png": "[encoded data removed]",
            "text/plain": [
              "<Figure size 864x432 with 1 Axes>"
            ]
          },
          "metadata": {
            "needs_background": "light"
          }
        }
      ]
    },
    {
      "cell_type": "markdown",
      "metadata": {
        "id": "3Nv1b4QNw37C"
      },
      "source": [
        "kita ketahui bahwa terbentuk siku pada PC_15, jadi kita dapat menggunakan 10 principal components untuk analisis"
      ]
    },
    {
      "cell_type": "code",
      "metadata": {
        "id": "Oq0leGAAhD4v"
      },
      "source": [
        "pc = PCA(n_components=15)\n",
        "X_train_pc=pc.fit_transform(Scaled_X_train)\n",
        "PC_df_train=pd.DataFrame(X_train_pc,columns=['PC_' +str(i) for i in range(1,pc.n_components_+1)])\n",
        "\n",
        "X_test_pc = pc.transform(Scaled_X_test)\n",
        "PC_df_test=pd.DataFrame(X_test_pc,columns=['PC_' +str(i) for i in range(1,pc.n_components_+1)])"
      ],
      "execution_count": null,
      "outputs": []
    },
    {
      "cell_type": "markdown",
      "metadata": {
        "id": "uJrvaD3sMqYf"
      },
      "source": [
        "### **Modeling**\n",
        "\n"
      ]
    },
    {
      "cell_type": "markdown",
      "metadata": {
        "id": "NlzpYvVDSPcb"
      },
      "source": [
        "Pada tahap ini, kita akan mengembangkan model machine learning dengan tiga algoritma. Kemudian, kita akan mengevaluasi performa masing-masing algoritma dan menentukan algoritma mana yang memberikan hasil prediksi terbaik. Ketiga algoritma yang akan kita kembangkan, antara lain:\n",
        "\n",
        "* Logistik regression\n",
        "*  Support Vector Machine\n",
        "*Random Forest"
      ]
    },
    {
      "cell_type": "markdown",
      "metadata": {
        "id": "wK090ZJwxAnC"
      },
      "source": [
        "16. Selanjutnya adalah langkah Membuat Model. Mari kita lihat dimensi dari data train kita."
      ]
    },
    {
      "cell_type": "code",
      "metadata": {
        "colab": {
          "base_uri": "https://localhost:8080/"
        },
        "id": "jh3FGdutiOTm",
        "outputId": "db93f8af-d70b-4ee7-8059-8778d1d92e07"
      },
      "source": [
        "print(PC_df_train.shape)\n",
        "y_train.shape"
      ],
      "execution_count": null,
      "outputs": [
        {
          "output_type": "stream",
          "name": "stdout",
          "text": [
            "(10558, 15)\n"
          ]
        },
        {
          "output_type": "execute_result",
          "data": {
            "text/plain": [
              "(10558,)"
            ]
          },
          "metadata": {},
          "execution_count": 37
        }
      ]
    },
    {
      "cell_type": "markdown",
      "metadata": {
        "id": "weO8c9q6xEMM"
      },
      "source": [
        "17. Logistic Regression Model"
      ]
    },
    {
      "cell_type": "markdown",
      "metadata": {
        "id": "I0KRH87E8BdG"
      },
      "source": [
        "Logistik regresion adalah metode klasifikasi pembelajaran mesin dan mencoba memprediksi variabel dependen kategoris yang dikodekan sebagai biner (1 – yes, berhasil dll., 0 – no, tidak berhasil, dll.). \n",
        "\n",
        "Model regresi logistik termasuk salah satu model yang sering dipakai praktisi machine learning. Regresi logistik adalah sebuah pendekatan untuk membuat model prediksi seperti halnya regresi linear atau yang biasa disebut dengan istilah Ordinary Least Squares (OLS) regression. Perbedaannya adalah pada regresi logistik, peneliti memprediksi variabel terikat yang berskala dikotomi. Skala dikotomi yang dimaksud adalah skala data nominal dengan dua kategori, misalnya: ya dan tidak, baik dan buruk, atau tinggi dan rendah. Dalam kasus nyata misalnya kita hendak memprediksi apakah individu memiliki kartu kredit ataukah tidak, berdasarkan tingkat pendapatan mereka, kita akan menggunakan regresi logistik untuk menganalisisnya. Data kepemilikan kartu kredit berbentuk kategori (memiliki dan tidak memiliki). Contoh lain, misalnya kita hendak memprediksi peranan sikap terhadap perpolitikan terhadap perilaku dalam pemilu yang dibagi menjadi dua (golput dan tidak golput).\n"
      ]
    },
    {
      "cell_type": "code",
      "metadata": {
        "id": "6AzpU7nMiSIY"
      },
      "source": [
        "from sklearn.linear_model import LogisticRegression #import classifier\n",
        "classifier = LogisticRegression()\n",
        "classifier.fit(PC_df_train,y_train)\n",
        "y_lr=classifier.predict(X_test_pc)"
      ],
      "execution_count": null,
      "outputs": []
    },
    {
      "cell_type": "markdown",
      "metadata": {
        "id": "lUN998J175jP"
      },
      "source": [
        "Mari kita tampilkan matriks evaluasi dari model yang telah kita buat"
      ]
    },
    {
      "cell_type": "code",
      "metadata": {
        "colab": {
          "base_uri": "https://localhost:8080/"
        },
        "id": "49BXFqJ4xfxL",
        "outputId": "5ededa3d-b05e-4434-d159-b429f3db190b"
      },
      "source": [
        "print('Confusion Matrix \\n',confusion_matrix(y_lr,y_test))\n",
        "print()\n",
        "print('Accuracy Score \\n', accuracy_score(y_lr,y_test))\n",
        "print()\n",
        "print('Classification Report \\n',classification_report(y_lr,y_test))"
      ],
      "execution_count": null,
      "outputs": [
        {
          "output_type": "stream",
          "name": "stdout",
          "text": [
            "Confusion Matrix \n",
            " [[1141  153]\n",
            " [ 178 1168]]\n",
            "\n",
            "Accuracy Score \n",
            " 0.8746212121212121\n",
            "\n",
            "Classification Report \n",
            "               precision    recall  f1-score   support\n",
            "\n",
            "           0       0.87      0.88      0.87      1294\n",
            "           1       0.88      0.87      0.88      1346\n",
            "\n",
            "    accuracy                           0.87      2640\n",
            "   macro avg       0.87      0.87      0.87      2640\n",
            "weighted avg       0.87      0.87      0.87      2640\n",
            "\n"
          ]
        }
      ]
    },
    {
      "cell_type": "markdown",
      "metadata": {
        "id": "bl0McvmZiT0i"
      },
      "source": [
        "18. SVC Model"
      ]
    },
    {
      "cell_type": "markdown",
      "metadata": {
        "id": "IJjNmzy58XUV"
      },
      "source": [
        "*Support Vector Machine* (SVM) merupakan salah satu metode dalam supervised learning yang biasanya digunakan untuk klasifikasi (seperti Support Vector Classification) dan regresi (Support Vector Regression). Dalam pemodelan klasifikasi, SVM memiliki konsep yang lebih matang dan lebih jelas secara matematis dibandingkan dengan teknik-teknik klasifikasi lainnya. SVM juga dapat mengatasi masalah klasifikasi dan regresi dengan linear maupun non linear.\n",
        "\n",
        "Cara kerja dari metode Support Vector Machine khususnya pada masalah non-linear adalah dengan memasukkan konsep kernel ke dalam ruang berdimensi tinggi. Tujuannya adalah untuk mencari hyperplane atau pemisah yang dapat memaksimalkan jarak (margin) antar kelas data. Untuk menemukan hyperplane terbaik, kita dapat mengukur margin kemudian mencari titik maksimalnya. Proses pencarian hyperplane yang terbaik ini adalah ini dari metode Support Vector Machine ini.\n"
      ]
    },
    {
      "cell_type": "code",
      "metadata": {
        "id": "TL7k2gj0iaNr"
      },
      "source": [
        "from sklearn.svm import SVC #Import classifier\n",
        "classifier = SVC()\n",
        "classifier.fit(pc.fit_transform(X_train_pc),y_train)\n",
        "y_svc=classifier.predict(X_test_pc)"
      ],
      "execution_count": null,
      "outputs": []
    },
    {
      "cell_type": "markdown",
      "metadata": {
        "id": "4cbQQd__8lhF"
      },
      "source": [
        "Mari kita tampilkan matriks evaluasi dari model yang telah kita buat"
      ]
    },
    {
      "cell_type": "code",
      "metadata": {
        "colab": {
          "base_uri": "https://localhost:8080/"
        },
        "id": "7wFb7x5VihOg",
        "outputId": "16971c8c-c9d4-4750-b0cb-c741eb2a7125"
      },
      "source": [
        "print('Confusion Matrix \\n',confusion_matrix(y_svc,y_test))\n",
        "print()\n",
        "print('Accuracy Score \\n', accuracy_score(y_svc,y_test))\n",
        "print()\n",
        "print('Classification Report \\n',classification_report(y_svc,y_test))"
      ],
      "execution_count": null,
      "outputs": [
        {
          "output_type": "stream",
          "name": "stdout",
          "text": [
            "Confusion Matrix \n",
            " [[1166   96]\n",
            " [ 153 1225]]\n",
            "\n",
            "Accuracy Score \n",
            " 0.9056818181818181\n",
            "\n",
            "Classification Report \n",
            "               precision    recall  f1-score   support\n",
            "\n",
            "           0       0.88      0.92      0.90      1262\n",
            "           1       0.93      0.89      0.91      1378\n",
            "\n",
            "    accuracy                           0.91      2640\n",
            "   macro avg       0.91      0.91      0.91      2640\n",
            "weighted avg       0.91      0.91      0.91      2640\n",
            "\n"
          ]
        }
      ]
    },
    {
      "cell_type": "markdown",
      "metadata": {
        "id": "eea0sDhYyh1R"
      },
      "source": [
        "19. Random Forest Model"
      ]
    },
    {
      "cell_type": "markdown",
      "metadata": {
        "id": "T_SAxqik8sG3"
      },
      "source": [
        "Random Forest adalah salah satu metode berbasis klasifikasi dan regresi dimana terdapat proses agregasi decision tree. Oleh karena itu, prinsip dasar random forest mirip dengan decision tree. Masing-masing decision tree akan menghasilkan output yang bisa saja berbeda-beda. Nah, random forest ini akan melakukan voting untuk menentukan hasil mayoritas dari semua decision tree. Bedanya, random forest akan memberikan output berupa mayoritas hasil dari semua decision tree. Algoritma ini memberikan akurasi yang bagus dalam klasifikasi, dapat menangani data training yang jumlahnya besar, dan juga efektif untuk mengatasi data yang tidak lengkap."
      ]
    },
    {
      "cell_type": "code",
      "metadata": {
        "id": "QDBuOgqoike1"
      },
      "source": [
        "from sklearn.ensemble import RandomForestClassifier\n",
        "classifier = RandomForestClassifier()\n",
        "classifier.fit(X_train_pc,y_train)\n",
        "y_rfc=classifier.predict(X_test_pc)"
      ],
      "execution_count": null,
      "outputs": []
    },
    {
      "cell_type": "markdown",
      "metadata": {
        "id": "veW7QRR58msk"
      },
      "source": [
        "Mari kita tampilkan matriks evaluasi dari model yang telah kita buat"
      ]
    },
    {
      "cell_type": "code",
      "metadata": {
        "colab": {
          "base_uri": "https://localhost:8080/"
        },
        "id": "0kylDyJIipAg",
        "outputId": "8de61a7c-decc-4033-f9f1-05c3a89bd9ad"
      },
      "source": [
        "print('Confusion Matrix \\n',confusion_matrix(y_rfc,y_test))\n",
        "print()\n",
        "print('Accuracy Score \\n', accuracy_score(y_rfc,y_test))\n",
        "print()\n",
        "print('Classification Report \\n',classification_report(y_rfc,y_test))"
      ],
      "execution_count": null,
      "outputs": [
        {
          "output_type": "stream",
          "name": "stdout",
          "text": [
            "Confusion Matrix \n",
            " [[1234   47]\n",
            " [  85 1274]]\n",
            "\n",
            "Accuracy Score \n",
            " 0.95\n",
            "\n",
            "Classification Report \n",
            "               precision    recall  f1-score   support\n",
            "\n",
            "           0       0.94      0.96      0.95      1281\n",
            "           1       0.96      0.94      0.95      1359\n",
            "\n",
            "    accuracy                           0.95      2640\n",
            "   macro avg       0.95      0.95      0.95      2640\n",
            "weighted avg       0.95      0.95      0.95      2640\n",
            "\n"
          ]
        }
      ]
    },
    {
      "cell_type": "markdown",
      "metadata": {
        "id": "70zvs7OxPKWd"
      },
      "source": [
        "### EVALUATION"
      ]
    },
    {
      "cell_type": "markdown",
      "metadata": {
        "id": "BrpJ77IbPVuY"
      },
      "source": [
        "Pada matrix evaluasi, saya menggunakan beberapa parameter performa, yaitu F1, Recall, Precision, ROC AU Score, dan Accuracy.\n",
        "\n",
        "* Accuracy : Accuracy Merupakan rasio prediksi Benar (positif dan negatif) dengan keseluruhan data. Akurasi menjawab pertanyaan “Berapa persen model dapat memprediksi perusahaan yang bangkrut dan tidak bangkrut dari kesuluruhan data testing”.\n",
        "* Precission : Precission merupakan rasio prediksi benar positif dibandingkan dengan keseluruhan hasil yang diprediksi positf. Precission menjawab pertanyaan “Berapa persen perusahaan yang benar-benar bangkrut dari keseluruhan perusahaan yang diprediksi bangkrut?”\n",
        "* Recall (Sensitifitas): Recall merupakan rasio prediksi benar positif dibandingkan dengan keseluruhan data yang benar positif. Recall menjawab pertanyaan “Berapa persen perusahaan yang diprediksi bangkrut dibandingkan keseluruhan perusahaan yang sebenarnya Bangkrut”\n",
        "* F1 Score : F1 Score merupakan perbandingan rata-rata presisi dan recall yang dibobotkan\n",
        "* ROC Score : \n",
        "ROC (Receiver Operating Characteristics) adalah semacam alat ukur performance untuk classification problem dalam menentukan threshold dari suatu model.\n"
      ]
    },
    {
      "cell_type": "markdown",
      "metadata": {
        "id": "fak-Bbte80A1"
      },
      "source": [
        "20. Model Comparison"
      ]
    },
    {
      "cell_type": "markdown",
      "metadata": {
        "id": "_wmsNwqj84gF"
      },
      "source": [
        "Pada langkah ini, kita akan coba untuk melakukan komparasi dari masing-masing model yang telah kita buat. Kita akan menampilkan nilai F1, Accuracy, Recall, Precision, ROC AUC Score"
      ]
    },
    {
      "cell_type": "code",
      "metadata": {
        "colab": {
          "base_uri": "https://localhost:8080/",
          "height": 364
        },
        "id": "JeCC4Gc3jFke",
        "outputId": "41c7d863-e837-4e2b-cfe4-3ecda76300e6"
      },
      "source": [
        "lr_df = pd.DataFrame(data=[f1_score(y_test,y_lr),accuracy_score(y_test, y_lr), recall_score(y_test, y_lr), precision_score(y_test, y_lr), roc_auc_score(y_test, y_lr)], \n",
        "             columns=['Logistic Regression'], index=[\"F1\",\"Accuracy\", \"Recall\", \"Precision\", \"ROC AUC Score\"])\n",
        "rf_df = pd.DataFrame(data=[f1_score(y_test,y_rfc),accuracy_score(y_test, y_rfc), recall_score(y_test, y_rfc),precision_score(y_test, y_rfc), roc_auc_score(y_test, y_rfc)], \n",
        "             columns=['Random Forest'],index=[\"F1\",\"Accuracy\", \"Recall\", \"Precision\", \"ROC AUC Score\"])\n",
        "svc_df = pd.DataFrame(data=[f1_score(y_test,y_svc),accuracy_score(y_test, y_svc), recall_score(y_test, y_svc), precision_score(y_test, y_svc), roc_auc_score(y_test,y_svc)], \n",
        "             columns=['SVC'], index=[\"F1\",\"Accuracy\", \"Recall\", \"Precision\", \"ROC AUC Score\"])\n",
        "\n",
        "\n",
        "df_models = round(pd.concat([lr_df,rf_df,svc_df], axis=1),3)\n",
        "colors = [\"bisque\",\"ivory\",\"sandybrown\",\"steelblue\",\"lightsalmon\"]\n",
        "colormap = matplotlib.colors.LinearSegmentedColormap.from_list(\"\", colors)\n",
        "\n",
        "background_color = \"white\"\n",
        "\n",
        "fig = plt.figure(figsize=(18,26)) # create figure\n",
        "gs = fig.add_gridspec(4, 2)\n",
        "gs.update(wspace=0.1, hspace=0.5)\n",
        "ax0 = fig.add_subplot(gs[0, :])\n",
        "\n",
        "sns.heatmap(df_models.T, cmap=colormap,annot=True,fmt=\".1%\",vmin=0,vmax=0.95, linewidths=2.5,cbar=False,ax=ax0,annot_kws={\"fontsize\":16})\n",
        "fig.patch.set_facecolor(background_color) # figure background color\n",
        "ax0.set_facecolor(background_color) \n",
        "\n",
        "ax0.text(0,-0.5,'Model Comparison',fontsize=20,fontweight='bold',fontfamily='serif')\n",
        "plt.show()"
      ],
      "execution_count": null,
      "outputs": [
        {
          "output_type": "display_data",
          "data": {
            "image/png": "[encoded data removed]",
            "text/plain": [
              "<Figure size 1296x1872 with 1 Axes>"
            ]
          },
          "metadata": {}
        }
      ]
    },
    {
      "cell_type": "markdown",
      "metadata": {
        "id": "EuV9KhxS9LNl"
      },
      "source": [
        "Dari perbandingan diatas, dapat kita ambil kesimpulan bahwa metode Random Forest memiliki nilai akurasi, F1, Recall, Precission, dan ROC AUC Score tertinggi.sehingga dari ketiga model diatas, Random forest adalah metode terbaik untuk permaslaahan ini."
      ]
    }
  ]
}
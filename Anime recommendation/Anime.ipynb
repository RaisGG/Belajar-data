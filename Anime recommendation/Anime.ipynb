{
 "cells": [
  {
   "cell_type": "markdown",
   "id": "5399e09c",
   "metadata": {},
   "source": [
    "# Exploratory Data Analysis (EDA):"
   ]
  },
  {
   "cell_type": "code",
   "execution_count": 41,
   "id": "11b8fbc4",
   "metadata": {},
   "outputs": [
    {
     "name": "stdout",
     "output_type": "stream",
     "text": [
      "           anime_id        rating       members\n",
      "count  12294.000000  12064.000000  1.229400e+04\n",
      "mean   14058.221653      6.473902  1.807134e+04\n",
      "std    11455.294701      1.026746  5.482068e+04\n",
      "min        1.000000      1.670000  5.000000e+00\n",
      "25%     3484.250000      5.880000  2.250000e+02\n",
      "50%    10260.500000      6.570000  1.550000e+03\n",
      "75%    24794.500000      7.180000  9.437000e+03\n",
      "max    34527.000000     10.000000  1.013917e+06\n"
     ]
    }
   ],
   "source": [
    "import pandas as pd\n",
    "import matplotlib.pyplot as plt\n",
    "\n",
    "# Load dataset\n",
    "anime_data = pd.read_csv(\"anime.csv\")\n",
    "rating_data = pd.read_csv(\"rating.csv\")\n",
    "# Summary statistics\n",
    "print(anime_data.describe())"
   ]
  },
  {
   "cell_type": "code",
   "execution_count": 46,
   "id": "49b2e58f",
   "metadata": {},
   "outputs": [
    {
     "name": "stdout",
     "output_type": "stream",
     "text": [
      "<class 'pandas.core.frame.DataFrame'>\n",
      "RangeIndex: 7813737 entries, 0 to 7813736\n",
      "Data columns (total 3 columns):\n",
      " #   Column    Dtype\n",
      "---  ------    -----\n",
      " 0   user_id   int64\n",
      " 1   anime_id  int64\n",
      " 2   rating    int64\n",
      "dtypes: int64(3)\n",
      "memory usage: 178.8 MB\n"
     ]
    }
   ],
   "source": [
    "rating_data.info()"
   ]
  },
  {
   "cell_type": "code",
   "execution_count": 42,
   "id": "583ed17f",
   "metadata": {},
   "outputs": [
    {
     "name": "stdout",
     "output_type": "stream",
     "text": [
      "<class 'pandas.core.frame.DataFrame'>\n",
      "RangeIndex: 12294 entries, 0 to 12293\n",
      "Data columns (total 7 columns):\n",
      " #   Column    Non-Null Count  Dtype  \n",
      "---  ------    --------------  -----  \n",
      " 0   anime_id  12294 non-null  int64  \n",
      " 1   name      12294 non-null  object \n",
      " 2   genre     12232 non-null  object \n",
      " 3   type      12269 non-null  object \n",
      " 4   episodes  12294 non-null  object \n",
      " 5   rating    12064 non-null  float64\n",
      " 6   members   12294 non-null  int64  \n",
      "dtypes: float64(1), int64(2), object(4)\n",
      "memory usage: 672.5+ KB\n"
     ]
    }
   ],
   "source": [
    "anime_data.info()"
   ]
  },
  {
   "cell_type": "code",
   "execution_count": 2,
   "id": "46ae70ee",
   "metadata": {
    "scrolled": true
   },
   "outputs": [
    {
     "name": "stdout",
     "output_type": "stream",
     "text": [
      "anime_id      0\n",
      "name          0\n",
      "genre        62\n",
      "type         25\n",
      "episodes      0\n",
      "rating      230\n",
      "members       0\n",
      "dtype: int64\n"
     ]
    }
   ],
   "source": [
    "# Menampilkan informasi mengenai nilai null pada setiap kolom\n",
    "print(anime_data.isnull().sum())"
   ]
  },
  {
   "cell_type": "code",
   "execution_count": 47,
   "id": "85f5ab51",
   "metadata": {},
   "outputs": [
    {
     "name": "stdout",
     "output_type": "stream",
     "text": [
      "user_id     0\n",
      "anime_id    0\n",
      "rating      0\n",
      "dtype: int64\n"
     ]
    }
   ],
   "source": [
    "# Menampilkan informasi mengenai nilai null pada setiap kolom\n",
    "print(rating_data.isnull().sum())"
   ]
  },
  {
   "cell_type": "code",
   "execution_count": 3,
   "id": "5d85cd74",
   "metadata": {},
   "outputs": [
    {
     "name": "stdout",
     "output_type": "stream",
     "text": [
      "anime_id      0\n",
      "name          0\n",
      "genre        62\n",
      "type         25\n",
      "episodes      0\n",
      "rating      230\n",
      "members       0\n",
      "dtype: int64\n"
     ]
    }
   ],
   "source": [
    "# Menampilkan informasi mengenai nilai NaN pada setiap kolom\n",
    "print(anime_data.isna().sum())"
   ]
  },
  {
   "cell_type": "code",
   "execution_count": 49,
   "id": "85ecf19c",
   "metadata": {},
   "outputs": [
    {
     "name": "stdout",
     "output_type": "stream",
     "text": [
      "user_id     0\n",
      "anime_id    0\n",
      "rating      0\n",
      "dtype: int64\n"
     ]
    }
   ],
   "source": [
    "# Menampilkan informasi mengenai nilai NaN pada setiap kolom\n",
    "print(rating_data.isna().sum())"
   ]
  },
  {
   "cell_type": "code",
   "execution_count": 4,
   "id": "143c0af7",
   "metadata": {},
   "outputs": [
    {
     "data": {
      "image/png": "[encoded data removed]",
      "text/plain": [
       "<Figure size 640x480 with 1 Axes>"
      ]
     },
     "metadata": {},
     "output_type": "display_data"
    }
   ],
   "source": [
    "# Distribution of ratings\n",
    "plt.hist(anime_data[\"rating\"], bins=10)\n",
    "plt.xlabel(\"Rating\")\n",
    "plt.ylabel(\"Count\")\n",
    "plt.title(\"Distribution of Anime Ratings\")\n",
    "plt.show()"
   ]
  },
  {
   "cell_type": "code",
   "execution_count": 5,
   "id": "0169b1d0",
   "metadata": {},
   "outputs": [
    {
     "data": {
      "text/html": [
       "<div>\n",
       "<style scoped>\n",
       "    .dataframe tbody tr th:only-of-type {\n",
       "        vertical-align: middle;\n",
       "    }\n",
       "\n",
       "    .dataframe tbody tr th {\n",
       "        vertical-align: top;\n",
       "    }\n",
       "\n",
       "    .dataframe thead th {\n",
       "        text-align: right;\n",
       "    }\n",
       "</style>\n",
       "<table border=\"1\" class=\"dataframe\">\n",
       "  <thead>\n",
       "    <tr style=\"text-align: right;\">\n",
       "      <th></th>\n",
       "      <th>Number of rating</th>\n",
       "      <th>Count</th>\n",
       "    </tr>\n",
       "  </thead>\n",
       "  <tbody>\n",
       "    <tr>\n",
       "      <th>0</th>\n",
       "      <td>6.00</td>\n",
       "      <td>141</td>\n",
       "    </tr>\n",
       "    <tr>\n",
       "      <th>1</th>\n",
       "      <td>7.00</td>\n",
       "      <td>99</td>\n",
       "    </tr>\n",
       "    <tr>\n",
       "      <th>2</th>\n",
       "      <td>6.50</td>\n",
       "      <td>90</td>\n",
       "    </tr>\n",
       "    <tr>\n",
       "      <th>3</th>\n",
       "      <td>6.25</td>\n",
       "      <td>84</td>\n",
       "    </tr>\n",
       "    <tr>\n",
       "      <th>4</th>\n",
       "      <td>5.00</td>\n",
       "      <td>76</td>\n",
       "    </tr>\n",
       "    <tr>\n",
       "      <th>5</th>\n",
       "      <td>6.75</td>\n",
       "      <td>72</td>\n",
       "    </tr>\n",
       "    <tr>\n",
       "      <th>6</th>\n",
       "      <td>6.67</td>\n",
       "      <td>68</td>\n",
       "    </tr>\n",
       "    <tr>\n",
       "      <th>7</th>\n",
       "      <td>5.67</td>\n",
       "      <td>67</td>\n",
       "    </tr>\n",
       "    <tr>\n",
       "      <th>8</th>\n",
       "      <td>6.38</td>\n",
       "      <td>67</td>\n",
       "    </tr>\n",
       "    <tr>\n",
       "      <th>9</th>\n",
       "      <td>6.80</td>\n",
       "      <td>67</td>\n",
       "    </tr>\n",
       "  </tbody>\n",
       "</table>\n",
       "</div>"
      ],
      "text/plain": [
       "   Number of rating  Count\n",
       "0              6.00    141\n",
       "1              7.00     99\n",
       "2              6.50     90\n",
       "3              6.25     84\n",
       "4              5.00     76\n",
       "5              6.75     72\n",
       "6              6.67     68\n",
       "7              5.67     67\n",
       "8              6.38     67\n",
       "9              6.80     67"
      ]
     },
     "execution_count": 5,
     "metadata": {},
     "output_type": "execute_result"
    }
   ],
   "source": [
    "# Menghitung frekuensi masing-masing jumlah episode\n",
    "rating_counts = anime_data[\"rating\"].value_counts().reset_index()\n",
    "rating_counts.columns = [\"Number of rating\", \"Count\"]\n",
    "\n",
    "# Menampilkan data dalam bentuk tabel\n",
    "rating_counts.head(10)"
   ]
  },
  {
   "cell_type": "code",
   "execution_count": 6,
   "id": "690573e6",
   "metadata": {},
   "outputs": [
    {
     "data": {
      "image/png": "[encoded data removed]",
      "text/plain": [
       "<Figure size 640x480 with 1 Axes>"
      ]
     },
     "metadata": {},
     "output_type": "display_data"
    }
   ],
   "source": [
    "plt.hist(anime_data[\"episodes\"], bins=20, range=(0, 100))\n",
    "plt.xlabel(\"Number of Episodes\")\n",
    "plt.ylabel(\"Count\")\n",
    "plt.title(\"Distribution of Episode Counts\")\n",
    "plt.show()"
   ]
  },
  {
   "cell_type": "code",
   "execution_count": 7,
   "id": "238a5f5d",
   "metadata": {},
   "outputs": [
    {
     "data": {
      "text/html": [
       "<div>\n",
       "<style scoped>\n",
       "    .dataframe tbody tr th:only-of-type {\n",
       "        vertical-align: middle;\n",
       "    }\n",
       "\n",
       "    .dataframe tbody tr th {\n",
       "        vertical-align: top;\n",
       "    }\n",
       "\n",
       "    .dataframe thead th {\n",
       "        text-align: right;\n",
       "    }\n",
       "</style>\n",
       "<table border=\"1\" class=\"dataframe\">\n",
       "  <thead>\n",
       "    <tr style=\"text-align: right;\">\n",
       "      <th></th>\n",
       "      <th>Number of Episodes</th>\n",
       "      <th>Count</th>\n",
       "    </tr>\n",
       "  </thead>\n",
       "  <tbody>\n",
       "    <tr>\n",
       "      <th>0</th>\n",
       "      <td>1</td>\n",
       "      <td>5677</td>\n",
       "    </tr>\n",
       "    <tr>\n",
       "      <th>1</th>\n",
       "      <td>2</td>\n",
       "      <td>1076</td>\n",
       "    </tr>\n",
       "    <tr>\n",
       "      <th>2</th>\n",
       "      <td>12</td>\n",
       "      <td>816</td>\n",
       "    </tr>\n",
       "    <tr>\n",
       "      <th>3</th>\n",
       "      <td>13</td>\n",
       "      <td>572</td>\n",
       "    </tr>\n",
       "    <tr>\n",
       "      <th>4</th>\n",
       "      <td>26</td>\n",
       "      <td>514</td>\n",
       "    </tr>\n",
       "    <tr>\n",
       "      <th>5</th>\n",
       "      <td>3</td>\n",
       "      <td>505</td>\n",
       "    </tr>\n",
       "    <tr>\n",
       "      <th>6</th>\n",
       "      <td>Unknown</td>\n",
       "      <td>340</td>\n",
       "    </tr>\n",
       "    <tr>\n",
       "      <th>7</th>\n",
       "      <td>4</td>\n",
       "      <td>327</td>\n",
       "    </tr>\n",
       "    <tr>\n",
       "      <th>8</th>\n",
       "      <td>6</td>\n",
       "      <td>268</td>\n",
       "    </tr>\n",
       "    <tr>\n",
       "      <th>9</th>\n",
       "      <td>24</td>\n",
       "      <td>181</td>\n",
       "    </tr>\n",
       "  </tbody>\n",
       "</table>\n",
       "</div>"
      ],
      "text/plain": [
       "  Number of Episodes  Count\n",
       "0                  1   5677\n",
       "1                  2   1076\n",
       "2                 12    816\n",
       "3                 13    572\n",
       "4                 26    514\n",
       "5                  3    505\n",
       "6            Unknown    340\n",
       "7                  4    327\n",
       "8                  6    268\n",
       "9                 24    181"
      ]
     },
     "execution_count": 7,
     "metadata": {},
     "output_type": "execute_result"
    }
   ],
   "source": [
    "# Menghitung frekuensi masing-masing jumlah episode\n",
    "episode_counts = anime_data[\"episodes\"].value_counts().reset_index()\n",
    "episode_counts.columns = [\"Number of Episodes\", \"Count\"]\n",
    "\n",
    "# Menampilkan data dalam bentuk tabel\n",
    "episode_counts.head(10)"
   ]
  },
  {
   "cell_type": "code",
   "execution_count": 8,
   "id": "9a7bd076",
   "metadata": {},
   "outputs": [
    {
     "data": {
      "image/png": "[encoded data removed]",
      "text/plain": [
       "<Figure size 640x480 with 1 Axes>"
      ]
     },
     "metadata": {},
     "output_type": "display_data"
    }
   ],
   "source": [
    "# Count of anime types\n",
    "type_counts = anime_data[\"type\"].value_counts()\n",
    "plt.bar(type_counts.index, type_counts.values)\n",
    "plt.xlabel(\"Anime Type\")\n",
    "plt.ylabel(\"Count\")\n",
    "plt.title(\"Count of Anime Types\")\n",
    "plt.show()"
   ]
  },
  {
   "cell_type": "code",
   "execution_count": 9,
   "id": "26736e41",
   "metadata": {},
   "outputs": [
    {
     "data": {
      "text/html": [
       "<div>\n",
       "<style scoped>\n",
       "    .dataframe tbody tr th:only-of-type {\n",
       "        vertical-align: middle;\n",
       "    }\n",
       "\n",
       "    .dataframe tbody tr th {\n",
       "        vertical-align: top;\n",
       "    }\n",
       "\n",
       "    .dataframe thead th {\n",
       "        text-align: right;\n",
       "    }\n",
       "</style>\n",
       "<table border=\"1\" class=\"dataframe\">\n",
       "  <thead>\n",
       "    <tr style=\"text-align: right;\">\n",
       "      <th></th>\n",
       "      <th>Number of type</th>\n",
       "      <th>Count</th>\n",
       "    </tr>\n",
       "  </thead>\n",
       "  <tbody>\n",
       "    <tr>\n",
       "      <th>0</th>\n",
       "      <td>TV</td>\n",
       "      <td>3787</td>\n",
       "    </tr>\n",
       "    <tr>\n",
       "      <th>1</th>\n",
       "      <td>OVA</td>\n",
       "      <td>3311</td>\n",
       "    </tr>\n",
       "    <tr>\n",
       "      <th>2</th>\n",
       "      <td>Movie</td>\n",
       "      <td>2348</td>\n",
       "    </tr>\n",
       "    <tr>\n",
       "      <th>3</th>\n",
       "      <td>Special</td>\n",
       "      <td>1676</td>\n",
       "    </tr>\n",
       "    <tr>\n",
       "      <th>4</th>\n",
       "      <td>ONA</td>\n",
       "      <td>659</td>\n",
       "    </tr>\n",
       "    <tr>\n",
       "      <th>5</th>\n",
       "      <td>Music</td>\n",
       "      <td>488</td>\n",
       "    </tr>\n",
       "  </tbody>\n",
       "</table>\n",
       "</div>"
      ],
      "text/plain": [
       "  Number of type  Count\n",
       "0             TV   3787\n",
       "1            OVA   3311\n",
       "2          Movie   2348\n",
       "3        Special   1676\n",
       "4            ONA    659\n",
       "5          Music    488"
      ]
     },
     "execution_count": 9,
     "metadata": {},
     "output_type": "execute_result"
    }
   ],
   "source": [
    "# Menghitung frekuensi masing-masing jumlah episode\n",
    "type_counts = anime_data[\"type\"].value_counts().reset_index()\n",
    "type_counts.columns = [\"Number of type\", \"Count\"]\n",
    "\n",
    "# Menampilkan data dalam bentuk tabel\n",
    "type_counts.head(10)"
   ]
  },
  {
   "cell_type": "code",
   "execution_count": 10,
   "id": "fe2d9847",
   "metadata": {},
   "outputs": [
    {
     "data": {
      "image/png": "[encoded data removed]",
      "text/plain": [
       "<Figure size 640x480 with 1 Axes>"
      ]
     },
     "metadata": {},
     "output_type": "display_data"
    }
   ],
   "source": [
    "# Genre analysis\n",
    "genres = anime_data[\"genre\"].str.split(\",\", expand=True).stack().value_counts()\n",
    "top_10_genres = genres.head(10)\n",
    "plt.bar(top_10_genres.index, top_10_genres.values)\n",
    "plt.xlabel(\"Genre\")\n",
    "plt.ylabel(\"Count\")\n",
    "plt.title(\"Top 10 Anime Genres\")\n",
    "plt.xticks(rotation=45)\n",
    "plt.show()"
   ]
  },
  {
   "cell_type": "markdown",
   "id": "edc7f4ce",
   "metadata": {},
   "source": [
    "# Data Preparation:"
   ]
  },
  {
   "cell_type": "code",
   "execution_count": 11,
   "id": "0b4ad32b",
   "metadata": {},
   "outputs": [],
   "source": [
    "from sklearn.preprocessing import OneHotEncoder, MinMaxScaler"
   ]
  },
  {
   "cell_type": "markdown",
   "id": "228c88ba",
   "metadata": {},
   "source": [
    "## Handling Missing Values:"
   ]
  },
  {
   "cell_type": "code",
   "execution_count": 12,
   "id": "65164d0e",
   "metadata": {},
   "outputs": [],
   "source": [
    "import numpy as np\n",
    "# Mengganti nilai \"Unknown\" dengan NaN\n",
    "anime_data.replace(\"Unknown\", 0, inplace=True)\n",
    "# Handling Missing Values\n",
    "anime_data.dropna(inplace=True)  # Drop rows with missing values\n"
   ]
  },
  {
   "cell_type": "code",
   "execution_count": 13,
   "id": "926e1d62",
   "metadata": {},
   "outputs": [
    {
     "name": "stdout",
     "output_type": "stream",
     "text": [
      "anime_id    0\n",
      "name        0\n",
      "genre       0\n",
      "type        0\n",
      "episodes    0\n",
      "rating      0\n",
      "members     0\n",
      "dtype: int64\n"
     ]
    }
   ],
   "source": [
    "# Menampilkan informasi mengenai nilai null pada setiap kolom\n",
    "print(anime_data.isnull().sum())"
   ]
  },
  {
   "cell_type": "code",
   "execution_count": 14,
   "id": "4f481787",
   "metadata": {},
   "outputs": [
    {
     "name": "stdout",
     "output_type": "stream",
     "text": [
      "anime_id    0\n",
      "name        0\n",
      "genre       0\n",
      "type        0\n",
      "episodes    0\n",
      "rating      0\n",
      "members     0\n",
      "dtype: int64\n"
     ]
    }
   ],
   "source": [
    "# Menampilkan informasi mengenai nilai NaN pada setiap kolom\n",
    "print(anime_data.isna().sum())"
   ]
  },
  {
   "cell_type": "markdown",
   "id": "64530d47",
   "metadata": {},
   "source": [
    "## Encoding Categorical Variables:\n"
   ]
  },
  {
   "cell_type": "code",
   "execution_count": 15,
   "id": "b329815a",
   "metadata": {},
   "outputs": [
    {
     "name": "stderr",
     "output_type": "stream",
     "text": [
      "C:\\Users\\TUF-RYZEN\\anaconda3\\lib\\site-packages\\sklearn\\utils\\deprecation.py:87: FutureWarning: Function get_feature_names is deprecated; get_feature_names is deprecated in 1.0 and will be removed in 1.2. Please use get_feature_names_out instead.\n",
      "  warnings.warn(msg, category=FutureWarning)\n"
     ]
    }
   ],
   "source": [
    "# Encoding Categorical Variables\n",
    "encoder = OneHotEncoder(sparse=False)\n",
    "encoded_features = encoder.fit_transform(anime_data[[\"type\"]])  # Encode \"type\" variable\n",
    "encoded_df = pd.DataFrame(encoded_features, columns=encoder.get_feature_names([\"type\"]))\n",
    "anime_data_encoded = pd.concat([anime_data.drop(\"type\", axis=1), encoded_df], axis=1)"
   ]
  },
  {
   "cell_type": "markdown",
   "id": "72e1a792",
   "metadata": {},
   "source": [
    "## Scaling Numerical Variables:"
   ]
  },
  {
   "cell_type": "code",
   "execution_count": 16,
   "id": "fc44ebf9",
   "metadata": {},
   "outputs": [],
   "source": [
    "# Scaling Numerical Variables\n",
    "scaler = MinMaxScaler()\n",
    "scaled_features = scaler.fit_transform(anime_data_encoded[[\"rating\", \"episodes\"]])  # Scale \"rating\" and \"episodes\" variables\n",
    "anime_data_scaled = pd.DataFrame(scaled_features, columns=[\"rating_scaled\", \"episodes_scaled\"])\n",
    "anime_data_final = pd.concat([anime_data_encoded.drop([\"rating\", \"episodes\"], axis=1), anime_data_scaled], axis=1)"
   ]
  },
  {
   "cell_type": "markdown",
   "id": "0d1d2403",
   "metadata": {},
   "source": [
    "## Data Integration:"
   ]
  },
  {
   "cell_type": "code",
   "execution_count": 44,
   "id": "4d45b044",
   "metadata": {},
   "outputs": [],
   "source": [
    "# Data Integration\n",
    "anime_data_merged = pd.merge(anime_data_final, rating_data, on=\"anime_id\")\n"
   ]
  },
  {
   "cell_type": "code",
   "execution_count": 40,
   "id": "6c0a368a",
   "metadata": {},
   "outputs": [],
   "source": [
    "# Dikarenakan jumlah data yang begitu besar, kita dapat mengggunakan sample data sebagai dataset\n",
    "sampled_data = anime_data_merged.sample(n=1000, random_state=42)"
   ]
  },
  {
   "cell_type": "code",
   "execution_count": 83,
   "id": "0cd02f62",
   "metadata": {},
   "outputs": [
    {
     "name": "stdout",
     "output_type": "stream",
     "text": [
      "   anime_id                              name  \\\n",
      "0   32281.0                    Kimi no Na wa.   \n",
      "1    5114.0  Fullmetal Alchemist: Brotherhood   \n",
      "2   28977.0                          Gintama°   \n",
      "3    9253.0                       Steins;Gate   \n",
      "4    9969.0                     Gintama&#039;   \n",
      "\n",
      "                                               genre   members  type_Movie  \\\n",
      "0               Drama, Romance, School, Supernatural  200630.0         1.0   \n",
      "1  Action, Adventure, Drama, Fantasy, Magic, Mili...  793665.0         0.0   \n",
      "2  Action, Comedy, Historical, Parody, Samurai, S...  114262.0         0.0   \n",
      "3                                   Sci-Fi, Thriller  673572.0         0.0   \n",
      "4  Action, Comedy, Historical, Parody, Samurai, S...  151266.0         0.0   \n",
      "\n",
      "   type_Music  type_ONA  type_OVA  type_Special  type_TV  rating_scaled  \\\n",
      "0         0.0       0.0       0.0           0.0      0.0       0.924370   \n",
      "1         0.0       0.0       0.0           0.0      1.0       0.911164   \n",
      "2         0.0       0.0       0.0           0.0      1.0       0.909964   \n",
      "3         0.0       0.0       0.0           0.0      1.0       0.900360   \n",
      "4         0.0       0.0       0.0           0.0      1.0       0.899160   \n",
      "\n",
      "   episodes_scaled  \n",
      "0         0.000550  \n",
      "1         0.035204  \n",
      "2         0.028053  \n",
      "3         0.013201  \n",
      "4         0.028053  \n"
     ]
    }
   ],
   "source": [
    "print(anime_data_final.head())"
   ]
  },
  {
   "cell_type": "code",
   "execution_count": 84,
   "id": "76ba2812",
   "metadata": {},
   "outputs": [
    {
     "name": "stdout",
     "output_type": "stream",
     "text": [
      "   anime_id            name                                 genre   members  \\\n",
      "0   32281.0  Kimi no Na wa.  Drama, Romance, School, Supernatural  200630.0   \n",
      "1   32281.0  Kimi no Na wa.  Drama, Romance, School, Supernatural  200630.0   \n",
      "2   32281.0  Kimi no Na wa.  Drama, Romance, School, Supernatural  200630.0   \n",
      "3   32281.0  Kimi no Na wa.  Drama, Romance, School, Supernatural  200630.0   \n",
      "4   32281.0  Kimi no Na wa.  Drama, Romance, School, Supernatural  200630.0   \n",
      "\n",
      "   type_Movie  type_Music  type_ONA  type_OVA  type_Special  type_TV  \\\n",
      "0         1.0         0.0       0.0       0.0           0.0      0.0   \n",
      "1         1.0         0.0       0.0       0.0           0.0      0.0   \n",
      "2         1.0         0.0       0.0       0.0           0.0      0.0   \n",
      "3         1.0         0.0       0.0       0.0           0.0      0.0   \n",
      "4         1.0         0.0       0.0       0.0           0.0      0.0   \n",
      "\n",
      "   rating_scaled  episodes_scaled  user_id  rating  \n",
      "0        0.92437          0.00055       99       5  \n",
      "1        0.92437          0.00055      152      10  \n",
      "2        0.92437          0.00055      244      10  \n",
      "3        0.92437          0.00055      271      10  \n",
      "4        0.92437          0.00055      278      -1  \n"
     ]
    }
   ],
   "source": [
    "print(anime_data_merged.head())"
   ]
  },
  {
   "cell_type": "markdown",
   "id": "c41d5134",
   "metadata": {},
   "source": [
    "# Modeling and Result:"
   ]
  },
  {
   "cell_type": "markdown",
   "id": "76080739",
   "metadata": {},
   "source": [
    "## Solusi 1: Content-based Filtering\n"
   ]
  },
  {
   "cell_type": "code",
   "execution_count": 39,
   "id": "84d16023",
   "metadata": {},
   "outputs": [],
   "source": [
    "# Import library yang diperlukan:\n",
    "# TfidfVectorizer dari sklearn.feature_extraction.text: Digunakan untuk mengubah teks menjadi representasi vektor menggunakan metode TF-IDF.\n",
    "from sklearn.feature_extraction.text import TfidfVectorizer\n",
    "\n",
    "# linear_kernel dari sklearn.metrics.pairwise: Digunakan untuk menghitung cosine similarity antara vektor-vektor.\n",
    "from sklearn.metrics.pairwise import linear_kernel"
   ]
  },
  {
   "cell_type": "code",
   "execution_count": 30,
   "id": "86534949",
   "metadata": {},
   "outputs": [],
   "source": [
    "# Menghapus baris dengan nilai genre yang hilang (NaN) dari dataframe \n",
    "anime_data_final.dropna(subset=['genre'], inplace=True)"
   ]
  },
  {
   "cell_type": "code",
   "execution_count": 31,
   "id": "2d4c211f",
   "metadata": {},
   "outputs": [],
   "source": [
    "# Membuat TF-IDF matrix:\n",
    "# Membuat objek TfidfVectorizer() dengan parameter default.\n",
    "tfidf = TfidfVectorizer()\n",
    "\n",
    "# Menggunakan objek tfidf untuk mengubah kolom \"genre\" dari dataframe anime_data_final menjadi representasi vektor TF-IDF menggunakan metode fit_transform().\n",
    "# Hasilnya disimpan dalam variabel anime_matrix.\n",
    "anime_matrix = tfidf.fit_transform(anime_data_final[\"genre\"])"
   ]
  },
  {
   "cell_type": "code",
   "execution_count": 32,
   "id": "f7a36945",
   "metadata": {},
   "outputs": [],
   "source": [
    "# Menghitung cosine similarity:\n",
    "\n",
    "# Menggunakan metode linear_kernel() untuk menghitung cosine similarity antara vektor-vektor dalam anime_matrix.\n",
    "# Hasilnya disimpan dalam variabel cosine_sim.\n",
    "cosine_sim = linear_kernel(anime_matrix, anime_matrix)"
   ]
  },
  {
   "cell_type": "code",
   "execution_count": 36,
   "id": "ef7b622b",
   "metadata": {},
   "outputs": [],
   "source": [
    "# Membuat fungsi get_content_based_recommendations() untuk mendapatkan rekomendasi berdasarkan konten:\n",
    "\n",
    "def get_content_based_recommendations(title, cosine_sim=cosine_sim, anime_data=anime_data_final, top_n=5): # Menerima parameter title (judul anime yang ingin direkomendasikan), cosine_sim, anime_data, dan top_n (jumlah rekomendasi yang diinginkan).\n",
    "    # Mengambil indeks anime dengan judul yang sesuai dari dataframe anime_data.\n",
    "    idx = anime_data[anime_data[\"name\"] == title].index[0]\n",
    "    \n",
    "    # Menghitung skor kesamaan pairwise antara anime yang diberikan dengan anime lainnya dari cosine_sim.\n",
    "    sim_scores = list(enumerate(cosine_sim[idx]))\n",
    "    \n",
    "    # Mengurutkan anime berdasarkan skor kesamaan secara menurun.\n",
    "    sim_scores = sorted(sim_scores, key=lambda x: x[1], reverse=True)\n",
    "    \n",
    "    # Mengambil indeks anime teratas (kecuali anime itu sendiri) sesuai dengan jumlah rekomendasi yang diinginkan.\n",
    "    top_anime_indices = [i[0] for i in sim_scores[1:top_n+1]]\n",
    "    \n",
    "    # Mengembalikan judul anime dan genre rekomendasi dalam dataframe.\n",
    "    return anime_data.loc[top_anime_indices, [\"name\", \"genre\"]]"
   ]
  },
  {
   "cell_type": "code",
   "execution_count": 37,
   "id": "a777e16f",
   "metadata": {},
   "outputs": [
    {
     "name": "stdout",
     "output_type": "stream",
     "text": [
      "Content-based Recommendations for Naruto\n",
      "                                                   name                                              genre\n",
      "615                                  Naruto: Shippuuden  Action, Comedy, Martial Arts, Shounen, Super P...\n",
      "841                                              Naruto  Action, Comedy, Martial Arts, Shounen, Super P...\n",
      "1103  Boruto: Naruto the Movie - Naruto ga Hokage ni...  Action, Comedy, Martial Arts, Shounen, Super P...\n",
      "1343                                        Naruto x UT  Action, Comedy, Martial Arts, Shounen, Super P...\n",
      "1472        Naruto: Shippuuden Movie 4 - The Lost Tower  Action, Comedy, Martial Arts, Shounen, Super P...\n"
     ]
    }
   ],
   "source": [
    "# Menggunakan fungsi get_content_based_recommendations() untuk mendapatkan rekomendasi berdasarkan konten untuk judul anime \"Naruto\".\n",
    "# Hasil rekomendasi disimpan dalam variabel content_based_recommendations.\n",
    "anime_title = \"Naruto\"\n",
    "content_based_recommendations = get_content_based_recommendations(anime_title)\n",
    "if content_based_recommendations is not None:\n",
    "    print(\"Content-based Recommendations for\", anime_title)\n",
    "    print(content_based_recommendations)"
   ]
  },
  {
   "cell_type": "markdown",
   "id": "61cd827b",
   "metadata": {},
   "source": [
    "## Solusi 2: Collaborative Filtering"
   ]
  },
  {
   "cell_type": "code",
   "execution_count": 96,
   "id": "dd8f246b",
   "metadata": {},
   "outputs": [],
   "source": [
    "# Menggunakan library surprise untuk melakukan Collaborative Filtering.\n",
    "from surprise import Reader, Dataset, KNNBasic\n",
    "from surprise.model_selection import train_test_split"
   ]
  },
  {
   "cell_type": "code",
   "execution_count": 97,
   "id": "5053cc15",
   "metadata": {},
   "outputs": [],
   "source": [
    "# Membuat objek Reader dengan menyebutkan skala rating yang digunakan.\n",
    "reader = Reader(rating_scale=(1, 10))\n",
    "# Membuat Dataset menggunakan load_from_df() dengan memasukkan data pengguna, anime, dan rating dari dataframe sampled_data.\n",
    "data = Dataset.load_from_df(sampled_data[[\"user_id\", \"anime_id\", \"rating\"]], reader)"
   ]
  },
  {
   "cell_type": "code",
   "execution_count": 98,
   "id": "743922f1",
   "metadata": {},
   "outputs": [],
   "source": [
    "# Memisahkan dataset menjadi train set dan test set menggunakan train_test_split(), dengan proporsi 80:20.\n",
    "trainset, testset = train_test_split(data, test_size=0.2, random_state=42)"
   ]
  },
  {
   "cell_type": "code",
   "execution_count": 99,
   "id": "d1b962eb",
   "metadata": {},
   "outputs": [
    {
     "name": "stdout",
     "output_type": "stream",
     "text": [
      "Computing the msd similarity matrix...\n",
      "Done computing similarity matrix.\n"
     ]
    },
    {
     "data": {
      "text/plain": [
       "<surprise.prediction_algorithms.knns.KNNBasic at 0x266d05517c0>"
      ]
     },
     "execution_count": 99,
     "metadata": {},
     "output_type": "execute_result"
    }
   ],
   "source": [
    "# Membuat model Collaborative Filtering menggunakan KNNBasic().\n",
    "model = KNNBasic()\n",
    "# Melatih model menggunakan fit() dengan menggunakan train set.\n",
    "model.fit(trainset)"
   ]
  },
  {
   "cell_type": "code",
   "execution_count": 100,
   "id": "01e43f28",
   "metadata": {},
   "outputs": [],
   "source": [
    "# Membuat fungsi get_collaborative_filtering_recommendations() untuk mendapatkan rekomendasi berdasarkan Collaborative Filtering untuk pengguna tertentu.\n",
    "# Memasukkan user_id, model Collaborative Filtering, data anime, dan jumlah rekomendasi yang diinginkan.\n",
    "def get_collaborative_filtering_recommendations(user_id, model=model, anime_data=anime_data_final, top_n=5):\n",
    "    # Untuk setiap anime_id yang ada, melakukan prediksi rating pengguna menggunakan model.predict().\n",
    "    user_recommendations = []\n",
    "    anime_ids = anime_data[\"anime_id\"].unique()\n",
    "    for anime_id in anime_ids:\n",
    "        predicted_rating = model.predict(user_id, anime_id).est\n",
    "        user_recommendations.append((anime_id, predicted_rating))\n",
    "    \n",
    "    # Mengurutkan rekomendasi berdasarkan prediksi rating secara menurun.\n",
    "    user_recommendations = sorted(user_recommendations, key=lambda x: x[1], reverse=True)\n",
    "    \n",
    "    # Mengambil top-N anime berdasarkan rekomendasi.\n",
    "    top_anime_ids = [rec[0] for rec in user_recommendations[:top_n]]\n",
    "    top_anime_titles = anime_data[anime_data[\"anime_id\"].isin(top_anime_ids)][\"name\"]\n",
    "    \n",
    "    # Mengembalikan judul anime rekomendasi.\n",
    "    return top_anime_titles\n"
   ]
  },
  {
   "cell_type": "code",
   "execution_count": 101,
   "id": "e4b8d750",
   "metadata": {},
   "outputs": [
    {
     "name": "stdout",
     "output_type": "stream",
     "text": [
      "Collaborative Filtering Recommendations for User 100 0                      Kimi no Na wa.\n",
      "1    Fullmetal Alchemist: Brotherhood\n",
      "2                            Gintama°\n",
      "3                         Steins;Gate\n",
      "4                       Gintama&#039;\n",
      "Name: name, dtype: object\n"
     ]
    }
   ],
   "source": [
    "# Menggunakan fungsi get_collaborative_filtering_recommendations() untuk mendapatkan rekomendasi Collaborative Filtering untuk pengguna dengan user_id tertentu.\n",
    "user_id = 100\n",
    "# Hasil rekomendasi disimpan dalam variabel collaborative_filtering_recommendations.\n",
    "collaborative_filtering_recommendations = get_collaborative_filtering_recommendations(user_id)\n",
    "\n",
    "print(\"Collaborative Filtering Recommendations for User\", user_id, collaborative_filtering_recommendations)"
   ]
  },
  {
   "cell_type": "markdown",
   "id": "5797df09",
   "metadata": {},
   "source": [
    "# Evaluation:\n"
   ]
  },
  {
   "cell_type": "code",
   "execution_count": 112,
   "id": "e4ad849e",
   "metadata": {},
   "outputs": [
    {
     "name": "stdout",
     "output_type": "stream",
     "text": [
      "RMSE: 3.6229\n",
      "RMSE for Collaborative Filtering: 3.6229269934681265\n"
     ]
    }
   ],
   "source": [
    "# Evaluasi Collaborative Filtering Recommendations menggunakan RMSE\n",
    "def evaluate_collaborative_filtering(model, testset):\n",
    "    predictions = model.test(testset)\n",
    "    rmse = accuracy.rmse(predictions)\n",
    "    return rmse\n",
    "\n",
    "testset = testset \n",
    "rmse = evaluate_collaborative_filtering(model, testset)\n",
    "print(\"RMSE for Collaborative Filtering:\", rmse)"
   ]
  },
  {
   "cell_type": "code",
   "execution_count": null,
   "id": "b3046c4b",
   "metadata": {},
   "outputs": [],
   "source": []
  }
 ],
 "metadata": {
  "kernelspec": {
   "display_name": "Python 3 (ipykernel)",
   "language": "python",
   "name": "python3"
  },
  "language_info": {
   "codemirror_mode": {
    "name": "ipython",
    "version": 3
   },
   "file_extension": ".py",
   "mimetype": "text/x-python",
   "name": "python",
   "nbconvert_exporter": "python",
   "pygments_lexer": "ipython3",
   "version": "3.9.13"
  }
 },
 "nbformat": 4,
 "nbformat_minor": 5
}
